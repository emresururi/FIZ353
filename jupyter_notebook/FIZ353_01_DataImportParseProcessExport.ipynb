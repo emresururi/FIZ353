{
 "cells": [
  {
   "cell_type": "markdown",
   "metadata": {},
   "source": [
    "# Importing, parsing, processing and exporting datasets (with the Pandas module)\n",
    "**FIZ353 - Numerical Analysis | 09/10/2020**\n",
    "\n",
    "    Importing a CSV file with Pandas\n",
    "        Getting rid of the unnecessary header stuff\n",
    "        Designating the column labels\n",
    "        Designating the index using one of the columns\n",
    "    Accessing to the data\n",
    "        Old-school style: referring via the col/row indexes\n",
    "        Referring via the col/row labels\n",
    "    Filtering\n",
    "    Processing\n",
    "    Creating a DataFrame\n",
    "    Exporting the DataFrame to a CSV file\n",
    "\n",
    "\n",
    "Emre S. Tasci <emre.tasci@hacettepe.edu.tr>"
   ]
  },
  {
   "cell_type": "markdown",
   "metadata": {},
   "source": [
    "Numerical analysis deals with various kinds of data: be it experimental results, surveys, collected values, etc. But one thing is almost always sure: there's always a huge amount of data lying around and we will be trying to make the most of it.\n",
    "\n",
    "The first step to data processing is, of course to introduce the data to our code via importing (load)."
   ]
  },
  {
   "cell_type": "markdown",
   "metadata": {},
   "source": [
    "Most of the time, the data is collected in matrix form and stored in comma-separated value (CSV) form, e.g.,"
   ]
  },
  {
   "cell_type": "raw",
   "metadata": {},
   "source": [
    "location,Ankara,Ankara,Ankara\n",
    "lat,40.01502,40.01502,40.01502\n",
    "lon,32.73532,32.73532,32.73532\n",
    "asl,923.411,923.411,923.411\n",
    "variable,Temperature,Relative Humidity,Precipitation Total\n",
    "unit,°C,%,mm\n",
    "level,2 m elevation corrected,2 m,sfc\n",
    "resolution,hourly,hourly,hourly\n",
    "aggregation,None,None,None\n",
    "timestamp,Ankara Temperature [2 m elevation corrected],Ankara Relative Humidity [2 m],Ankara Precipitation Total\n",
    "20201001T0000,12.437169,59.0,0.0\n",
    "20201001T0100,12.557169,63.0,0.0\n",
    "20201001T0200,13.177169,68.0,0.0\n",
    "20201001T0300,13.087169,76.0,0.0\n",
    "20201001T0400,12.867169,81.0,0.0\n",
    "20201001T0500,11.567169,88.0,0.0\n",
    "20201001T0600,11.177169,90.0,0.0\n",
    "20201001T0700,12.187169,87.0,0.0\n",
    "20201001T0800,13.797169,78.0,0.0\n",
    "20201001T0900,14.967169,72.0,0.0\n",
    "20201001T1000,16.787169,62.0,0.0\n",
    "20201001T1100,18.367168,55.0,0.0\n",
    "20201001T1200,20.957169,41.0,0.0\n",
    "20201001T1300,22.057169,36.0,0.0\n",
    "(...)\n",
    "20201008T2100,24.777168,22.0,0.0\n",
    "20201008T2200,23.627169,24.0,0.0\n",
    "20201008T2300,22.727169,27.0,0.0"
   ]
  },
  {
   "cell_type": "markdown",
   "metadata": {},
   "source": [
    "The data above is taken from [meteoblue](https://www.meteoblue.com/en/weather/historyclimate/weatherarchive/ankara_turkey_323786) site and contains the temperature, humidity and precipation data for Ankara for this month so far (8 days). But as you can observe, the actual data begins on the 11th line, with the previous lines containing identification information like location, coordinates, units, etc. This kind of preinformation lines are reffered to as _headers_."
   ]
  },
  {
   "cell_type": "markdown",
   "metadata": {},
   "source": [
    "## Importing a CSV file with Pandas"
   ]
  },
  {
   "cell_type": "markdown",
   "metadata": {},
   "source": [
    "Importing the data in a CSV file is pretty straight-forward using Pandas' [`read_csv`](https://pandas.pydata.org/pandas-docs/stable/reference/api/pandas.read_csv.html) command:"
   ]
  },
  {
   "cell_type": "code",
   "execution_count": 1,
   "metadata": {},
   "outputs": [
    {
     "name": "stdout",
     "output_type": "stream",
     "text": [
      "          location       Ankara           Ankara.1             Ankara.2\n",
      "0              lat     40.01502           40.01502             40.01502\n",
      "1              lon     32.73532           32.73532             32.73532\n",
      "2              asl      923.411            923.411              923.411\n",
      "3         variable  Temperature  Relative Humidity  Precipitation Total\n",
      "4             unit           °C                  %                   mm\n",
      "..             ...          ...                ...                  ...\n",
      "196  20201008T1900    26.437168               20.0                  0.0\n",
      "197  20201008T2000     25.56717               21.0                  0.0\n",
      "198  20201008T2100    24.777168               22.0                  0.0\n",
      "199  20201008T2200    23.627169               24.0                  0.0\n",
      "200  20201008T2300    22.727169               27.0                  0.0\n",
      "\n",
      "[201 rows x 4 columns]\n"
     ]
    }
   ],
   "source": [
    "import pandas as pd\n",
    "data_with_headerclutter = pd.read_csv(\"01_dataexport_20201008T180753.csv\")\n",
    "print(data_with_headerclutter)"
   ]
  },
  {
   "cell_type": "markdown",
   "metadata": {},
   "source": [
    "Here we see a couple of things, the foremost important one being that, Pandas don't worry about different types of variables as NumPy would. It just takes whatever it finds and -for the moment- treating the first line as the header row, takes all in.\n",
    "\n",
    "Second, when we ask it to display the imported data, it prints a summary of things, 5 lines from the top and 5 lines from the bottom, also reporting the true size \\[201 x 4\\]. We can change the number of lines shown by setting the 'display.min_rows' & 'display.max_rows' options:"
   ]
  },
  {
   "cell_type": "code",
   "execution_count": 2,
   "metadata": {},
   "outputs": [
    {
     "name": "stdout",
     "output_type": "stream",
     "text": [
      "          location     Ankara  Ankara.1  Ankara.2\n",
      "0              lat   40.01502  40.01502  40.01502\n",
      "1              lon   32.73532  32.73532  32.73532\n",
      "2              asl    923.411   923.411   923.411\n",
      "..             ...        ...       ...       ...\n",
      "198  20201008T2100  24.777168      22.0       0.0\n",
      "199  20201008T2200  23.627169      24.0       0.0\n",
      "200  20201008T2300  22.727169      27.0       0.0\n",
      "\n",
      "[201 rows x 4 columns]\n"
     ]
    }
   ],
   "source": [
    "## Display a total of 6 rows only\n",
    "#pd.set_option('display.min_rows', 6)\n",
    "pd.set_option('display.max_rows', 6)\n",
    "print(data_with_headerclutter)\n",
    "## We can as well print it out by direct referral:\n",
    "#data_with_headers"
   ]
  },
  {
   "cell_type": "code",
   "execution_count": 3,
   "metadata": {},
   "outputs": [
    {
     "data": {
      "text/plain": [
       "(201, 4)"
      ]
     },
     "execution_count": 3,
     "metadata": {},
     "output_type": "execute_result"
    }
   ],
   "source": [
    "data_with_headerclutter.shape"
   ]
  },
  {
   "cell_type": "code",
   "execution_count": 4,
   "metadata": {
    "scrolled": false
   },
   "outputs": [
    {
     "name": "stdout",
     "output_type": "stream",
     "text": [
      "          location                                        Ankara  \\\n",
      "0              lat                                      40.01502   \n",
      "1              lon                                      32.73532   \n",
      "2              asl                                       923.411   \n",
      "3         variable                                   Temperature   \n",
      "4             unit                                            °C   \n",
      "5            level                       2 m elevation corrected   \n",
      "6       resolution                                        hourly   \n",
      "7      aggregation                                          None   \n",
      "8        timestamp  Ankara Temperature [2 m elevation corrected]   \n",
      "9    20201001T0000                                     12.437169   \n",
      "10   20201001T0100                                     12.557169   \n",
      "11   20201001T0200                                     13.177169   \n",
      "12   20201001T0300                                     13.087169   \n",
      "13   20201001T0400                                     12.867169   \n",
      "14   20201001T0500                                     11.567169   \n",
      "15   20201001T0600                                     11.177169   \n",
      "16   20201001T0700                                     12.187169   \n",
      "17   20201001T0800                                     13.797169   \n",
      "18   20201001T0900                                     14.967169   \n",
      "19   20201001T1000                                     16.787169   \n",
      "20   20201001T1100                                     18.367168   \n",
      "21   20201001T1200                                     20.957169   \n",
      "22   20201001T1300                                     22.057169   \n",
      "23   20201001T1400                                     22.857168   \n",
      "24   20201001T1500                                     23.527168   \n",
      "25   20201001T1600                                      23.40717   \n",
      "26   20201001T1700                                     22.687168   \n",
      "27   20201001T1800                                      21.41717   \n",
      "28   20201001T1900                                     18.537169   \n",
      "29   20201001T2000                                     16.797169   \n",
      "30   20201001T2100                                     14.717169   \n",
      "31   20201001T2200                                     12.627169   \n",
      "32   20201001T2300                                     11.187169   \n",
      "33   20201002T0000                                     9.9971695   \n",
      "34   20201002T0100                                      9.057169   \n",
      "35   20201002T0200                                      8.357169   \n",
      "36   20201002T0300                                      7.727169   \n",
      "37   20201002T0400                                      7.307169   \n",
      "38   20201002T0500                                      7.107169   \n",
      "39   20201002T0600                                      7.177169   \n",
      "40   20201002T0700                                     7.1271687   \n",
      "41   20201002T0800                                      9.537169   \n",
      "42   20201002T0900                                     13.377169   \n",
      "43   20201002T1000                                      16.73717   \n",
      "44   20201002T1100                                     19.697168   \n",
      "45   20201002T1200                                     21.047169   \n",
      "46   20201002T1300                                     22.027168   \n",
      "47   20201002T1400                                     22.787169   \n",
      "48   20201002T1500                                     23.187168   \n",
      "49   20201002T1600                                     23.037169   \n",
      "50   20201002T1700                                     22.357168   \n",
      "51   20201002T1800                                      20.83717   \n",
      "52   20201002T1900                                      18.64717   \n",
      "53   20201002T2000                                      17.67717   \n",
      "54   20201002T2100                                      16.98717   \n",
      "55   20201002T2200                                     16.087168   \n",
      "56   20201002T2300                                     15.297169   \n",
      "57   20201003T0000                                     13.867169   \n",
      "58   20201003T0100                                     12.397169   \n",
      "59   20201003T0200                                     11.107169   \n",
      "60   20201003T0300                                     10.157169   \n",
      "61   20201003T0400                                     10.587169   \n",
      "62   20201003T0500                                     10.507169   \n",
      "63   20201003T0600                                     10.147169   \n",
      "64   20201003T0700                                      9.617169   \n",
      "65   20201003T0800                                     11.397169   \n",
      "66   20201003T0900                                      16.32717   \n",
      "67   20201003T1000                                      20.09717   \n",
      "68   20201003T1100                                     21.947168   \n",
      "69   20201003T1200                                     23.217169   \n",
      "70   20201003T1300                                     24.187168   \n",
      "71   20201003T1400                                     24.887169   \n",
      "72   20201003T1500                                     25.297169   \n",
      "73   20201003T1600                                      25.16717   \n",
      "74   20201003T1700                                     24.477169   \n",
      "75   20201003T1800                                      22.58717   \n",
      "76   20201003T1900                                      20.83717   \n",
      "77   20201003T2000                                     19.797169   \n",
      "78   20201003T2100                                     18.447168   \n",
      "79   20201003T2200                                     16.707169   \n",
      "80   20201003T2300                                     14.087169   \n",
      "81   20201004T0000                                     11.627169   \n",
      "82   20201004T0100                                      9.607169   \n",
      "83   20201004T0200                                      8.857169   \n",
      "84   20201004T0300                                      8.597169   \n",
      "85   20201004T0400                                     10.287169   \n",
      "86   20201004T0500                                     11.367169   \n",
      "87   20201004T0600                                     11.787169   \n",
      "88   20201004T0700                                     11.687169   \n",
      "89   20201004T0800                                     12.857169   \n",
      "90   20201004T0900                                     17.277168   \n",
      "91   20201004T1000                                      20.51717   \n",
      "92   20201004T1100                                     22.697168   \n",
      "93   20201004T1200                                     24.217169   \n",
      "94   20201004T1300                                     25.527168   \n",
      "95   20201004T1400                                      26.48717   \n",
      "96   20201004T1500                                      27.06717   \n",
      "97   20201004T1600                                      27.06717   \n",
      "98   20201004T1700                                      26.48717   \n",
      "99   20201004T1800                                     24.357168   \n",
      "100  20201004T1900                                     22.057169   \n",
      "101  20201004T2000                                      20.31717   \n",
      "102  20201004T2100                                      18.31717   \n",
      "103  20201004T2200                                     15.907169   \n",
      "104  20201004T2300                                     13.397169   \n",
      "105  20201005T0000                                     11.437169   \n",
      "106  20201005T0100                                     10.687169   \n",
      "107  20201005T0200                                     10.317169   \n",
      "108  20201005T0300                                     10.107169   \n",
      "109  20201005T0400                                     11.477169   \n",
      "110  20201005T0500                                     12.227169   \n",
      "111  20201005T0600                                     12.567169   \n",
      "112  20201005T0700                                     12.347169   \n",
      "113  20201005T0800                                     13.457169   \n",
      "114  20201005T0900                                     17.947168   \n",
      "115  20201005T1000                                      21.64717   \n",
      "116  20201005T1100                                     24.447168   \n",
      "117  20201005T1200                                      27.00717   \n",
      "118  20201005T1300                                      29.07717   \n",
      "119  20201005T1400                                      30.67717   \n",
      "120  20201005T1500                                     31.867168   \n",
      "121  20201005T1600                                     31.697168   \n",
      "122  20201005T1700                                     30.627169   \n",
      "123  20201005T1800                                      28.06717   \n",
      "124  20201005T1900                                     25.797169   \n",
      "125  20201005T2000                                     22.367168   \n",
      "126  20201005T2100                                      18.81717   \n",
      "127  20201005T2200                                      16.58717   \n",
      "128  20201005T2300                                     15.387169   \n",
      "129  20201006T0000                                     14.857169   \n",
      "130  20201006T0100                                     14.467169   \n",
      "131  20201006T0200                                     14.337169   \n",
      "132  20201006T0300                                     14.147169   \n",
      "133  20201006T0400                                     15.477169   \n",
      "134  20201006T0500                                     16.107168   \n",
      "135  20201006T0600                                     16.297169   \n",
      "136  20201006T0700                                     16.097168   \n",
      "137  20201006T0800                                     17.227169   \n",
      "138  20201006T0900                                      21.34717   \n",
      "139  20201006T1000                                     25.057169   \n",
      "140  20201006T1100                                     28.187168   \n",
      "141  20201006T1200                                      30.57717   \n",
      "142  20201006T1300                                      31.84717   \n",
      "143  20201006T1400                                      32.27717   \n",
      "144  20201006T1500                                      32.33717   \n",
      "145  20201006T1600                                     31.947168   \n",
      "146  20201006T1700                                     30.807169   \n",
      "147  20201006T1800                                      28.65717   \n",
      "148  20201006T1900                                     26.527168   \n",
      "149  20201006T2000                                     22.297169   \n",
      "150  20201006T2100                                      19.40717   \n",
      "151  20201006T2200                                      17.01717   \n",
      "152  20201006T2300                                     15.407169   \n",
      "153  20201007T0000                                     14.817169   \n",
      "154  20201007T0100                                    14.7471695   \n",
      "155  20201007T0200                                     14.847169   \n",
      "156  20201007T0300                                     15.127169   \n",
      "157  20201007T0400                                      16.49717   \n",
      "158  20201007T0500                                      17.00717   \n",
      "159  20201007T0600                                      17.16717   \n",
      "160  20201007T0700                                      17.07717   \n",
      "161  20201007T0800                                      18.32717   \n",
      "162  20201007T0900                                      22.24717   \n",
      "163  20201007T1000                                      25.92717   \n",
      "164  20201007T1100                                     28.807169   \n",
      "165  20201007T1200                                     30.807169   \n",
      "166  20201007T1300                                     31.717169   \n",
      "167  20201007T1400                                     32.057167   \n",
      "168  20201007T1500                                     32.107166   \n",
      "169  20201007T1600                                      31.39717   \n",
      "170  20201007T1700                                      30.33717   \n",
      "171  20201007T1800                                      28.56717   \n",
      "172  20201007T1900                                      27.07717   \n",
      "173  20201007T2000                                      26.34717   \n",
      "174  20201007T2100                                     25.867168   \n",
      "175  20201007T2200                                     24.947168   \n",
      "176  20201007T2300                                     24.117168   \n",
      "177  20201008T0000                                     24.047169   \n",
      "178  20201008T0100                                      22.50717   \n",
      "179  20201008T0200                                     21.047169   \n",
      "180  20201008T0300                                      19.51717   \n",
      "181  20201008T0400                                     18.447168   \n",
      "182  20201008T0500                                      17.41717   \n",
      "183  20201008T0600                                      16.59717   \n",
      "184  20201008T0700                                     15.627169   \n",
      "185  20201008T0800                                      17.15717   \n",
      "186  20201008T0900                                      22.51717   \n",
      "187  20201008T1000                                     25.977169   \n",
      "188  20201008T1100                                      28.51717   \n",
      "189  20201008T1200                                      29.56717   \n",
      "190  20201008T1300                                     29.137169   \n",
      "191  20201008T1400                                      30.00717   \n",
      "192  20201008T1500                                     30.287169   \n",
      "193  20201008T1600                                     30.357168   \n",
      "194  20201008T1700                                     29.857168   \n",
      "195  20201008T1800                                      28.33717   \n",
      "196  20201008T1900                                     26.437168   \n",
      "197  20201008T2000                                      25.56717   \n",
      "198  20201008T2100                                     24.777168   \n",
      "199  20201008T2200                                     23.627169   \n",
      "200  20201008T2300                                     22.727169   \n",
      "\n",
      "                           Ankara.1                    Ankara.2  \n",
      "0                          40.01502                    40.01502  \n",
      "1                          32.73532                    32.73532  \n",
      "2                           923.411                     923.411  \n",
      "3                 Relative Humidity         Precipitation Total  \n",
      "4                                 %                          mm  \n",
      "5                               2 m                         sfc  \n",
      "6                            hourly                      hourly  \n",
      "7                              None                        None  \n",
      "8    Ankara Relative Humidity [2 m]  Ankara Precipitation Total  \n",
      "9                              59.0                         0.0  \n",
      "10                             63.0                         0.0  \n",
      "11                             68.0                         0.0  \n",
      "12                             76.0                         0.0  \n",
      "13                             81.0                         0.0  \n",
      "14                             88.0                         0.0  \n",
      "15                             90.0                         0.0  \n",
      "16                             87.0                         0.0  \n",
      "17                             78.0                         0.0  \n",
      "18                             72.0                         0.0  \n",
      "19                             62.0                         0.0  \n",
      "20                             55.0                         0.0  \n",
      "21                             41.0                         0.0  \n",
      "22                             36.0                         0.0  \n",
      "23                             33.0                         0.0  \n",
      "24                             29.0                         0.0  \n",
      "25                             28.0                         0.0  \n",
      "26                             28.0                         0.0  \n",
      "27                             30.0                         0.0  \n",
      "28                             35.0                         0.0  \n",
      "29                             39.0                         0.0  \n",
      "30                             44.0                         0.0  \n",
      "31                             54.0                         0.0  \n",
      "32                             64.0                         0.0  \n",
      "33                             72.0                         0.0  \n",
      "34                             80.0                         0.0  \n",
      "35                             86.0                         0.0  \n",
      "36                             89.0                         0.0  \n",
      "37                             90.0                         0.0  \n",
      "38                             92.0                         0.0  \n",
      "39                             91.0                         0.0  \n",
      "40                             90.0                         0.0  \n",
      "41                             76.0                         0.0  \n",
      "42                             64.0                         0.0  \n",
      "43                             52.0                         0.0  \n",
      "44                             38.0                         0.0  \n",
      "45                             29.0                         0.0  \n",
      "46                             26.0                         0.0  \n",
      "47                             23.0                         0.0  \n",
      "48                             22.0                         0.0  \n",
      "49                             20.0                         0.0  \n",
      "50                             21.0                         0.0  \n",
      "51                             23.0                         0.0  \n",
      "52                             26.0                         0.0  \n",
      "53                             28.0                         0.0  \n",
      "54                             29.0                         0.0  \n",
      "55                             31.0                         0.0  \n",
      "56                             33.0                         0.0  \n",
      "57                             36.0                         0.0  \n",
      "58                             41.0                         0.0  \n",
      "59                             46.0                         0.0  \n",
      "60                             51.0                         0.0  \n",
      "61                             51.0                         0.0  \n",
      "62                             50.0                         0.0  \n",
      "63                             49.0                         0.0  \n",
      "64                             47.0                         0.0  \n",
      "65                             42.0                         0.0  \n",
      "66                             31.0                         0.0  \n",
      "67                             24.0                         0.0  \n",
      "68                             21.0                         0.0  \n",
      "69                             19.0                         0.0  \n",
      "70                             18.0                         0.0  \n",
      "71                             16.0                         0.0  \n",
      "72                             16.0                         0.0  \n",
      "73                             15.0                         0.0  \n",
      "74                             16.0                         0.0  \n",
      "75                             19.0                         0.0  \n",
      "76                             21.0                         0.0  \n",
      "77                             23.0                         0.0  \n",
      "78                             25.0                         0.0  \n",
      "79                             29.0                         0.0  \n",
      "80                             35.0                         0.0  \n",
      "81                             44.0                         0.0  \n",
      "82                             57.0                         0.0  \n",
      "83                             65.0                         0.0  \n",
      "84                             70.0                         0.0  \n",
      "85                             62.0                         0.0  \n",
      "86                             55.0                         0.0  \n",
      "87                             51.0                         0.0  \n",
      "88                             50.0                         0.0  \n",
      "89                             46.0                         0.0  \n",
      "90                             35.0                         0.0  \n",
      "91                             28.0                         0.0  \n",
      "92                             25.0                         0.0  \n",
      "93                             21.0                         0.0  \n",
      "94                             18.0                         0.0  \n",
      "95                             15.0                         0.0  \n",
      "96                             14.0                         0.0  \n",
      "97                             14.0                         0.0  \n",
      "98                             15.0                         0.0  \n",
      "99                             17.0                         0.0  \n",
      "100                            20.0                         0.0  \n",
      "101                            23.0                         0.0  \n",
      "102                            27.0                         0.0  \n",
      "103                            32.0                         0.0  \n",
      "104                            38.0                         0.0  \n",
      "105                            46.0                         0.0  \n",
      "106                            50.0                         0.0  \n",
      "107                            54.0                         0.0  \n",
      "108                            55.0                         0.0  \n",
      "109                            51.0                         0.0  \n",
      "110                            48.0                         0.0  \n",
      "111                            46.0                         0.0  \n",
      "112                            46.0                         0.0  \n",
      "113                            42.0                         0.0  \n",
      "114                            32.0                         0.0  \n",
      "115                            25.0                         0.0  \n",
      "116                            21.0                         0.0  \n",
      "117                            18.0                         0.0  \n",
      "118                            15.0                         0.0  \n",
      "119                            14.0                         0.0  \n",
      "120                            13.0                         0.0  \n",
      "121                            14.0                         0.0  \n",
      "122                            15.0                         0.0  \n",
      "123                            19.0                         0.0  \n",
      "124                            23.0                         0.0  \n",
      "125                            29.0                         0.0  \n",
      "126                            36.0                         0.0  \n",
      "127                            42.0                         0.0  \n",
      "128                            45.0                         0.0  \n",
      "129                            47.0                         0.0  \n",
      "130                            49.0                         0.0  \n",
      "131                            50.0                         0.0  \n",
      "132                            51.0                         0.0  \n",
      "133                            47.0                         0.0  \n",
      "134                            46.0                         0.0  \n",
      "135                            45.0                         0.0  \n",
      "136                            46.0                         0.0  \n",
      "137                            43.0                         0.0  \n",
      "138                            33.0                         0.0  \n",
      "139                            27.0                         0.0  \n",
      "140                            22.0                         0.0  \n",
      "141                            18.0                         0.0  \n",
      "142                            16.0                         0.0  \n",
      "143                            15.0                         0.0  \n",
      "144                            15.0                         0.0  \n",
      "145                            15.0                         0.0  \n",
      "146                            16.0                         0.0  \n",
      "147                            19.0                         0.0  \n",
      "148                            22.0                         0.0  \n",
      "149                            29.0                         0.0  \n",
      "150                            35.0                         0.0  \n",
      "151                            42.0                         0.0  \n",
      "152                            48.0                         0.0  \n",
      "153                            51.0                         0.0  \n",
      "154                            51.0                         0.0  \n",
      "155                            51.0                         0.0  \n",
      "156                            49.0                         0.0  \n",
      "157                            44.0                         0.0  \n",
      "158                            42.0                         0.0  \n",
      "159                            41.0                         0.0  \n",
      "160                            42.0                         0.0  \n",
      "161                            39.0                         0.0  \n",
      "162                            31.0                         0.0  \n",
      "163                            25.0                         0.0  \n",
      "164                            20.0                         0.0  \n",
      "165                            18.0                         0.0  \n",
      "166                            17.0                         0.0  \n",
      "167                            16.0                         0.0  \n",
      "168                            15.0                         0.0  \n",
      "169                            15.0                         0.0  \n",
      "170                            17.0                         0.0  \n",
      "171                            20.0                         0.0  \n",
      "172                            22.0                         0.0  \n",
      "173                            24.0                         0.0  \n",
      "174                            24.0                         0.0  \n",
      "175                            26.0                         0.0  \n",
      "176                            27.0                         0.0  \n",
      "177                            28.0                         0.0  \n",
      "178                            30.0                         0.0  \n",
      "179                            33.0                         0.0  \n",
      "180                            37.0                         0.0  \n",
      "181                            40.0                         0.0  \n",
      "182                            44.0                         0.0  \n",
      "183                            50.0                         0.0  \n",
      "184                            57.0                         0.0  \n",
      "185                            52.0                         0.0  \n",
      "186                            36.0                         0.0  \n",
      "187                            30.0                         0.0  \n",
      "188                            26.0                         0.0  \n",
      "189                            24.0                         0.0  \n",
      "190                            19.0                         0.0  \n",
      "191                            17.0                         0.0  \n",
      "192                            16.0                         0.0  \n",
      "193                            16.0                         0.0  \n",
      "194                            16.0                         0.0  \n",
      "195                            18.0                         0.0  \n",
      "196                            20.0                         0.0  \n",
      "197                            21.0                         0.0  \n",
      "198                            22.0                         0.0  \n",
      "199                            24.0                         0.0  \n",
      "200                            27.0                         0.0  \n"
     ]
    }
   ],
   "source": [
    "## Display all rows \n",
    "pd.set_option('display.max_rows', None)\n",
    "print(data_with_headerclutter)"
   ]
  },
  {
   "cell_type": "markdown",
   "metadata": {},
   "source": [
    "### Getting rid of the unnecessary header stuff\n",
    "The headers are getting in the way (especially the 10th line (\"timestamp | Ankara Temp...\") even messes the output due to its enormous width. So we simply tell Pandas to start parsing from the 11th line (10th on the zero-indexed, thus we will be skipping 9 lines):"
   ]
  },
  {
   "cell_type": "code",
   "execution_count": 5,
   "metadata": {
    "scrolled": true
   },
   "outputs": [
    {
     "data": {
      "text/html": [
       "<div>\n",
       "<style scoped>\n",
       "    .dataframe tbody tr th:only-of-type {\n",
       "        vertical-align: middle;\n",
       "    }\n",
       "\n",
       "    .dataframe tbody tr th {\n",
       "        vertical-align: top;\n",
       "    }\n",
       "\n",
       "    .dataframe thead th {\n",
       "        text-align: right;\n",
       "    }\n",
       "</style>\n",
       "<table border=\"1\" class=\"dataframe\">\n",
       "  <thead>\n",
       "    <tr style=\"text-align: right;\">\n",
       "      <th></th>\n",
       "      <th>timestamp</th>\n",
       "      <th>Ankara Temperature [2 m elevation corrected]</th>\n",
       "      <th>Ankara Relative Humidity [2 m]</th>\n",
       "      <th>Ankara Precipitation Total</th>\n",
       "    </tr>\n",
       "  </thead>\n",
       "  <tbody>\n",
       "    <tr>\n",
       "      <th>0</th>\n",
       "      <td>20201001T0000</td>\n",
       "      <td>12.437169</td>\n",
       "      <td>59.0</td>\n",
       "      <td>0.0</td>\n",
       "    </tr>\n",
       "    <tr>\n",
       "      <th>1</th>\n",
       "      <td>20201001T0100</td>\n",
       "      <td>12.557169</td>\n",
       "      <td>63.0</td>\n",
       "      <td>0.0</td>\n",
       "    </tr>\n",
       "    <tr>\n",
       "      <th>2</th>\n",
       "      <td>20201001T0200</td>\n",
       "      <td>13.177169</td>\n",
       "      <td>68.0</td>\n",
       "      <td>0.0</td>\n",
       "    </tr>\n",
       "    <tr>\n",
       "      <th>3</th>\n",
       "      <td>20201001T0300</td>\n",
       "      <td>13.087169</td>\n",
       "      <td>76.0</td>\n",
       "      <td>0.0</td>\n",
       "    </tr>\n",
       "    <tr>\n",
       "      <th>4</th>\n",
       "      <td>20201001T0400</td>\n",
       "      <td>12.867169</td>\n",
       "      <td>81.0</td>\n",
       "      <td>0.0</td>\n",
       "    </tr>\n",
       "    <tr>\n",
       "      <th>...</th>\n",
       "      <td>...</td>\n",
       "      <td>...</td>\n",
       "      <td>...</td>\n",
       "      <td>...</td>\n",
       "    </tr>\n",
       "    <tr>\n",
       "      <th>187</th>\n",
       "      <td>20201008T1900</td>\n",
       "      <td>26.437168</td>\n",
       "      <td>20.0</td>\n",
       "      <td>0.0</td>\n",
       "    </tr>\n",
       "    <tr>\n",
       "      <th>188</th>\n",
       "      <td>20201008T2000</td>\n",
       "      <td>25.567170</td>\n",
       "      <td>21.0</td>\n",
       "      <td>0.0</td>\n",
       "    </tr>\n",
       "    <tr>\n",
       "      <th>189</th>\n",
       "      <td>20201008T2100</td>\n",
       "      <td>24.777168</td>\n",
       "      <td>22.0</td>\n",
       "      <td>0.0</td>\n",
       "    </tr>\n",
       "    <tr>\n",
       "      <th>190</th>\n",
       "      <td>20201008T2200</td>\n",
       "      <td>23.627169</td>\n",
       "      <td>24.0</td>\n",
       "      <td>0.0</td>\n",
       "    </tr>\n",
       "    <tr>\n",
       "      <th>191</th>\n",
       "      <td>20201008T2300</td>\n",
       "      <td>22.727169</td>\n",
       "      <td>27.0</td>\n",
       "      <td>0.0</td>\n",
       "    </tr>\n",
       "  </tbody>\n",
       "</table>\n",
       "<p>192 rows × 4 columns</p>\n",
       "</div>"
      ],
      "text/plain": [
       "         timestamp  Ankara Temperature [2 m elevation corrected]  \\\n",
       "0    20201001T0000                                     12.437169   \n",
       "1    20201001T0100                                     12.557169   \n",
       "2    20201001T0200                                     13.177169   \n",
       "3    20201001T0300                                     13.087169   \n",
       "4    20201001T0400                                     12.867169   \n",
       "..             ...                                           ...   \n",
       "187  20201008T1900                                     26.437168   \n",
       "188  20201008T2000                                     25.567170   \n",
       "189  20201008T2100                                     24.777168   \n",
       "190  20201008T2200                                     23.627169   \n",
       "191  20201008T2300                                     22.727169   \n",
       "\n",
       "     Ankara Relative Humidity [2 m]  Ankara Precipitation Total  \n",
       "0                              59.0                         0.0  \n",
       "1                              63.0                         0.0  \n",
       "2                              68.0                         0.0  \n",
       "3                              76.0                         0.0  \n",
       "4                              81.0                         0.0  \n",
       "..                              ...                         ...  \n",
       "187                            20.0                         0.0  \n",
       "188                            21.0                         0.0  \n",
       "189                            22.0                         0.0  \n",
       "190                            24.0                         0.0  \n",
       "191                            27.0                         0.0  \n",
       "\n",
       "[192 rows x 4 columns]"
      ]
     },
     "execution_count": 5,
     "metadata": {},
     "output_type": "execute_result"
    }
   ],
   "source": [
    "import pandas as pd\n",
    "pd.set_option('display.min_rows', 10)\n",
    "pd.set_option('display.max_rows', 10)\n",
    "data_without_headerclutter = pd.read_csv(\"01_dataexport_20201008T180753.csv\",\n",
    "                                         skiprows=9)\n",
    "data_without_headerclutter"
   ]
  },
  {
   "cell_type": "markdown",
   "metadata": {},
   "source": [
    "### Designating the column labels\n",
    "... almost there but it has assumed the previous line before that as the column label line (which is usually true but this time there is just too much clutter), so we'll manually enter the column labels:"
   ]
  },
  {
   "cell_type": "code",
   "execution_count": null,
   "metadata": {},
   "outputs": [],
   "source": []
  },
  {
   "cell_type": "code",
   "execution_count": 6,
   "metadata": {},
   "outputs": [
    {
     "name": "stdout",
     "output_type": "stream",
     "text": [
      "         Timestamp  Temperature  Relative Humidity  Precipitation Total\n",
      "0    20201001T0000    12.437169               59.0                  0.0\n",
      "1    20201001T0100    12.557169               63.0                  0.0\n",
      "2    20201001T0200    13.177169               68.0                  0.0\n",
      "3    20201001T0300    13.087169               76.0                  0.0\n",
      "4    20201001T0400    12.867169               81.0                  0.0\n",
      "..             ...          ...                ...                  ...\n",
      "187  20201008T1900    26.437168               20.0                  0.0\n",
      "188  20201008T2000    25.567170               21.0                  0.0\n",
      "189  20201008T2100    24.777168               22.0                  0.0\n",
      "190  20201008T2200    23.627169               24.0                  0.0\n",
      "191  20201008T2300    22.727169               27.0                  0.0\n",
      "\n",
      "[192 rows x 4 columns]\n"
     ]
    }
   ],
   "source": [
    "data_without_headerclutter.columns = ['Timestamp','Temperature','Relative Humidity',\n",
    "                                      'Precipitation Total']\n",
    "print(data_without_headerclutter)"
   ]
  },
  {
   "cell_type": "code",
   "execution_count": 7,
   "metadata": {
    "scrolled": true
   },
   "outputs": [
    {
     "data": {
      "text/html": [
       "<div>\n",
       "<style scoped>\n",
       "    .dataframe tbody tr th:only-of-type {\n",
       "        vertical-align: middle;\n",
       "    }\n",
       "\n",
       "    .dataframe tbody tr th {\n",
       "        vertical-align: top;\n",
       "    }\n",
       "\n",
       "    .dataframe thead th {\n",
       "        text-align: right;\n",
       "    }\n",
       "</style>\n",
       "<table border=\"1\" class=\"dataframe\">\n",
       "  <thead>\n",
       "    <tr style=\"text-align: right;\">\n",
       "      <th></th>\n",
       "      <th>Timestamp</th>\n",
       "      <th>Temperature</th>\n",
       "      <th>Relative Humidity</th>\n",
       "      <th>Precipitation Total</th>\n",
       "    </tr>\n",
       "  </thead>\n",
       "  <tbody>\n",
       "    <tr>\n",
       "      <th>0</th>\n",
       "      <td>20201001T0000</td>\n",
       "      <td>12.437169</td>\n",
       "      <td>59.0</td>\n",
       "      <td>0.0</td>\n",
       "    </tr>\n",
       "    <tr>\n",
       "      <th>1</th>\n",
       "      <td>20201001T0100</td>\n",
       "      <td>12.557169</td>\n",
       "      <td>63.0</td>\n",
       "      <td>0.0</td>\n",
       "    </tr>\n",
       "    <tr>\n",
       "      <th>2</th>\n",
       "      <td>20201001T0200</td>\n",
       "      <td>13.177169</td>\n",
       "      <td>68.0</td>\n",
       "      <td>0.0</td>\n",
       "    </tr>\n",
       "    <tr>\n",
       "      <th>3</th>\n",
       "      <td>20201001T0300</td>\n",
       "      <td>13.087169</td>\n",
       "      <td>76.0</td>\n",
       "      <td>0.0</td>\n",
       "    </tr>\n",
       "    <tr>\n",
       "      <th>4</th>\n",
       "      <td>20201001T0400</td>\n",
       "      <td>12.867169</td>\n",
       "      <td>81.0</td>\n",
       "      <td>0.0</td>\n",
       "    </tr>\n",
       "    <tr>\n",
       "      <th>...</th>\n",
       "      <td>...</td>\n",
       "      <td>...</td>\n",
       "      <td>...</td>\n",
       "      <td>...</td>\n",
       "    </tr>\n",
       "    <tr>\n",
       "      <th>187</th>\n",
       "      <td>20201008T1900</td>\n",
       "      <td>26.437168</td>\n",
       "      <td>20.0</td>\n",
       "      <td>0.0</td>\n",
       "    </tr>\n",
       "    <tr>\n",
       "      <th>188</th>\n",
       "      <td>20201008T2000</td>\n",
       "      <td>25.567170</td>\n",
       "      <td>21.0</td>\n",
       "      <td>0.0</td>\n",
       "    </tr>\n",
       "    <tr>\n",
       "      <th>189</th>\n",
       "      <td>20201008T2100</td>\n",
       "      <td>24.777168</td>\n",
       "      <td>22.0</td>\n",
       "      <td>0.0</td>\n",
       "    </tr>\n",
       "    <tr>\n",
       "      <th>190</th>\n",
       "      <td>20201008T2200</td>\n",
       "      <td>23.627169</td>\n",
       "      <td>24.0</td>\n",
       "      <td>0.0</td>\n",
       "    </tr>\n",
       "    <tr>\n",
       "      <th>191</th>\n",
       "      <td>20201008T2300</td>\n",
       "      <td>22.727169</td>\n",
       "      <td>27.0</td>\n",
       "      <td>0.0</td>\n",
       "    </tr>\n",
       "  </tbody>\n",
       "</table>\n",
       "<p>192 rows × 4 columns</p>\n",
       "</div>"
      ],
      "text/plain": [
       "         Timestamp  Temperature  Relative Humidity  Precipitation Total\n",
       "0    20201001T0000    12.437169               59.0                  0.0\n",
       "1    20201001T0100    12.557169               63.0                  0.0\n",
       "2    20201001T0200    13.177169               68.0                  0.0\n",
       "3    20201001T0300    13.087169               76.0                  0.0\n",
       "4    20201001T0400    12.867169               81.0                  0.0\n",
       "..             ...          ...                ...                  ...\n",
       "187  20201008T1900    26.437168               20.0                  0.0\n",
       "188  20201008T2000    25.567170               21.0                  0.0\n",
       "189  20201008T2100    24.777168               22.0                  0.0\n",
       "190  20201008T2200    23.627169               24.0                  0.0\n",
       "191  20201008T2300    22.727169               27.0                  0.0\n",
       "\n",
       "[192 rows x 4 columns]"
      ]
     },
     "execution_count": 7,
     "metadata": {},
     "output_type": "execute_result"
    }
   ],
   "source": [
    "data_without_headerclutter"
   ]
  },
  {
   "cell_type": "code",
   "execution_count": 8,
   "metadata": {},
   "outputs": [
    {
     "data": {
      "text/html": [
       "<div>\n",
       "<style scoped>\n",
       "    .dataframe tbody tr th:only-of-type {\n",
       "        vertical-align: middle;\n",
       "    }\n",
       "\n",
       "    .dataframe tbody tr th {\n",
       "        vertical-align: top;\n",
       "    }\n",
       "\n",
       "    .dataframe thead th {\n",
       "        text-align: right;\n",
       "    }\n",
       "</style>\n",
       "<table border=\"1\" class=\"dataframe\">\n",
       "  <thead>\n",
       "    <tr style=\"text-align: right;\">\n",
       "      <th></th>\n",
       "      <th>Timestamp</th>\n",
       "      <th>Temperature</th>\n",
       "      <th>Relative Humidity</th>\n",
       "      <th>Precipitation Total</th>\n",
       "    </tr>\n",
       "  </thead>\n",
       "  <tbody>\n",
       "    <tr>\n",
       "      <th>2</th>\n",
       "      <td>20201001T0200</td>\n",
       "      <td>13.177169</td>\n",
       "      <td>68.0</td>\n",
       "      <td>0.0</td>\n",
       "    </tr>\n",
       "  </tbody>\n",
       "</table>\n",
       "</div>"
      ],
      "text/plain": [
       "       Timestamp  Temperature  Relative Humidity  Precipitation Total\n",
       "2  20201001T0200    13.177169               68.0                  0.0"
      ]
     },
     "execution_count": 8,
     "metadata": {},
     "output_type": "execute_result"
    }
   ],
   "source": [
    "data_without_headerclutter.iloc[[2],[0,1,2,3]]"
   ]
  },
  {
   "cell_type": "markdown",
   "metadata": {},
   "source": [
    "### Designating the index using one of the columns\n",
    "Currently, the index (row ids) is enumerated. But if we wish, we can also designate a column that holds unique values (such as the `Timestamp` column in our example) via the `set_index` command:"
   ]
  },
  {
   "cell_type": "code",
   "execution_count": 9,
   "metadata": {
    "scrolled": true
   },
   "outputs": [
    {
     "data": {
      "text/html": [
       "<div>\n",
       "<style scoped>\n",
       "    .dataframe tbody tr th:only-of-type {\n",
       "        vertical-align: middle;\n",
       "    }\n",
       "\n",
       "    .dataframe tbody tr th {\n",
       "        vertical-align: top;\n",
       "    }\n",
       "\n",
       "    .dataframe thead th {\n",
       "        text-align: right;\n",
       "    }\n",
       "</style>\n",
       "<table border=\"1\" class=\"dataframe\">\n",
       "  <thead>\n",
       "    <tr style=\"text-align: right;\">\n",
       "      <th></th>\n",
       "      <th>Temperature</th>\n",
       "      <th>Relative Humidity</th>\n",
       "      <th>Precipitation Total</th>\n",
       "    </tr>\n",
       "    <tr>\n",
       "      <th>Timestamp</th>\n",
       "      <th></th>\n",
       "      <th></th>\n",
       "      <th></th>\n",
       "    </tr>\n",
       "  </thead>\n",
       "  <tbody>\n",
       "    <tr>\n",
       "      <th>20201001T0000</th>\n",
       "      <td>12.437169</td>\n",
       "      <td>59.0</td>\n",
       "      <td>0.0</td>\n",
       "    </tr>\n",
       "    <tr>\n",
       "      <th>20201001T0100</th>\n",
       "      <td>12.557169</td>\n",
       "      <td>63.0</td>\n",
       "      <td>0.0</td>\n",
       "    </tr>\n",
       "    <tr>\n",
       "      <th>20201001T0200</th>\n",
       "      <td>13.177169</td>\n",
       "      <td>68.0</td>\n",
       "      <td>0.0</td>\n",
       "    </tr>\n",
       "    <tr>\n",
       "      <th>20201001T0300</th>\n",
       "      <td>13.087169</td>\n",
       "      <td>76.0</td>\n",
       "      <td>0.0</td>\n",
       "    </tr>\n",
       "    <tr>\n",
       "      <th>20201001T0400</th>\n",
       "      <td>12.867169</td>\n",
       "      <td>81.0</td>\n",
       "      <td>0.0</td>\n",
       "    </tr>\n",
       "    <tr>\n",
       "      <th>...</th>\n",
       "      <td>...</td>\n",
       "      <td>...</td>\n",
       "      <td>...</td>\n",
       "    </tr>\n",
       "    <tr>\n",
       "      <th>20201008T1900</th>\n",
       "      <td>26.437168</td>\n",
       "      <td>20.0</td>\n",
       "      <td>0.0</td>\n",
       "    </tr>\n",
       "    <tr>\n",
       "      <th>20201008T2000</th>\n",
       "      <td>25.567170</td>\n",
       "      <td>21.0</td>\n",
       "      <td>0.0</td>\n",
       "    </tr>\n",
       "    <tr>\n",
       "      <th>20201008T2100</th>\n",
       "      <td>24.777168</td>\n",
       "      <td>22.0</td>\n",
       "      <td>0.0</td>\n",
       "    </tr>\n",
       "    <tr>\n",
       "      <th>20201008T2200</th>\n",
       "      <td>23.627169</td>\n",
       "      <td>24.0</td>\n",
       "      <td>0.0</td>\n",
       "    </tr>\n",
       "    <tr>\n",
       "      <th>20201008T2300</th>\n",
       "      <td>22.727169</td>\n",
       "      <td>27.0</td>\n",
       "      <td>0.0</td>\n",
       "    </tr>\n",
       "  </tbody>\n",
       "</table>\n",
       "<p>192 rows × 3 columns</p>\n",
       "</div>"
      ],
      "text/plain": [
       "               Temperature  Relative Humidity  Precipitation Total\n",
       "Timestamp                                                         \n",
       "20201001T0000    12.437169               59.0                  0.0\n",
       "20201001T0100    12.557169               63.0                  0.0\n",
       "20201001T0200    13.177169               68.0                  0.0\n",
       "20201001T0300    13.087169               76.0                  0.0\n",
       "20201001T0400    12.867169               81.0                  0.0\n",
       "...                    ...                ...                  ...\n",
       "20201008T1900    26.437168               20.0                  0.0\n",
       "20201008T2000    25.567170               21.0                  0.0\n",
       "20201008T2100    24.777168               22.0                  0.0\n",
       "20201008T2200    23.627169               24.0                  0.0\n",
       "20201008T2300    22.727169               27.0                  0.0\n",
       "\n",
       "[192 rows x 3 columns]"
      ]
     },
     "execution_count": 9,
     "metadata": {},
     "output_type": "execute_result"
    }
   ],
   "source": [
    "df2 = data_without_headerclutter.set_index('Timestamp')\n",
    "df2"
   ]
  },
  {
   "cell_type": "code",
   "execution_count": 10,
   "metadata": {},
   "outputs": [
    {
     "data": {
      "text/html": [
       "<div>\n",
       "<style scoped>\n",
       "    .dataframe tbody tr th:only-of-type {\n",
       "        vertical-align: middle;\n",
       "    }\n",
       "\n",
       "    .dataframe tbody tr th {\n",
       "        vertical-align: top;\n",
       "    }\n",
       "\n",
       "    .dataframe thead th {\n",
       "        text-align: right;\n",
       "    }\n",
       "</style>\n",
       "<table border=\"1\" class=\"dataframe\">\n",
       "  <thead>\n",
       "    <tr style=\"text-align: right;\">\n",
       "      <th></th>\n",
       "      <th>Timestamp</th>\n",
       "      <th>Temperature</th>\n",
       "      <th>Relative Humidity</th>\n",
       "      <th>Precipitation Total</th>\n",
       "    </tr>\n",
       "  </thead>\n",
       "  <tbody>\n",
       "    <tr>\n",
       "      <th>0</th>\n",
       "      <td>20201001T0000</td>\n",
       "      <td>12.437169</td>\n",
       "      <td>59.0</td>\n",
       "      <td>0.0</td>\n",
       "    </tr>\n",
       "    <tr>\n",
       "      <th>1</th>\n",
       "      <td>20201001T0100</td>\n",
       "      <td>12.557169</td>\n",
       "      <td>63.0</td>\n",
       "      <td>0.0</td>\n",
       "    </tr>\n",
       "    <tr>\n",
       "      <th>2</th>\n",
       "      <td>20201001T0200</td>\n",
       "      <td>13.177169</td>\n",
       "      <td>68.0</td>\n",
       "      <td>0.0</td>\n",
       "    </tr>\n",
       "    <tr>\n",
       "      <th>3</th>\n",
       "      <td>20201001T0300</td>\n",
       "      <td>13.087169</td>\n",
       "      <td>76.0</td>\n",
       "      <td>0.0</td>\n",
       "    </tr>\n",
       "    <tr>\n",
       "      <th>4</th>\n",
       "      <td>20201001T0400</td>\n",
       "      <td>12.867169</td>\n",
       "      <td>81.0</td>\n",
       "      <td>0.0</td>\n",
       "    </tr>\n",
       "    <tr>\n",
       "      <th>...</th>\n",
       "      <td>...</td>\n",
       "      <td>...</td>\n",
       "      <td>...</td>\n",
       "      <td>...</td>\n",
       "    </tr>\n",
       "    <tr>\n",
       "      <th>187</th>\n",
       "      <td>20201008T1900</td>\n",
       "      <td>26.437168</td>\n",
       "      <td>20.0</td>\n",
       "      <td>0.0</td>\n",
       "    </tr>\n",
       "    <tr>\n",
       "      <th>188</th>\n",
       "      <td>20201008T2000</td>\n",
       "      <td>25.567170</td>\n",
       "      <td>21.0</td>\n",
       "      <td>0.0</td>\n",
       "    </tr>\n",
       "    <tr>\n",
       "      <th>189</th>\n",
       "      <td>20201008T2100</td>\n",
       "      <td>24.777168</td>\n",
       "      <td>22.0</td>\n",
       "      <td>0.0</td>\n",
       "    </tr>\n",
       "    <tr>\n",
       "      <th>190</th>\n",
       "      <td>20201008T2200</td>\n",
       "      <td>23.627169</td>\n",
       "      <td>24.0</td>\n",
       "      <td>0.0</td>\n",
       "    </tr>\n",
       "    <tr>\n",
       "      <th>191</th>\n",
       "      <td>20201008T2300</td>\n",
       "      <td>22.727169</td>\n",
       "      <td>27.0</td>\n",
       "      <td>0.0</td>\n",
       "    </tr>\n",
       "  </tbody>\n",
       "</table>\n",
       "<p>192 rows × 4 columns</p>\n",
       "</div>"
      ],
      "text/plain": [
       "         Timestamp  Temperature  Relative Humidity  Precipitation Total\n",
       "0    20201001T0000    12.437169               59.0                  0.0\n",
       "1    20201001T0100    12.557169               63.0                  0.0\n",
       "2    20201001T0200    13.177169               68.0                  0.0\n",
       "3    20201001T0300    13.087169               76.0                  0.0\n",
       "4    20201001T0400    12.867169               81.0                  0.0\n",
       "..             ...          ...                ...                  ...\n",
       "187  20201008T1900    26.437168               20.0                  0.0\n",
       "188  20201008T2000    25.567170               21.0                  0.0\n",
       "189  20201008T2100    24.777168               22.0                  0.0\n",
       "190  20201008T2200    23.627169               24.0                  0.0\n",
       "191  20201008T2300    22.727169               27.0                  0.0\n",
       "\n",
       "[192 rows x 4 columns]"
      ]
     },
     "execution_count": 10,
     "metadata": {},
     "output_type": "execute_result"
    }
   ],
   "source": [
    "data_without_headerclutter"
   ]
  },
  {
   "cell_type": "code",
   "execution_count": 11,
   "metadata": {
    "scrolled": false
   },
   "outputs": [
    {
     "data": {
      "text/html": [
       "<div>\n",
       "<style scoped>\n",
       "    .dataframe tbody tr th:only-of-type {\n",
       "        vertical-align: middle;\n",
       "    }\n",
       "\n",
       "    .dataframe tbody tr th {\n",
       "        vertical-align: top;\n",
       "    }\n",
       "\n",
       "    .dataframe thead th {\n",
       "        text-align: right;\n",
       "    }\n",
       "</style>\n",
       "<table border=\"1\" class=\"dataframe\">\n",
       "  <thead>\n",
       "    <tr style=\"text-align: right;\">\n",
       "      <th></th>\n",
       "      <th>Temperature</th>\n",
       "      <th>Relative Humidity</th>\n",
       "      <th>Precipitation Total</th>\n",
       "    </tr>\n",
       "    <tr>\n",
       "      <th>Timestamp</th>\n",
       "      <th></th>\n",
       "      <th></th>\n",
       "      <th></th>\n",
       "    </tr>\n",
       "  </thead>\n",
       "  <tbody>\n",
       "    <tr>\n",
       "      <th>20201001T0000</th>\n",
       "      <td>12.437169</td>\n",
       "      <td>59.0</td>\n",
       "      <td>0.0</td>\n",
       "    </tr>\n",
       "    <tr>\n",
       "      <th>20201001T0100</th>\n",
       "      <td>12.557169</td>\n",
       "      <td>63.0</td>\n",
       "      <td>0.0</td>\n",
       "    </tr>\n",
       "    <tr>\n",
       "      <th>20201001T0200</th>\n",
       "      <td>13.177169</td>\n",
       "      <td>68.0</td>\n",
       "      <td>0.0</td>\n",
       "    </tr>\n",
       "    <tr>\n",
       "      <th>20201001T0300</th>\n",
       "      <td>13.087169</td>\n",
       "      <td>76.0</td>\n",
       "      <td>0.0</td>\n",
       "    </tr>\n",
       "    <tr>\n",
       "      <th>20201001T0400</th>\n",
       "      <td>12.867169</td>\n",
       "      <td>81.0</td>\n",
       "      <td>0.0</td>\n",
       "    </tr>\n",
       "    <tr>\n",
       "      <th>...</th>\n",
       "      <td>...</td>\n",
       "      <td>...</td>\n",
       "      <td>...</td>\n",
       "    </tr>\n",
       "    <tr>\n",
       "      <th>20201008T1900</th>\n",
       "      <td>26.437168</td>\n",
       "      <td>20.0</td>\n",
       "      <td>0.0</td>\n",
       "    </tr>\n",
       "    <tr>\n",
       "      <th>20201008T2000</th>\n",
       "      <td>25.567170</td>\n",
       "      <td>21.0</td>\n",
       "      <td>0.0</td>\n",
       "    </tr>\n",
       "    <tr>\n",
       "      <th>20201008T2100</th>\n",
       "      <td>24.777168</td>\n",
       "      <td>22.0</td>\n",
       "      <td>0.0</td>\n",
       "    </tr>\n",
       "    <tr>\n",
       "      <th>20201008T2200</th>\n",
       "      <td>23.627169</td>\n",
       "      <td>24.0</td>\n",
       "      <td>0.0</td>\n",
       "    </tr>\n",
       "    <tr>\n",
       "      <th>20201008T2300</th>\n",
       "      <td>22.727169</td>\n",
       "      <td>27.0</td>\n",
       "      <td>0.0</td>\n",
       "    </tr>\n",
       "  </tbody>\n",
       "</table>\n",
       "<p>192 rows × 3 columns</p>\n",
       "</div>"
      ],
      "text/plain": [
       "               Temperature  Relative Humidity  Precipitation Total\n",
       "Timestamp                                                         \n",
       "20201001T0000    12.437169               59.0                  0.0\n",
       "20201001T0100    12.557169               63.0                  0.0\n",
       "20201001T0200    13.177169               68.0                  0.0\n",
       "20201001T0300    13.087169               76.0                  0.0\n",
       "20201001T0400    12.867169               81.0                  0.0\n",
       "...                    ...                ...                  ...\n",
       "20201008T1900    26.437168               20.0                  0.0\n",
       "20201008T2000    25.567170               21.0                  0.0\n",
       "20201008T2100    24.777168               22.0                  0.0\n",
       "20201008T2200    23.627169               24.0                  0.0\n",
       "20201008T2300    22.727169               27.0                  0.0\n",
       "\n",
       "[192 rows x 3 columns]"
      ]
     },
     "execution_count": 11,
     "metadata": {},
     "output_type": "execute_result"
    }
   ],
   "source": [
    "data_without_headerclutter = data_without_headerclutter.set_index('Timestamp')\n",
    "data_without_headerclutter"
   ]
  },
  {
   "cell_type": "markdown",
   "metadata": {},
   "source": [
    "and thus we now have 3 columns with the former `Timestamp` column being the index (row identifier).\n",
    "\n",
    "We can get the list of the column names and row indexes:"
   ]
  },
  {
   "cell_type": "code",
   "execution_count": 12,
   "metadata": {},
   "outputs": [
    {
     "data": {
      "text/plain": [
       "Index(['Temperature', 'Relative Humidity', 'Precipitation Total'], dtype='object')"
      ]
     },
     "execution_count": 12,
     "metadata": {},
     "output_type": "execute_result"
    }
   ],
   "source": [
    "# Columns\n",
    "data_without_headerclutter.columns"
   ]
  },
  {
   "cell_type": "code",
   "execution_count": 13,
   "metadata": {},
   "outputs": [
    {
     "data": {
      "text/plain": [
       "Index(['20201001T0000', '20201001T0100', '20201001T0200', '20201001T0300',\n",
       "       '20201001T0400', '20201001T0500', '20201001T0600', '20201001T0700',\n",
       "       '20201001T0800', '20201001T0900',\n",
       "       ...\n",
       "       '20201008T1400', '20201008T1500', '20201008T1600', '20201008T1700',\n",
       "       '20201008T1800', '20201008T1900', '20201008T2000', '20201008T2100',\n",
       "       '20201008T2200', '20201008T2300'],\n",
       "      dtype='object', name='Timestamp', length=192)"
      ]
     },
     "execution_count": 13,
     "metadata": {},
     "output_type": "execute_result"
    }
   ],
   "source": [
    "# Row indexes\n",
    "data_without_headerclutter.index"
   ]
  },
  {
   "cell_type": "markdown",
   "metadata": {},
   "source": [
    "## Accessing to the data\n",
    "Now that we have managed to import the datafile, we have all the data under our reach - hooray! 8)\n",
    "\n",
    "From here on, it runs more or less in the same vein as a NumPy or GNU Octave/MATLAB arrays, with the main difference being the ability to also refer directly using the column and row labels."
   ]
  },
  {
   "cell_type": "markdown",
   "metadata": {},
   "source": [
    "### Old-school style: referring via the col/row indexes\n",
    "For this kind of referrence, we use the `iloc` command. But before we do that, let me redefine the dataset name to `df` (for 'DataFrame')."
   ]
  },
  {
   "cell_type": "code",
   "execution_count": 14,
   "metadata": {},
   "outputs": [],
   "source": [
    "df = data_without_headerclutter \n",
    "# (I'm just tired of typing 'data_without_headerclutter' all the time!)"
   ]
  },
  {
   "cell_type": "code",
   "execution_count": 15,
   "metadata": {},
   "outputs": [
    {
     "data": {
      "text/html": [
       "<div>\n",
       "<style scoped>\n",
       "    .dataframe tbody tr th:only-of-type {\n",
       "        vertical-align: middle;\n",
       "    }\n",
       "\n",
       "    .dataframe tbody tr th {\n",
       "        vertical-align: top;\n",
       "    }\n",
       "\n",
       "    .dataframe thead th {\n",
       "        text-align: right;\n",
       "    }\n",
       "</style>\n",
       "<table border=\"1\" class=\"dataframe\">\n",
       "  <thead>\n",
       "    <tr style=\"text-align: right;\">\n",
       "      <th></th>\n",
       "      <th>Temperature</th>\n",
       "      <th>Relative Humidity</th>\n",
       "      <th>Precipitation Total</th>\n",
       "    </tr>\n",
       "    <tr>\n",
       "      <th>Timestamp</th>\n",
       "      <th></th>\n",
       "      <th></th>\n",
       "      <th></th>\n",
       "    </tr>\n",
       "  </thead>\n",
       "  <tbody>\n",
       "    <tr>\n",
       "      <th>20201001T0000</th>\n",
       "      <td>12.437169</td>\n",
       "      <td>59.0</td>\n",
       "      <td>0.0</td>\n",
       "    </tr>\n",
       "    <tr>\n",
       "      <th>20201001T0100</th>\n",
       "      <td>12.557169</td>\n",
       "      <td>63.0</td>\n",
       "      <td>0.0</td>\n",
       "    </tr>\n",
       "    <tr>\n",
       "      <th>20201001T0200</th>\n",
       "      <td>13.177169</td>\n",
       "      <td>68.0</td>\n",
       "      <td>0.0</td>\n",
       "    </tr>\n",
       "    <tr>\n",
       "      <th>20201001T0300</th>\n",
       "      <td>13.087169</td>\n",
       "      <td>76.0</td>\n",
       "      <td>0.0</td>\n",
       "    </tr>\n",
       "    <tr>\n",
       "      <th>20201001T0400</th>\n",
       "      <td>12.867169</td>\n",
       "      <td>81.0</td>\n",
       "      <td>0.0</td>\n",
       "    </tr>\n",
       "    <tr>\n",
       "      <th>...</th>\n",
       "      <td>...</td>\n",
       "      <td>...</td>\n",
       "      <td>...</td>\n",
       "    </tr>\n",
       "    <tr>\n",
       "      <th>20201008T1900</th>\n",
       "      <td>26.437168</td>\n",
       "      <td>20.0</td>\n",
       "      <td>0.0</td>\n",
       "    </tr>\n",
       "    <tr>\n",
       "      <th>20201008T2000</th>\n",
       "      <td>25.567170</td>\n",
       "      <td>21.0</td>\n",
       "      <td>0.0</td>\n",
       "    </tr>\n",
       "    <tr>\n",
       "      <th>20201008T2100</th>\n",
       "      <td>24.777168</td>\n",
       "      <td>22.0</td>\n",
       "      <td>0.0</td>\n",
       "    </tr>\n",
       "    <tr>\n",
       "      <th>20201008T2200</th>\n",
       "      <td>23.627169</td>\n",
       "      <td>24.0</td>\n",
       "      <td>0.0</td>\n",
       "    </tr>\n",
       "    <tr>\n",
       "      <th>20201008T2300</th>\n",
       "      <td>22.727169</td>\n",
       "      <td>27.0</td>\n",
       "      <td>0.0</td>\n",
       "    </tr>\n",
       "  </tbody>\n",
       "</table>\n",
       "<p>192 rows × 3 columns</p>\n",
       "</div>"
      ],
      "text/plain": [
       "               Temperature  Relative Humidity  Precipitation Total\n",
       "Timestamp                                                         \n",
       "20201001T0000    12.437169               59.0                  0.0\n",
       "20201001T0100    12.557169               63.0                  0.0\n",
       "20201001T0200    13.177169               68.0                  0.0\n",
       "20201001T0300    13.087169               76.0                  0.0\n",
       "20201001T0400    12.867169               81.0                  0.0\n",
       "...                    ...                ...                  ...\n",
       "20201008T1900    26.437168               20.0                  0.0\n",
       "20201008T2000    25.567170               21.0                  0.0\n",
       "20201008T2100    24.777168               22.0                  0.0\n",
       "20201008T2200    23.627169               24.0                  0.0\n",
       "20201008T2300    22.727169               27.0                  0.0\n",
       "\n",
       "[192 rows x 3 columns]"
      ]
     },
     "execution_count": 15,
     "metadata": {},
     "output_type": "execute_result"
    }
   ],
   "source": [
    "df"
   ]
  },
  {
   "cell_type": "code",
   "execution_count": 16,
   "metadata": {},
   "outputs": [
    {
     "data": {
      "text/plain": [
       "13.177169000000001"
      ]
     },
     "execution_count": 16,
     "metadata": {},
     "output_type": "execute_result"
    }
   ],
   "source": [
    "df.iloc[2,0] # Row 2, Col 0"
   ]
  },
  {
   "cell_type": "code",
   "execution_count": 17,
   "metadata": {},
   "outputs": [
    {
     "data": {
      "text/html": [
       "<div>\n",
       "<style scoped>\n",
       "    .dataframe tbody tr th:only-of-type {\n",
       "        vertical-align: middle;\n",
       "    }\n",
       "\n",
       "    .dataframe tbody tr th {\n",
       "        vertical-align: top;\n",
       "    }\n",
       "\n",
       "    .dataframe thead th {\n",
       "        text-align: right;\n",
       "    }\n",
       "</style>\n",
       "<table border=\"1\" class=\"dataframe\">\n",
       "  <thead>\n",
       "    <tr style=\"text-align: right;\">\n",
       "      <th></th>\n",
       "      <th>Relative Humidity</th>\n",
       "      <th>Temperature</th>\n",
       "    </tr>\n",
       "    <tr>\n",
       "      <th>Timestamp</th>\n",
       "      <th></th>\n",
       "      <th></th>\n",
       "    </tr>\n",
       "  </thead>\n",
       "  <tbody>\n",
       "    <tr>\n",
       "      <th>20201001T0400</th>\n",
       "      <td>81.0</td>\n",
       "      <td>12.867169</td>\n",
       "    </tr>\n",
       "    <tr>\n",
       "      <th>20201001T0100</th>\n",
       "      <td>63.0</td>\n",
       "      <td>12.557169</td>\n",
       "    </tr>\n",
       "  </tbody>\n",
       "</table>\n",
       "</div>"
      ],
      "text/plain": [
       "               Relative Humidity  Temperature\n",
       "Timestamp                                    \n",
       "20201001T0400               81.0    12.867169\n",
       "20201001T0100               63.0    12.557169"
      ]
     },
     "execution_count": 17,
     "metadata": {},
     "output_type": "execute_result"
    }
   ],
   "source": [
    "df.iloc[[4,1],[1,0]] # Rows 4 and 1 && Cols 1 and 0"
   ]
  },
  {
   "cell_type": "code",
   "execution_count": 18,
   "metadata": {},
   "outputs": [
    {
     "data": {
      "text/html": [
       "<div>\n",
       "<style scoped>\n",
       "    .dataframe tbody tr th:only-of-type {\n",
       "        vertical-align: middle;\n",
       "    }\n",
       "\n",
       "    .dataframe tbody tr th {\n",
       "        vertical-align: top;\n",
       "    }\n",
       "\n",
       "    .dataframe thead th {\n",
       "        text-align: right;\n",
       "    }\n",
       "</style>\n",
       "<table border=\"1\" class=\"dataframe\">\n",
       "  <thead>\n",
       "    <tr style=\"text-align: right;\">\n",
       "      <th></th>\n",
       "      <th>Temperature</th>\n",
       "      <th>Relative Humidity</th>\n",
       "      <th>Precipitation Total</th>\n",
       "    </tr>\n",
       "    <tr>\n",
       "      <th>Timestamp</th>\n",
       "      <th></th>\n",
       "      <th></th>\n",
       "      <th></th>\n",
       "    </tr>\n",
       "  </thead>\n",
       "  <tbody>\n",
       "    <tr>\n",
       "      <th>20201001T0100</th>\n",
       "      <td>12.557169</td>\n",
       "      <td>63.0</td>\n",
       "      <td>0.0</td>\n",
       "    </tr>\n",
       "    <tr>\n",
       "      <th>20201001T0200</th>\n",
       "      <td>13.177169</td>\n",
       "      <td>68.0</td>\n",
       "      <td>0.0</td>\n",
       "    </tr>\n",
       "    <tr>\n",
       "      <th>20201001T0300</th>\n",
       "      <td>13.087169</td>\n",
       "      <td>76.0</td>\n",
       "      <td>0.0</td>\n",
       "    </tr>\n",
       "  </tbody>\n",
       "</table>\n",
       "</div>"
      ],
      "text/plain": [
       "               Temperature  Relative Humidity  Precipitation Total\n",
       "Timestamp                                                         \n",
       "20201001T0100    12.557169               63.0                  0.0\n",
       "20201001T0200    13.177169               68.0                  0.0\n",
       "20201001T0300    13.087169               76.0                  0.0"
      ]
     },
     "execution_count": 18,
     "metadata": {},
     "output_type": "execute_result"
    }
   ],
   "source": [
    "df.iloc[1:4] # Rows [1,4) && Cols [0,2)"
   ]
  },
  {
   "cell_type": "code",
   "execution_count": 19,
   "metadata": {},
   "outputs": [
    {
     "data": {
      "text/html": [
       "<div>\n",
       "<style scoped>\n",
       "    .dataframe tbody tr th:only-of-type {\n",
       "        vertical-align: middle;\n",
       "    }\n",
       "\n",
       "    .dataframe tbody tr th {\n",
       "        vertical-align: top;\n",
       "    }\n",
       "\n",
       "    .dataframe thead th {\n",
       "        text-align: right;\n",
       "    }\n",
       "</style>\n",
       "<table border=\"1\" class=\"dataframe\">\n",
       "  <thead>\n",
       "    <tr style=\"text-align: right;\">\n",
       "      <th></th>\n",
       "      <th>Temperature</th>\n",
       "      <th>Relative Humidity</th>\n",
       "      <th>Precipitation Total</th>\n",
       "    </tr>\n",
       "    <tr>\n",
       "      <th>Timestamp</th>\n",
       "      <th></th>\n",
       "      <th></th>\n",
       "      <th></th>\n",
       "    </tr>\n",
       "  </thead>\n",
       "  <tbody>\n",
       "    <tr>\n",
       "      <th>20201001T0100</th>\n",
       "      <td>12.557169</td>\n",
       "      <td>63.0</td>\n",
       "      <td>0.0</td>\n",
       "    </tr>\n",
       "    <tr>\n",
       "      <th>20201001T0300</th>\n",
       "      <td>13.087169</td>\n",
       "      <td>76.0</td>\n",
       "      <td>0.0</td>\n",
       "    </tr>\n",
       "    <tr>\n",
       "      <th>20201001T0600</th>\n",
       "      <td>11.177169</td>\n",
       "      <td>90.0</td>\n",
       "      <td>0.0</td>\n",
       "    </tr>\n",
       "  </tbody>\n",
       "</table>\n",
       "</div>"
      ],
      "text/plain": [
       "               Temperature  Relative Humidity  Precipitation Total\n",
       "Timestamp                                                         \n",
       "20201001T0100    12.557169               63.0                  0.0\n",
       "20201001T0300    13.087169               76.0                  0.0\n",
       "20201001T0600    11.177169               90.0                  0.0"
      ]
     },
     "execution_count": 19,
     "metadata": {},
     "output_type": "execute_result"
    }
   ],
   "source": [
    "df.iloc[[1,3,6],:] # Rows 1,3 and 6 && All cols"
   ]
  },
  {
   "cell_type": "markdown",
   "metadata": {},
   "source": [
    "### Referring via the col/row labels\n",
    "And then, we have the option to call by the labels, using `loc`:"
   ]
  },
  {
   "cell_type": "code",
   "execution_count": 20,
   "metadata": {},
   "outputs": [
    {
     "data": {
      "text/html": [
       "<div>\n",
       "<style scoped>\n",
       "    .dataframe tbody tr th:only-of-type {\n",
       "        vertical-align: middle;\n",
       "    }\n",
       "\n",
       "    .dataframe tbody tr th {\n",
       "        vertical-align: top;\n",
       "    }\n",
       "\n",
       "    .dataframe thead th {\n",
       "        text-align: right;\n",
       "    }\n",
       "</style>\n",
       "<table border=\"1\" class=\"dataframe\">\n",
       "  <thead>\n",
       "    <tr style=\"text-align: right;\">\n",
       "      <th></th>\n",
       "      <th>Temperature</th>\n",
       "    </tr>\n",
       "    <tr>\n",
       "      <th>Timestamp</th>\n",
       "      <th></th>\n",
       "    </tr>\n",
       "  </thead>\n",
       "  <tbody>\n",
       "    <tr>\n",
       "      <th>20201001T0100</th>\n",
       "      <td>12.557169</td>\n",
       "    </tr>\n",
       "  </tbody>\n",
       "</table>\n",
       "</div>"
      ],
      "text/plain": [
       "               Temperature\n",
       "Timestamp                 \n",
       "20201001T0100    12.557169"
      ]
     },
     "execution_count": 20,
     "metadata": {},
     "output_type": "execute_result"
    }
   ],
   "source": [
    "df.loc[['20201001T0100'],['Temperature']]"
   ]
  },
  {
   "cell_type": "code",
   "execution_count": 21,
   "metadata": {},
   "outputs": [
    {
     "data": {
      "text/html": [
       "<div>\n",
       "<style scoped>\n",
       "    .dataframe tbody tr th:only-of-type {\n",
       "        vertical-align: middle;\n",
       "    }\n",
       "\n",
       "    .dataframe tbody tr th {\n",
       "        vertical-align: top;\n",
       "    }\n",
       "\n",
       "    .dataframe thead th {\n",
       "        text-align: right;\n",
       "    }\n",
       "</style>\n",
       "<table border=\"1\" class=\"dataframe\">\n",
       "  <thead>\n",
       "    <tr style=\"text-align: right;\">\n",
       "      <th></th>\n",
       "      <th>Temperature</th>\n",
       "      <th>Precipitation Total</th>\n",
       "    </tr>\n",
       "    <tr>\n",
       "      <th>Timestamp</th>\n",
       "      <th></th>\n",
       "      <th></th>\n",
       "    </tr>\n",
       "  </thead>\n",
       "  <tbody>\n",
       "    <tr>\n",
       "      <th>20201001T0300</th>\n",
       "      <td>13.087169</td>\n",
       "      <td>0.0</td>\n",
       "    </tr>\n",
       "  </tbody>\n",
       "</table>\n",
       "</div>"
      ],
      "text/plain": [
       "               Temperature  Precipitation Total\n",
       "Timestamp                                      \n",
       "20201001T0300    13.087169                  0.0"
      ]
     },
     "execution_count": 21,
     "metadata": {},
     "output_type": "execute_result"
    }
   ],
   "source": [
    "df.loc[['20201001T0300'],['Temperature','Precipitation Total']]"
   ]
  },
  {
   "cell_type": "markdown",
   "metadata": {},
   "source": [
    "\n"
   ]
  },
  {
   "cell_type": "markdown",
   "metadata": {},
   "source": [
    "# Filtering\n",
    "For filtering, we just make a proposition, and get the True/False Boolean results. Let's work with a smaller dataframe:"
   ]
  },
  {
   "cell_type": "code",
   "execution_count": 22,
   "metadata": {},
   "outputs": [
    {
     "data": {
      "text/html": [
       "<div>\n",
       "<style scoped>\n",
       "    .dataframe tbody tr th:only-of-type {\n",
       "        vertical-align: middle;\n",
       "    }\n",
       "\n",
       "    .dataframe tbody tr th {\n",
       "        vertical-align: top;\n",
       "    }\n",
       "\n",
       "    .dataframe thead th {\n",
       "        text-align: right;\n",
       "    }\n",
       "</style>\n",
       "<table border=\"1\" class=\"dataframe\">\n",
       "  <thead>\n",
       "    <tr style=\"text-align: right;\">\n",
       "      <th></th>\n",
       "      <th>Temperature</th>\n",
       "      <th>Relative Humidity</th>\n",
       "    </tr>\n",
       "    <tr>\n",
       "      <th>Timestamp</th>\n",
       "      <th></th>\n",
       "      <th></th>\n",
       "    </tr>\n",
       "  </thead>\n",
       "  <tbody>\n",
       "    <tr>\n",
       "      <th>20201001T0000</th>\n",
       "      <td>12.437169</td>\n",
       "      <td>59.0</td>\n",
       "    </tr>\n",
       "    <tr>\n",
       "      <th>20201001T0100</th>\n",
       "      <td>12.557169</td>\n",
       "      <td>63.0</td>\n",
       "    </tr>\n",
       "    <tr>\n",
       "      <th>20201001T0200</th>\n",
       "      <td>13.177169</td>\n",
       "      <td>68.0</td>\n",
       "    </tr>\n",
       "    <tr>\n",
       "      <th>20201001T0300</th>\n",
       "      <td>13.087169</td>\n",
       "      <td>76.0</td>\n",
       "    </tr>\n",
       "    <tr>\n",
       "      <th>20201001T0400</th>\n",
       "      <td>12.867169</td>\n",
       "      <td>81.0</td>\n",
       "    </tr>\n",
       "  </tbody>\n",
       "</table>\n",
       "</div>"
      ],
      "text/plain": [
       "               Temperature  Relative Humidity\n",
       "Timestamp                                    \n",
       "20201001T0000    12.437169               59.0\n",
       "20201001T0100    12.557169               63.0\n",
       "20201001T0200    13.177169               68.0\n",
       "20201001T0300    13.087169               76.0\n",
       "20201001T0400    12.867169               81.0"
      ]
     },
     "execution_count": 22,
     "metadata": {},
     "output_type": "execute_result"
    }
   ],
   "source": [
    "sdf = df.iloc[0:5,0:2]\n",
    "sdf"
   ]
  },
  {
   "cell_type": "markdown",
   "metadata": {},
   "source": [
    "Let's try to find those entries with temperature below 13 degrees:"
   ]
  },
  {
   "cell_type": "code",
   "execution_count": 23,
   "metadata": {},
   "outputs": [
    {
     "data": {
      "text/html": [
       "<div>\n",
       "<style scoped>\n",
       "    .dataframe tbody tr th:only-of-type {\n",
       "        vertical-align: middle;\n",
       "    }\n",
       "\n",
       "    .dataframe tbody tr th {\n",
       "        vertical-align: top;\n",
       "    }\n",
       "\n",
       "    .dataframe thead th {\n",
       "        text-align: right;\n",
       "    }\n",
       "</style>\n",
       "<table border=\"1\" class=\"dataframe\">\n",
       "  <thead>\n",
       "    <tr style=\"text-align: right;\">\n",
       "      <th></th>\n",
       "      <th>Temperature</th>\n",
       "      <th>Relative Humidity</th>\n",
       "    </tr>\n",
       "    <tr>\n",
       "      <th>Timestamp</th>\n",
       "      <th></th>\n",
       "      <th></th>\n",
       "    </tr>\n",
       "  </thead>\n",
       "  <tbody>\n",
       "    <tr>\n",
       "      <th>20201001T0200</th>\n",
       "      <td>13.177169</td>\n",
       "      <td>68.0</td>\n",
       "    </tr>\n",
       "    <tr>\n",
       "      <th>20201001T0400</th>\n",
       "      <td>12.867169</td>\n",
       "      <td>81.0</td>\n",
       "    </tr>\n",
       "  </tbody>\n",
       "</table>\n",
       "</div>"
      ],
      "text/plain": [
       "               Temperature  Relative Humidity\n",
       "Timestamp                                    \n",
       "20201001T0200    13.177169               68.0\n",
       "20201001T0400    12.867169               81.0"
      ]
     },
     "execution_count": 23,
     "metadata": {},
     "output_type": "execute_result"
    }
   ],
   "source": [
    "sdf.iloc[[2,4]]"
   ]
  },
  {
   "cell_type": "code",
   "execution_count": 24,
   "metadata": {
    "scrolled": true
   },
   "outputs": [
    {
     "data": {
      "text/html": [
       "<div>\n",
       "<style scoped>\n",
       "    .dataframe tbody tr th:only-of-type {\n",
       "        vertical-align: middle;\n",
       "    }\n",
       "\n",
       "    .dataframe tbody tr th {\n",
       "        vertical-align: top;\n",
       "    }\n",
       "\n",
       "    .dataframe thead th {\n",
       "        text-align: right;\n",
       "    }\n",
       "</style>\n",
       "<table border=\"1\" class=\"dataframe\">\n",
       "  <thead>\n",
       "    <tr style=\"text-align: right;\">\n",
       "      <th></th>\n",
       "      <th>Temperature</th>\n",
       "    </tr>\n",
       "    <tr>\n",
       "      <th>Timestamp</th>\n",
       "      <th></th>\n",
       "    </tr>\n",
       "  </thead>\n",
       "  <tbody>\n",
       "    <tr>\n",
       "      <th>20201001T0000</th>\n",
       "      <td>12.437169</td>\n",
       "    </tr>\n",
       "    <tr>\n",
       "      <th>20201001T0100</th>\n",
       "      <td>12.557169</td>\n",
       "    </tr>\n",
       "    <tr>\n",
       "      <th>20201001T0200</th>\n",
       "      <td>13.177169</td>\n",
       "    </tr>\n",
       "    <tr>\n",
       "      <th>20201001T0300</th>\n",
       "      <td>13.087169</td>\n",
       "    </tr>\n",
       "    <tr>\n",
       "      <th>20201001T0400</th>\n",
       "      <td>12.867169</td>\n",
       "    </tr>\n",
       "  </tbody>\n",
       "</table>\n",
       "</div>"
      ],
      "text/plain": [
       "               Temperature\n",
       "Timestamp                 \n",
       "20201001T0000    12.437169\n",
       "20201001T0100    12.557169\n",
       "20201001T0200    13.177169\n",
       "20201001T0300    13.087169\n",
       "20201001T0400    12.867169"
      ]
     },
     "execution_count": 24,
     "metadata": {},
     "output_type": "execute_result"
    }
   ],
   "source": [
    "sdf.iloc[:,[0]]"
   ]
  },
  {
   "cell_type": "code",
   "execution_count": 25,
   "metadata": {},
   "outputs": [
    {
     "data": {
      "text/plain": [
       "Temperature          13.177169\n",
       "Relative Humidity    68.000000\n",
       "Name: 20201001T0200, dtype: float64"
      ]
     },
     "execution_count": 25,
     "metadata": {},
     "output_type": "execute_result"
    }
   ],
   "source": [
    "sdf.iloc[2]"
   ]
  },
  {
   "cell_type": "code",
   "execution_count": 26,
   "metadata": {
    "scrolled": true
   },
   "outputs": [
    {
     "data": {
      "text/plain": [
       "array([[12.437169, 59.      ],\n",
       "       [12.557169, 63.      ],\n",
       "       [13.177169, 68.      ],\n",
       "       [13.087169, 76.      ],\n",
       "       [12.867169, 81.      ]])"
      ]
     },
     "execution_count": 26,
     "metadata": {},
     "output_type": "execute_result"
    }
   ],
   "source": [
    "sdf.iloc[:,:].values"
   ]
  },
  {
   "cell_type": "code",
   "execution_count": 27,
   "metadata": {},
   "outputs": [
    {
     "data": {
      "text/plain": [
       "array([[12.437169, 59.      ],\n",
       "       [12.557169, 63.      ],\n",
       "       [13.177169, 68.      ],\n",
       "       [13.087169, 76.      ],\n",
       "       [12.867169, 81.      ]])"
      ]
     },
     "execution_count": 27,
     "metadata": {},
     "output_type": "execute_result"
    }
   ],
   "source": [
    "sdf.values"
   ]
  },
  {
   "cell_type": "code",
   "execution_count": 28,
   "metadata": {
    "scrolled": true
   },
   "outputs": [
    {
     "data": {
      "text/html": [
       "<div>\n",
       "<style scoped>\n",
       "    .dataframe tbody tr th:only-of-type {\n",
       "        vertical-align: middle;\n",
       "    }\n",
       "\n",
       "    .dataframe tbody tr th {\n",
       "        vertical-align: top;\n",
       "    }\n",
       "\n",
       "    .dataframe thead th {\n",
       "        text-align: right;\n",
       "    }\n",
       "</style>\n",
       "<table border=\"1\" class=\"dataframe\">\n",
       "  <thead>\n",
       "    <tr style=\"text-align: right;\">\n",
       "      <th></th>\n",
       "      <th>Temperature</th>\n",
       "    </tr>\n",
       "    <tr>\n",
       "      <th>Timestamp</th>\n",
       "      <th></th>\n",
       "    </tr>\n",
       "  </thead>\n",
       "  <tbody>\n",
       "    <tr>\n",
       "      <th>20201001T0000</th>\n",
       "      <td>True</td>\n",
       "    </tr>\n",
       "    <tr>\n",
       "      <th>20201001T0100</th>\n",
       "      <td>True</td>\n",
       "    </tr>\n",
       "    <tr>\n",
       "      <th>20201001T0200</th>\n",
       "      <td>False</td>\n",
       "    </tr>\n",
       "    <tr>\n",
       "      <th>20201001T0300</th>\n",
       "      <td>False</td>\n",
       "    </tr>\n",
       "    <tr>\n",
       "      <th>20201001T0400</th>\n",
       "      <td>True</td>\n",
       "    </tr>\n",
       "  </tbody>\n",
       "</table>\n",
       "</div>"
      ],
      "text/plain": [
       "               Temperature\n",
       "Timestamp                 \n",
       "20201001T0000         True\n",
       "20201001T0100         True\n",
       "20201001T0200        False\n",
       "20201001T0300        False\n",
       "20201001T0400         True"
      ]
     },
     "execution_count": 28,
     "metadata": {},
     "output_type": "execute_result"
    }
   ],
   "source": [
    "sdf.iloc[:,[0]] < 13"
   ]
  },
  {
   "cell_type": "markdown",
   "metadata": {},
   "source": [
    "So we see that for 3 of the 5 entries, this assertion is correct, let's pick them:"
   ]
  },
  {
   "cell_type": "code",
   "execution_count": 29,
   "metadata": {},
   "outputs": [
    {
     "data": {
      "text/html": [
       "<div>\n",
       "<style scoped>\n",
       "    .dataframe tbody tr th:only-of-type {\n",
       "        vertical-align: middle;\n",
       "    }\n",
       "\n",
       "    .dataframe tbody tr th {\n",
       "        vertical-align: top;\n",
       "    }\n",
       "\n",
       "    .dataframe thead th {\n",
       "        text-align: right;\n",
       "    }\n",
       "</style>\n",
       "<table border=\"1\" class=\"dataframe\">\n",
       "  <thead>\n",
       "    <tr style=\"text-align: right;\">\n",
       "      <th></th>\n",
       "      <th>Temperature</th>\n",
       "      <th>Relative Humidity</th>\n",
       "    </tr>\n",
       "    <tr>\n",
       "      <th>Timestamp</th>\n",
       "      <th></th>\n",
       "      <th></th>\n",
       "    </tr>\n",
       "  </thead>\n",
       "  <tbody>\n",
       "    <tr>\n",
       "      <th>20201001T0000</th>\n",
       "      <td>12.437169</td>\n",
       "      <td>59.0</td>\n",
       "    </tr>\n",
       "    <tr>\n",
       "      <th>20201001T0100</th>\n",
       "      <td>12.557169</td>\n",
       "      <td>63.0</td>\n",
       "    </tr>\n",
       "    <tr>\n",
       "      <th>20201001T0400</th>\n",
       "      <td>12.867169</td>\n",
       "      <td>81.0</td>\n",
       "    </tr>\n",
       "  </tbody>\n",
       "</table>\n",
       "</div>"
      ],
      "text/plain": [
       "               Temperature  Relative Humidity\n",
       "Timestamp                                    \n",
       "20201001T0000    12.437169               59.0\n",
       "20201001T0100    12.557169               63.0\n",
       "20201001T0400    12.867169               81.0"
      ]
     },
     "execution_count": 29,
     "metadata": {},
     "output_type": "execute_result"
    }
   ],
   "source": [
    "filter1 = sdf.iloc[:,[0]] < 13\n",
    "sdf.loc[filter1['Temperature']==True]"
   ]
  },
  {
   "cell_type": "code",
   "execution_count": 30,
   "metadata": {},
   "outputs": [
    {
     "data": {
      "text/html": [
       "<div>\n",
       "<style scoped>\n",
       "    .dataframe tbody tr th:only-of-type {\n",
       "        vertical-align: middle;\n",
       "    }\n",
       "\n",
       "    .dataframe tbody tr th {\n",
       "        vertical-align: top;\n",
       "    }\n",
       "\n",
       "    .dataframe thead th {\n",
       "        text-align: right;\n",
       "    }\n",
       "</style>\n",
       "<table border=\"1\" class=\"dataframe\">\n",
       "  <thead>\n",
       "    <tr style=\"text-align: right;\">\n",
       "      <th></th>\n",
       "      <th>Temperature</th>\n",
       "    </tr>\n",
       "    <tr>\n",
       "      <th>Timestamp</th>\n",
       "      <th></th>\n",
       "    </tr>\n",
       "  </thead>\n",
       "  <tbody>\n",
       "    <tr>\n",
       "      <th>20201001T0000</th>\n",
       "      <td>True</td>\n",
       "    </tr>\n",
       "    <tr>\n",
       "      <th>20201001T0100</th>\n",
       "      <td>True</td>\n",
       "    </tr>\n",
       "    <tr>\n",
       "      <th>20201001T0200</th>\n",
       "      <td>False</td>\n",
       "    </tr>\n",
       "    <tr>\n",
       "      <th>20201001T0300</th>\n",
       "      <td>False</td>\n",
       "    </tr>\n",
       "    <tr>\n",
       "      <th>20201001T0400</th>\n",
       "      <td>True</td>\n",
       "    </tr>\n",
       "  </tbody>\n",
       "</table>\n",
       "</div>"
      ],
      "text/plain": [
       "               Temperature\n",
       "Timestamp                 \n",
       "20201001T0000         True\n",
       "20201001T0100         True\n",
       "20201001T0200        False\n",
       "20201001T0300        False\n",
       "20201001T0400         True"
      ]
     },
     "execution_count": 30,
     "metadata": {},
     "output_type": "execute_result"
    }
   ],
   "source": [
    "filter1"
   ]
  },
  {
   "cell_type": "code",
   "execution_count": 31,
   "metadata": {
    "scrolled": true
   },
   "outputs": [
    {
     "data": {
      "text/plain": [
       "array([[ True],\n",
       "       [ True],\n",
       "       [False],\n",
       "       [False],\n",
       "       [ True]])"
      ]
     },
     "execution_count": 31,
     "metadata": {},
     "output_type": "execute_result"
    }
   ],
   "source": [
    "filter1.values"
   ]
  },
  {
   "cell_type": "code",
   "execution_count": 32,
   "metadata": {},
   "outputs": [
    {
     "data": {
      "text/html": [
       "<div>\n",
       "<style scoped>\n",
       "    .dataframe tbody tr th:only-of-type {\n",
       "        vertical-align: middle;\n",
       "    }\n",
       "\n",
       "    .dataframe tbody tr th {\n",
       "        vertical-align: top;\n",
       "    }\n",
       "\n",
       "    .dataframe thead th {\n",
       "        text-align: right;\n",
       "    }\n",
       "</style>\n",
       "<table border=\"1\" class=\"dataframe\">\n",
       "  <thead>\n",
       "    <tr style=\"text-align: right;\">\n",
       "      <th></th>\n",
       "      <th>Temperature</th>\n",
       "      <th>Relative Humidity</th>\n",
       "    </tr>\n",
       "    <tr>\n",
       "      <th>Timestamp</th>\n",
       "      <th></th>\n",
       "      <th></th>\n",
       "    </tr>\n",
       "  </thead>\n",
       "  <tbody>\n",
       "    <tr>\n",
       "      <th>20201001T0000</th>\n",
       "      <td>12.437169</td>\n",
       "      <td>59.0</td>\n",
       "    </tr>\n",
       "    <tr>\n",
       "      <th>20201001T0100</th>\n",
       "      <td>12.557169</td>\n",
       "      <td>63.0</td>\n",
       "    </tr>\n",
       "    <tr>\n",
       "      <th>20201001T0400</th>\n",
       "      <td>12.867169</td>\n",
       "      <td>81.0</td>\n",
       "    </tr>\n",
       "  </tbody>\n",
       "</table>\n",
       "</div>"
      ],
      "text/plain": [
       "               Temperature  Relative Humidity\n",
       "Timestamp                                    \n",
       "20201001T0000    12.437169               59.0\n",
       "20201001T0100    12.557169               63.0\n",
       "20201001T0400    12.867169               81.0"
      ]
     },
     "execution_count": 32,
     "metadata": {},
     "output_type": "execute_result"
    }
   ],
   "source": [
    "sdf[filter1.values]"
   ]
  },
  {
   "cell_type": "markdown",
   "metadata": {},
   "source": [
    "We can achieve the same thing by going straight to the heart of the issue using the column name directly:"
   ]
  },
  {
   "cell_type": "code",
   "execution_count": 33,
   "metadata": {},
   "outputs": [
    {
     "data": {
      "text/plain": [
       "Timestamp\n",
       "20201001T0000    12.437169\n",
       "20201001T0100    12.557169\n",
       "20201001T0200    13.177169\n",
       "20201001T0300    13.087169\n",
       "20201001T0400    12.867169\n",
       "Name: Temperature, dtype: float64"
      ]
     },
     "execution_count": 33,
     "metadata": {},
     "output_type": "execute_result"
    }
   ],
   "source": [
    "sdf.Temperature"
   ]
  },
  {
   "cell_type": "code",
   "execution_count": 34,
   "metadata": {
    "scrolled": false
   },
   "outputs": [
    {
     "data": {
      "text/plain": [
       "Timestamp\n",
       "20201001T0000     True\n",
       "20201001T0100     True\n",
       "20201001T0200    False\n",
       "20201001T0300    False\n",
       "20201001T0400     True\n",
       "Name: Temperature, dtype: bool"
      ]
     },
     "execution_count": 34,
     "metadata": {},
     "output_type": "execute_result"
    }
   ],
   "source": [
    "sdf.Temperature < 13"
   ]
  },
  {
   "cell_type": "markdown",
   "metadata": {},
   "source": [
    "and then feeding this as the index:"
   ]
  },
  {
   "cell_type": "code",
   "execution_count": 35,
   "metadata": {},
   "outputs": [
    {
     "data": {
      "text/html": [
       "<div>\n",
       "<style scoped>\n",
       "    .dataframe tbody tr th:only-of-type {\n",
       "        vertical-align: middle;\n",
       "    }\n",
       "\n",
       "    .dataframe tbody tr th {\n",
       "        vertical-align: top;\n",
       "    }\n",
       "\n",
       "    .dataframe thead th {\n",
       "        text-align: right;\n",
       "    }\n",
       "</style>\n",
       "<table border=\"1\" class=\"dataframe\">\n",
       "  <thead>\n",
       "    <tr style=\"text-align: right;\">\n",
       "      <th></th>\n",
       "      <th>Temperature</th>\n",
       "      <th>Relative Humidity</th>\n",
       "    </tr>\n",
       "    <tr>\n",
       "      <th>Timestamp</th>\n",
       "      <th></th>\n",
       "      <th></th>\n",
       "    </tr>\n",
       "  </thead>\n",
       "  <tbody>\n",
       "    <tr>\n",
       "      <th>20201001T0000</th>\n",
       "      <td>12.437169</td>\n",
       "      <td>59.0</td>\n",
       "    </tr>\n",
       "    <tr>\n",
       "      <th>20201001T0100</th>\n",
       "      <td>12.557169</td>\n",
       "      <td>63.0</td>\n",
       "    </tr>\n",
       "    <tr>\n",
       "      <th>20201001T0400</th>\n",
       "      <td>12.867169</td>\n",
       "      <td>81.0</td>\n",
       "    </tr>\n",
       "  </tbody>\n",
       "</table>\n",
       "</div>"
      ],
      "text/plain": [
       "               Temperature  Relative Humidity\n",
       "Timestamp                                    \n",
       "20201001T0000    12.437169               59.0\n",
       "20201001T0100    12.557169               63.0\n",
       "20201001T0400    12.867169               81.0"
      ]
     },
     "execution_count": 35,
     "metadata": {},
     "output_type": "execute_result"
    }
   ],
   "source": [
    "sdf[sdf.Temperature < 13]"
   ]
  },
  {
   "cell_type": "markdown",
   "metadata": {},
   "source": [
    "What about the row index? Can we specify a criteria for them as well? First let's re-display our small dataframe:"
   ]
  },
  {
   "cell_type": "code",
   "execution_count": 36,
   "metadata": {
    "scrolled": true
   },
   "outputs": [
    {
     "data": {
      "text/html": [
       "<div>\n",
       "<style scoped>\n",
       "    .dataframe tbody tr th:only-of-type {\n",
       "        vertical-align: middle;\n",
       "    }\n",
       "\n",
       "    .dataframe tbody tr th {\n",
       "        vertical-align: top;\n",
       "    }\n",
       "\n",
       "    .dataframe thead th {\n",
       "        text-align: right;\n",
       "    }\n",
       "</style>\n",
       "<table border=\"1\" class=\"dataframe\">\n",
       "  <thead>\n",
       "    <tr style=\"text-align: right;\">\n",
       "      <th></th>\n",
       "      <th>Temperature</th>\n",
       "      <th>Relative Humidity</th>\n",
       "    </tr>\n",
       "    <tr>\n",
       "      <th>Timestamp</th>\n",
       "      <th></th>\n",
       "      <th></th>\n",
       "    </tr>\n",
       "  </thead>\n",
       "  <tbody>\n",
       "    <tr>\n",
       "      <th>20201001T0000</th>\n",
       "      <td>12.437169</td>\n",
       "      <td>59.0</td>\n",
       "    </tr>\n",
       "    <tr>\n",
       "      <th>20201001T0100</th>\n",
       "      <td>12.557169</td>\n",
       "      <td>63.0</td>\n",
       "    </tr>\n",
       "    <tr>\n",
       "      <th>20201001T0200</th>\n",
       "      <td>13.177169</td>\n",
       "      <td>68.0</td>\n",
       "    </tr>\n",
       "    <tr>\n",
       "      <th>20201001T0300</th>\n",
       "      <td>13.087169</td>\n",
       "      <td>76.0</td>\n",
       "    </tr>\n",
       "    <tr>\n",
       "      <th>20201001T0400</th>\n",
       "      <td>12.867169</td>\n",
       "      <td>81.0</td>\n",
       "    </tr>\n",
       "  </tbody>\n",
       "</table>\n",
       "</div>"
      ],
      "text/plain": [
       "               Temperature  Relative Humidity\n",
       "Timestamp                                    \n",
       "20201001T0000    12.437169               59.0\n",
       "20201001T0100    12.557169               63.0\n",
       "20201001T0200    13.177169               68.0\n",
       "20201001T0300    13.087169               76.0\n",
       "20201001T0400    12.867169               81.0"
      ]
     },
     "execution_count": 36,
     "metadata": {},
     "output_type": "execute_result"
    }
   ],
   "source": [
    "sdf"
   ]
  },
  {
   "cell_type": "code",
   "execution_count": 37,
   "metadata": {},
   "outputs": [
    {
     "data": {
      "text/plain": [
       "Index(['Temperature', 'Relative Humidity'], dtype='object')"
      ]
     },
     "execution_count": 37,
     "metadata": {},
     "output_type": "execute_result"
    }
   ],
   "source": [
    "sdf.columns"
   ]
  },
  {
   "cell_type": "code",
   "execution_count": 38,
   "metadata": {},
   "outputs": [
    {
     "data": {
      "text/plain": [
       "Index(['20201001T0000', '20201001T0100', '20201001T0200', '20201001T0300',\n",
       "       '20201001T0400'],\n",
       "      dtype='object', name='Timestamp')"
      ]
     },
     "execution_count": 38,
     "metadata": {},
     "output_type": "execute_result"
    }
   ],
   "source": [
    "sdf.index"
   ]
  },
  {
   "cell_type": "markdown",
   "metadata": {},
   "source": [
    "Let's seek the ones recorded before (and including) 01:00 **or** the one at 04:00 (here _or_ is for the union, not intersection!)"
   ]
  },
  {
   "cell_type": "code",
   "execution_count": 39,
   "metadata": {},
   "outputs": [
    {
     "data": {
      "text/html": [
       "<div>\n",
       "<style scoped>\n",
       "    .dataframe tbody tr th:only-of-type {\n",
       "        vertical-align: middle;\n",
       "    }\n",
       "\n",
       "    .dataframe tbody tr th {\n",
       "        vertical-align: top;\n",
       "    }\n",
       "\n",
       "    .dataframe thead th {\n",
       "        text-align: right;\n",
       "    }\n",
       "</style>\n",
       "<table border=\"1\" class=\"dataframe\">\n",
       "  <thead>\n",
       "    <tr style=\"text-align: right;\">\n",
       "      <th></th>\n",
       "      <th>Temperature</th>\n",
       "      <th>Relative Humidity</th>\n",
       "    </tr>\n",
       "    <tr>\n",
       "      <th>Timestamp</th>\n",
       "      <th></th>\n",
       "      <th></th>\n",
       "    </tr>\n",
       "  </thead>\n",
       "  <tbody>\n",
       "    <tr>\n",
       "      <th>20201001T0000</th>\n",
       "      <td>12.437169</td>\n",
       "      <td>59.0</td>\n",
       "    </tr>\n",
       "    <tr>\n",
       "      <th>20201001T0100</th>\n",
       "      <td>12.557169</td>\n",
       "      <td>63.0</td>\n",
       "    </tr>\n",
       "    <tr>\n",
       "      <th>20201001T0400</th>\n",
       "      <td>12.867169</td>\n",
       "      <td>81.0</td>\n",
       "    </tr>\n",
       "  </tbody>\n",
       "</table>\n",
       "</div>"
      ],
      "text/plain": [
       "               Temperature  Relative Humidity\n",
       "Timestamp                                    \n",
       "20201001T0000    12.437169               59.0\n",
       "20201001T0100    12.557169               63.0\n",
       "20201001T0400    12.867169               81.0"
      ]
     },
     "execution_count": 39,
     "metadata": {},
     "output_type": "execute_result"
    }
   ],
   "source": [
    "# Joining multiple criteria based on row label (index)\n",
    "sdf[(sdf.index < '20201001T0200') | (sdf.index == '20201001T0400')]"
   ]
  },
  {
   "cell_type": "markdown",
   "metadata": {},
   "source": [
    "As the row index is string, we don't even need to write the whole timestamp to the end to make the comparison:"
   ]
  },
  {
   "cell_type": "code",
   "execution_count": 40,
   "metadata": {
    "scrolled": false
   },
   "outputs": [
    {
     "data": {
      "text/plain": [
       "array([False, False,  True,  True,  True])"
      ]
     },
     "execution_count": 40,
     "metadata": {},
     "output_type": "execute_result"
    }
   ],
   "source": [
    "sdf.index > \"20201001T02\""
   ]
  },
  {
   "cell_type": "code",
   "execution_count": 41,
   "metadata": {},
   "outputs": [
    {
     "data": {
      "text/html": [
       "<div>\n",
       "<style scoped>\n",
       "    .dataframe tbody tr th:only-of-type {\n",
       "        vertical-align: middle;\n",
       "    }\n",
       "\n",
       "    .dataframe tbody tr th {\n",
       "        vertical-align: top;\n",
       "    }\n",
       "\n",
       "    .dataframe thead th {\n",
       "        text-align: right;\n",
       "    }\n",
       "</style>\n",
       "<table border=\"1\" class=\"dataframe\">\n",
       "  <thead>\n",
       "    <tr style=\"text-align: right;\">\n",
       "      <th></th>\n",
       "      <th>Temperature</th>\n",
       "      <th>Relative Humidity</th>\n",
       "    </tr>\n",
       "    <tr>\n",
       "      <th>Timestamp</th>\n",
       "      <th></th>\n",
       "      <th></th>\n",
       "    </tr>\n",
       "  </thead>\n",
       "  <tbody>\n",
       "    <tr>\n",
       "      <th>20201001T0200</th>\n",
       "      <td>13.177169</td>\n",
       "      <td>68.0</td>\n",
       "    </tr>\n",
       "    <tr>\n",
       "      <th>20201001T0300</th>\n",
       "      <td>13.087169</td>\n",
       "      <td>76.0</td>\n",
       "    </tr>\n",
       "    <tr>\n",
       "      <th>20201001T0400</th>\n",
       "      <td>12.867169</td>\n",
       "      <td>81.0</td>\n",
       "    </tr>\n",
       "  </tbody>\n",
       "</table>\n",
       "</div>"
      ],
      "text/plain": [
       "               Temperature  Relative Humidity\n",
       "Timestamp                                    \n",
       "20201001T0200    13.177169               68.0\n",
       "20201001T0300    13.087169               76.0\n",
       "20201001T0400    12.867169               81.0"
      ]
     },
     "execution_count": 41,
     "metadata": {},
     "output_type": "execute_result"
    }
   ],
   "source": [
    "sdf[sdf.index> \"20201001T02\"]"
   ]
  },
  {
   "cell_type": "code",
   "execution_count": 42,
   "metadata": {},
   "outputs": [
    {
     "data": {
      "text/html": [
       "<div>\n",
       "<style scoped>\n",
       "    .dataframe tbody tr th:only-of-type {\n",
       "        vertical-align: middle;\n",
       "    }\n",
       "\n",
       "    .dataframe tbody tr th {\n",
       "        vertical-align: top;\n",
       "    }\n",
       "\n",
       "    .dataframe thead th {\n",
       "        text-align: right;\n",
       "    }\n",
       "</style>\n",
       "<table border=\"1\" class=\"dataframe\">\n",
       "  <thead>\n",
       "    <tr style=\"text-align: right;\">\n",
       "      <th></th>\n",
       "      <th>Temperature</th>\n",
       "      <th>Relative Humidity</th>\n",
       "    </tr>\n",
       "    <tr>\n",
       "      <th>Timestamp</th>\n",
       "      <th></th>\n",
       "      <th></th>\n",
       "    </tr>\n",
       "  </thead>\n",
       "  <tbody>\n",
       "    <tr>\n",
       "      <th>20201001T0300</th>\n",
       "      <td>13.087169</td>\n",
       "      <td>76.0</td>\n",
       "    </tr>\n",
       "  </tbody>\n",
       "</table>\n",
       "</div>"
      ],
      "text/plain": [
       "               Temperature  Relative Humidity\n",
       "Timestamp                                    \n",
       "20201001T0300    13.087169               76.0"
      ]
     },
     "execution_count": 42,
     "metadata": {},
     "output_type": "execute_result"
    }
   ],
   "source": [
    "sdf.loc[['20201001T0300'],:]"
   ]
  },
  {
   "cell_type": "markdown",
   "metadata": {},
   "source": [
    "## Processing\n",
    "Now that we know how to slice via filtering, we can do whatever we want with the sections of the data we're interested in. For example, let us calculate the mean temperature in October, 1st:"
   ]
  },
  {
   "cell_type": "code",
   "execution_count": 43,
   "metadata": {},
   "outputs": [
    {
     "data": {
      "text/html": [
       "<div>\n",
       "<style scoped>\n",
       "    .dataframe tbody tr th:only-of-type {\n",
       "        vertical-align: middle;\n",
       "    }\n",
       "\n",
       "    .dataframe tbody tr th {\n",
       "        vertical-align: top;\n",
       "    }\n",
       "\n",
       "    .dataframe thead th {\n",
       "        text-align: right;\n",
       "    }\n",
       "</style>\n",
       "<table border=\"1\" class=\"dataframe\">\n",
       "  <thead>\n",
       "    <tr style=\"text-align: right;\">\n",
       "      <th></th>\n",
       "      <th>Temperature</th>\n",
       "      <th>Relative Humidity</th>\n",
       "      <th>Precipitation Total</th>\n",
       "    </tr>\n",
       "    <tr>\n",
       "      <th>Timestamp</th>\n",
       "      <th></th>\n",
       "      <th></th>\n",
       "      <th></th>\n",
       "    </tr>\n",
       "  </thead>\n",
       "  <tbody>\n",
       "    <tr>\n",
       "      <th>20201001T0000</th>\n",
       "      <td>12.437169</td>\n",
       "      <td>59.0</td>\n",
       "      <td>0.0</td>\n",
       "    </tr>\n",
       "    <tr>\n",
       "      <th>20201001T0100</th>\n",
       "      <td>12.557169</td>\n",
       "      <td>63.0</td>\n",
       "      <td>0.0</td>\n",
       "    </tr>\n",
       "    <tr>\n",
       "      <th>20201001T0200</th>\n",
       "      <td>13.177169</td>\n",
       "      <td>68.0</td>\n",
       "      <td>0.0</td>\n",
       "    </tr>\n",
       "    <tr>\n",
       "      <th>20201001T0300</th>\n",
       "      <td>13.087169</td>\n",
       "      <td>76.0</td>\n",
       "      <td>0.0</td>\n",
       "    </tr>\n",
       "    <tr>\n",
       "      <th>20201001T0400</th>\n",
       "      <td>12.867169</td>\n",
       "      <td>81.0</td>\n",
       "      <td>0.0</td>\n",
       "    </tr>\n",
       "    <tr>\n",
       "      <th>...</th>\n",
       "      <td>...</td>\n",
       "      <td>...</td>\n",
       "      <td>...</td>\n",
       "    </tr>\n",
       "    <tr>\n",
       "      <th>20201008T1900</th>\n",
       "      <td>26.437168</td>\n",
       "      <td>20.0</td>\n",
       "      <td>0.0</td>\n",
       "    </tr>\n",
       "    <tr>\n",
       "      <th>20201008T2000</th>\n",
       "      <td>25.567170</td>\n",
       "      <td>21.0</td>\n",
       "      <td>0.0</td>\n",
       "    </tr>\n",
       "    <tr>\n",
       "      <th>20201008T2100</th>\n",
       "      <td>24.777168</td>\n",
       "      <td>22.0</td>\n",
       "      <td>0.0</td>\n",
       "    </tr>\n",
       "    <tr>\n",
       "      <th>20201008T2200</th>\n",
       "      <td>23.627169</td>\n",
       "      <td>24.0</td>\n",
       "      <td>0.0</td>\n",
       "    </tr>\n",
       "    <tr>\n",
       "      <th>20201008T2300</th>\n",
       "      <td>22.727169</td>\n",
       "      <td>27.0</td>\n",
       "      <td>0.0</td>\n",
       "    </tr>\n",
       "  </tbody>\n",
       "</table>\n",
       "<p>192 rows × 3 columns</p>\n",
       "</div>"
      ],
      "text/plain": [
       "               Temperature  Relative Humidity  Precipitation Total\n",
       "Timestamp                                                         \n",
       "20201001T0000    12.437169               59.0                  0.0\n",
       "20201001T0100    12.557169               63.0                  0.0\n",
       "20201001T0200    13.177169               68.0                  0.0\n",
       "20201001T0300    13.087169               76.0                  0.0\n",
       "20201001T0400    12.867169               81.0                  0.0\n",
       "...                    ...                ...                  ...\n",
       "20201008T1900    26.437168               20.0                  0.0\n",
       "20201008T2000    25.567170               21.0                  0.0\n",
       "20201008T2100    24.777168               22.0                  0.0\n",
       "20201008T2200    23.627169               24.0                  0.0\n",
       "20201008T2300    22.727169               27.0                  0.0\n",
       "\n",
       "[192 rows x 3 columns]"
      ]
     },
     "execution_count": 43,
     "metadata": {},
     "output_type": "execute_result"
    }
   ],
   "source": [
    "df"
   ]
  },
  {
   "cell_type": "code",
   "execution_count": 44,
   "metadata": {},
   "outputs": [
    {
     "name": "stdout",
     "output_type": "stream",
     "text": [
      "Timestamp\n",
      "20201001T0000    12.437169\n",
      "20201001T0100    12.557169\n",
      "20201001T0200    13.177169\n",
      "20201001T0300    13.087169\n",
      "20201001T0400    12.867169\n",
      "                   ...    \n",
      "20201001T1900    18.537169\n",
      "20201001T2000    16.797169\n",
      "20201001T2100    14.717169\n",
      "20201001T2200    12.627169\n",
      "20201001T2300    11.187169\n",
      "Name: Temperature, Length: 24, dtype: float64\n"
     ]
    }
   ],
   "source": [
    "# First get the October 1st day's Temperature data:\n",
    "oct1_temp = df[df.index < \"20201002\"]['Temperature']\n",
    "print(oct1_temp)"
   ]
  },
  {
   "cell_type": "code",
   "execution_count": 45,
   "metadata": {},
   "outputs": [
    {
     "data": {
      "text/plain": [
       "16.406335583333334"
      ]
     },
     "execution_count": 45,
     "metadata": {},
     "output_type": "execute_result"
    }
   ],
   "source": [
    "oct1_temp.mean()"
   ]
  },
  {
   "cell_type": "markdown",
   "metadata": {},
   "source": [
    "Let's calculate all the daily mean temperatures:"
   ]
  },
  {
   "cell_type": "code",
   "execution_count": 46,
   "metadata": {},
   "outputs": [
    {
     "data": {
      "text/plain": [
       "'Hello3'"
      ]
     },
     "execution_count": 46,
     "metadata": {},
     "output_type": "execute_result"
    }
   ],
   "source": [
    "\"Hello\"+str(3)"
   ]
  },
  {
   "cell_type": "code",
   "execution_count": 47,
   "metadata": {},
   "outputs": [
    {
     "name": "stdout",
     "output_type": "stream",
     "text": [
      "October, 1 mean temperature: 16.406 degree C\n",
      "October, 2 mean temperature: 15.769 degree C\n",
      "October, 3 mean temperature: 16.272 degree C\n",
      "October, 4 mean temperature: 17.630 degree C\n",
      "October, 5 mean temperature: 18.854 degree C\n",
      "October, 6 mean temperature: 21.028 degree C\n",
      "October, 7 mean temperature: 22.930 degree C\n",
      "October, 8 mean temperature: 23.917 degree C\n"
     ]
    }
   ],
   "source": [
    "for i in range(1,9):\n",
    "    day_temp = df[(df.index > \"2020100\"+str(i-1)) & (df.index < \"2020100\"+str(i+1))]['Temperature']\n",
    "    day_temp_mean = day_temp.mean()\n",
    "    print (\"October, {} mean temperature: {:6.3f} degree C\".format(i,day_temp_mean))"
   ]
  },
  {
   "cell_type": "markdown",
   "metadata": {},
   "source": [
    "# Creating a dataframe\n",
    "We can directly create a dataframe with the `DataFrame` command:"
   ]
  },
  {
   "cell_type": "code",
   "execution_count": 48,
   "metadata": {},
   "outputs": [
    {
     "data": {
      "text/html": [
       "<div>\n",
       "<style scoped>\n",
       "    .dataframe tbody tr th:only-of-type {\n",
       "        vertical-align: middle;\n",
       "    }\n",
       "\n",
       "    .dataframe tbody tr th {\n",
       "        vertical-align: top;\n",
       "    }\n",
       "\n",
       "    .dataframe thead th {\n",
       "        text-align: right;\n",
       "    }\n",
       "</style>\n",
       "<table border=\"1\" class=\"dataframe\">\n",
       "  <thead>\n",
       "    <tr style=\"text-align: right;\">\n",
       "      <th></th>\n",
       "      <th>day</th>\n",
       "      <th>meanTemp</th>\n",
       "    </tr>\n",
       "  </thead>\n",
       "  <tbody>\n",
       "  </tbody>\n",
       "</table>\n",
       "</div>"
      ],
      "text/plain": [
       "Empty DataFrame\n",
       "Columns: [day, meanTemp]\n",
       "Index: []"
      ]
     },
     "execution_count": 48,
     "metadata": {},
     "output_type": "execute_result"
    }
   ],
   "source": [
    "# Start with an empty dataframe:\n",
    "mean_temps = pd.DataFrame({'day' : [],'meanTemp' : []})\n",
    "mean_temps"
   ]
  },
  {
   "cell_type": "code",
   "execution_count": 49,
   "metadata": {},
   "outputs": [
    {
     "data": {
      "text/html": [
       "<div>\n",
       "<style scoped>\n",
       "    .dataframe tbody tr th:only-of-type {\n",
       "        vertical-align: middle;\n",
       "    }\n",
       "\n",
       "    .dataframe tbody tr th {\n",
       "        vertical-align: top;\n",
       "    }\n",
       "\n",
       "    .dataframe thead th {\n",
       "        text-align: right;\n",
       "    }\n",
       "</style>\n",
       "<table border=\"1\" class=\"dataframe\">\n",
       "  <thead>\n",
       "    <tr style=\"text-align: right;\">\n",
       "      <th></th>\n",
       "      <th>day</th>\n",
       "      <th>meanTemp</th>\n",
       "    </tr>\n",
       "  </thead>\n",
       "  <tbody>\n",
       "    <tr>\n",
       "      <th>0</th>\n",
       "      <td>20201001</td>\n",
       "      <td>16.41</td>\n",
       "    </tr>\n",
       "  </tbody>\n",
       "</table>\n",
       "</div>"
      ],
      "text/plain": [
       "        day  meanTemp\n",
       "0  20201001     16.41"
      ]
     },
     "execution_count": 49,
     "metadata": {},
     "output_type": "execute_result"
    }
   ],
   "source": [
    "# We can fill it individually\n",
    "mean_temps.append({'day': \"20201001\", 'meanTemp' : 16.41}, ignore_index=True)"
   ]
  },
  {
   "cell_type": "code",
   "execution_count": 50,
   "metadata": {},
   "outputs": [
    {
     "name": "stdout",
     "output_type": "stream",
     "text": [
      "['20201001', '20201002', '20201003', '20201004', '20201005', '20201006', '20201007', '20201008']\n",
      "[16.406335583333334, 15.769460629166666, 16.271544045833334, 17.629669104166666, 18.854460770833334, 21.028210770833333, 22.93029415625, 23.916752552083334]\n"
     ]
    },
    {
     "data": {
      "text/html": [
       "<div>\n",
       "<style scoped>\n",
       "    .dataframe tbody tr th:only-of-type {\n",
       "        vertical-align: middle;\n",
       "    }\n",
       "\n",
       "    .dataframe tbody tr th {\n",
       "        vertical-align: top;\n",
       "    }\n",
       "\n",
       "    .dataframe thead th {\n",
       "        text-align: right;\n",
       "    }\n",
       "</style>\n",
       "<table border=\"1\" class=\"dataframe\">\n",
       "  <thead>\n",
       "    <tr style=\"text-align: right;\">\n",
       "      <th></th>\n",
       "      <th>days</th>\n",
       "      <th>means</th>\n",
       "    </tr>\n",
       "  </thead>\n",
       "  <tbody>\n",
       "    <tr>\n",
       "      <th>0</th>\n",
       "      <td>20201001</td>\n",
       "      <td>16.406336</td>\n",
       "    </tr>\n",
       "    <tr>\n",
       "      <th>1</th>\n",
       "      <td>20201002</td>\n",
       "      <td>15.769461</td>\n",
       "    </tr>\n",
       "    <tr>\n",
       "      <th>2</th>\n",
       "      <td>20201003</td>\n",
       "      <td>16.271544</td>\n",
       "    </tr>\n",
       "    <tr>\n",
       "      <th>3</th>\n",
       "      <td>20201004</td>\n",
       "      <td>17.629669</td>\n",
       "    </tr>\n",
       "    <tr>\n",
       "      <th>4</th>\n",
       "      <td>20201005</td>\n",
       "      <td>18.854461</td>\n",
       "    </tr>\n",
       "    <tr>\n",
       "      <th>5</th>\n",
       "      <td>20201006</td>\n",
       "      <td>21.028211</td>\n",
       "    </tr>\n",
       "    <tr>\n",
       "      <th>6</th>\n",
       "      <td>20201007</td>\n",
       "      <td>22.930294</td>\n",
       "    </tr>\n",
       "    <tr>\n",
       "      <th>7</th>\n",
       "      <td>20201008</td>\n",
       "      <td>23.916753</td>\n",
       "    </tr>\n",
       "  </tbody>\n",
       "</table>\n",
       "</div>"
      ],
      "text/plain": [
       "       days      means\n",
       "0  20201001  16.406336\n",
       "1  20201002  15.769461\n",
       "2  20201003  16.271544\n",
       "3  20201004  17.629669\n",
       "4  20201005  18.854461\n",
       "5  20201006  21.028211\n",
       "6  20201007  22.930294\n",
       "7  20201008  23.916753"
      ]
     },
     "execution_count": 50,
     "metadata": {},
     "output_type": "execute_result"
    }
   ],
   "source": [
    "# or create it from the existing list\n",
    "days = []\n",
    "means = []\n",
    "for i in range(1,9):\n",
    "    day_temp = df[(df.index > \"2020100\"+str(i-1)) & (df.index < \"2020100\"+str(i+1))]\\\n",
    "        ['Temperature']\n",
    "    day_temp_mean = day_temp.mean()\n",
    "    # print (\"October, {} mean temperature: {:5.2f} degree C\".format(i,day_temp_mean))\n",
    "    days.append(\"2020100\"+str(i))\n",
    "    means.append(day_temp_mean)\n",
    "# ------------------------------\n",
    "print(days)\n",
    "print(means)\n",
    "data = {'days': days, 'means': means}\n",
    "df_mean_temps = pd.DataFrame(data)\n",
    "df_mean_temps"
   ]
  },
  {
   "cell_type": "code",
   "execution_count": 51,
   "metadata": {},
   "outputs": [
    {
     "data": {
      "text/html": [
       "<div>\n",
       "<style scoped>\n",
       "    .dataframe tbody tr th:only-of-type {\n",
       "        vertical-align: middle;\n",
       "    }\n",
       "\n",
       "    .dataframe tbody tr th {\n",
       "        vertical-align: top;\n",
       "    }\n",
       "\n",
       "    .dataframe thead th {\n",
       "        text-align: right;\n",
       "    }\n",
       "</style>\n",
       "<table border=\"1\" class=\"dataframe\">\n",
       "  <thead>\n",
       "    <tr style=\"text-align: right;\">\n",
       "      <th></th>\n",
       "      <th>days</th>\n",
       "      <th>means</th>\n",
       "    </tr>\n",
       "  </thead>\n",
       "  <tbody>\n",
       "    <tr>\n",
       "      <th>0</th>\n",
       "      <td>20201001</td>\n",
       "      <td>16.4063</td>\n",
       "    </tr>\n",
       "    <tr>\n",
       "      <th>1</th>\n",
       "      <td>20201002</td>\n",
       "      <td>15.7695</td>\n",
       "    </tr>\n",
       "    <tr>\n",
       "      <th>2</th>\n",
       "      <td>20201003</td>\n",
       "      <td>16.2715</td>\n",
       "    </tr>\n",
       "    <tr>\n",
       "      <th>3</th>\n",
       "      <td>20201004</td>\n",
       "      <td>17.6297</td>\n",
       "    </tr>\n",
       "    <tr>\n",
       "      <th>4</th>\n",
       "      <td>20201005</td>\n",
       "      <td>18.8545</td>\n",
       "    </tr>\n",
       "    <tr>\n",
       "      <th>5</th>\n",
       "      <td>20201006</td>\n",
       "      <td>21.0282</td>\n",
       "    </tr>\n",
       "    <tr>\n",
       "      <th>6</th>\n",
       "      <td>20201007</td>\n",
       "      <td>22.9303</td>\n",
       "    </tr>\n",
       "    <tr>\n",
       "      <th>7</th>\n",
       "      <td>20201008</td>\n",
       "      <td>23.9168</td>\n",
       "    </tr>\n",
       "    <tr>\n",
       "      <th>8</th>\n",
       "      <td>20201013</td>\n",
       "      <td>23.5</td>\n",
       "    </tr>\n",
       "  </tbody>\n",
       "</table>\n",
       "</div>"
      ],
      "text/plain": [
       "       days    means\n",
       "0  20201001  16.4063\n",
       "1  20201002  15.7695\n",
       "2  20201003  16.2715\n",
       "3  20201004  17.6297\n",
       "4  20201005  18.8545\n",
       "5  20201006  21.0282\n",
       "6  20201007  22.9303\n",
       "7  20201008  23.9168\n",
       "8  20201013     23.5"
      ]
     },
     "execution_count": 51,
     "metadata": {},
     "output_type": "execute_result"
    }
   ],
   "source": [
    "new_entry = pd.Series({'days': \"20201013\",'means':\"23.5\"})\n",
    "df_mean_temps = df_mean_temps.append(new_entry, ignore_index=True)\n",
    "df_mean_temps"
   ]
  },
  {
   "cell_type": "code",
   "execution_count": 52,
   "metadata": {},
   "outputs": [],
   "source": [
    "# Specifying the index:\n",
    "new_entry = pd.Series({'days': \"20201011\",'means':\"24.5\"}, name = 'k14')\n",
    "df_mean_temps = df_mean_temps.append(new_entry)"
   ]
  },
  {
   "cell_type": "code",
   "execution_count": 53,
   "metadata": {},
   "outputs": [
    {
     "data": {
      "text/html": [
       "<div>\n",
       "<style scoped>\n",
       "    .dataframe tbody tr th:only-of-type {\n",
       "        vertical-align: middle;\n",
       "    }\n",
       "\n",
       "    .dataframe tbody tr th {\n",
       "        vertical-align: top;\n",
       "    }\n",
       "\n",
       "    .dataframe thead th {\n",
       "        text-align: right;\n",
       "    }\n",
       "</style>\n",
       "<table border=\"1\" class=\"dataframe\">\n",
       "  <thead>\n",
       "    <tr style=\"text-align: right;\">\n",
       "      <th></th>\n",
       "      <th>days</th>\n",
       "      <th>means</th>\n",
       "    </tr>\n",
       "  </thead>\n",
       "  <tbody>\n",
       "    <tr>\n",
       "      <th>0</th>\n",
       "      <td>20201001</td>\n",
       "      <td>16.4063</td>\n",
       "    </tr>\n",
       "    <tr>\n",
       "      <th>1</th>\n",
       "      <td>20201002</td>\n",
       "      <td>15.7695</td>\n",
       "    </tr>\n",
       "    <tr>\n",
       "      <th>2</th>\n",
       "      <td>20201003</td>\n",
       "      <td>16.2715</td>\n",
       "    </tr>\n",
       "    <tr>\n",
       "      <th>3</th>\n",
       "      <td>20201004</td>\n",
       "      <td>17.6297</td>\n",
       "    </tr>\n",
       "    <tr>\n",
       "      <th>4</th>\n",
       "      <td>20201005</td>\n",
       "      <td>18.8545</td>\n",
       "    </tr>\n",
       "    <tr>\n",
       "      <th>5</th>\n",
       "      <td>20201006</td>\n",
       "      <td>21.0282</td>\n",
       "    </tr>\n",
       "    <tr>\n",
       "      <th>6</th>\n",
       "      <td>20201007</td>\n",
       "      <td>22.9303</td>\n",
       "    </tr>\n",
       "    <tr>\n",
       "      <th>7</th>\n",
       "      <td>20201008</td>\n",
       "      <td>23.9168</td>\n",
       "    </tr>\n",
       "    <tr>\n",
       "      <th>8</th>\n",
       "      <td>20201013</td>\n",
       "      <td>23.5</td>\n",
       "    </tr>\n",
       "    <tr>\n",
       "      <th>k14</th>\n",
       "      <td>20201011</td>\n",
       "      <td>24.5</td>\n",
       "    </tr>\n",
       "  </tbody>\n",
       "</table>\n",
       "</div>"
      ],
      "text/plain": [
       "         days    means\n",
       "0    20201001  16.4063\n",
       "1    20201002  15.7695\n",
       "2    20201003  16.2715\n",
       "3    20201004  17.6297\n",
       "4    20201005  18.8545\n",
       "5    20201006  21.0282\n",
       "6    20201007  22.9303\n",
       "7    20201008  23.9168\n",
       "8    20201013     23.5\n",
       "k14  20201011     24.5"
      ]
     },
     "execution_count": 53,
     "metadata": {},
     "output_type": "execute_result"
    }
   ],
   "source": [
    "df_mean_temps"
   ]
  },
  {
   "cell_type": "code",
   "execution_count": 54,
   "metadata": {},
   "outputs": [
    {
     "data": {
      "text/plain": [
       "Index([0, 1, 2, 3, 4, 5, 6, 7, 8, 'k14'], dtype='object')"
      ]
     },
     "execution_count": 54,
     "metadata": {},
     "output_type": "execute_result"
    }
   ],
   "source": [
    "df_mean_temps.index"
   ]
  },
  {
   "cell_type": "code",
   "execution_count": 55,
   "metadata": {},
   "outputs": [
    {
     "data": {
      "text/plain": [
       "(10, 2)"
      ]
     },
     "execution_count": 55,
     "metadata": {},
     "output_type": "execute_result"
    }
   ],
   "source": [
    "df_mean_temps.shape"
   ]
  },
  {
   "cell_type": "code",
   "execution_count": 56,
   "metadata": {},
   "outputs": [
    {
     "data": {
      "text/html": [
       "<div>\n",
       "<style scoped>\n",
       "    .dataframe tbody tr th:only-of-type {\n",
       "        vertical-align: middle;\n",
       "    }\n",
       "\n",
       "    .dataframe tbody tr th {\n",
       "        vertical-align: top;\n",
       "    }\n",
       "\n",
       "    .dataframe thead th {\n",
       "        text-align: right;\n",
       "    }\n",
       "</style>\n",
       "<table border=\"1\" class=\"dataframe\">\n",
       "  <thead>\n",
       "    <tr style=\"text-align: right;\">\n",
       "      <th></th>\n",
       "      <th>days</th>\n",
       "      <th>means</th>\n",
       "    </tr>\n",
       "  </thead>\n",
       "  <tbody>\n",
       "    <tr>\n",
       "      <th>k14</th>\n",
       "      <td>20201011</td>\n",
       "      <td>24.5</td>\n",
       "    </tr>\n",
       "  </tbody>\n",
       "</table>\n",
       "</div>"
      ],
      "text/plain": [
       "         days means\n",
       "k14  20201011  24.5"
      ]
     },
     "execution_count": 56,
     "metadata": {},
     "output_type": "execute_result"
    }
   ],
   "source": [
    "df_mean_temps.iloc[[9],:]"
   ]
  },
  {
   "cell_type": "code",
   "execution_count": 57,
   "metadata": {
    "scrolled": true
   },
   "outputs": [
    {
     "data": {
      "text/html": [
       "<div>\n",
       "<style scoped>\n",
       "    .dataframe tbody tr th:only-of-type {\n",
       "        vertical-align: middle;\n",
       "    }\n",
       "\n",
       "    .dataframe tbody tr th {\n",
       "        vertical-align: top;\n",
       "    }\n",
       "\n",
       "    .dataframe thead th {\n",
       "        text-align: right;\n",
       "    }\n",
       "</style>\n",
       "<table border=\"1\" class=\"dataframe\">\n",
       "  <thead>\n",
       "    <tr style=\"text-align: right;\">\n",
       "      <th></th>\n",
       "      <th>days</th>\n",
       "      <th>means</th>\n",
       "    </tr>\n",
       "  </thead>\n",
       "  <tbody>\n",
       "    <tr>\n",
       "      <th>k14</th>\n",
       "      <td>20201011</td>\n",
       "      <td>24.5</td>\n",
       "    </tr>\n",
       "  </tbody>\n",
       "</table>\n",
       "</div>"
      ],
      "text/plain": [
       "         days means\n",
       "k14  20201011  24.5"
      ]
     },
     "execution_count": 57,
     "metadata": {},
     "output_type": "execute_result"
    }
   ],
   "source": [
    "df_mean_temps.loc[['k14'],:]"
   ]
  },
  {
   "cell_type": "code",
   "execution_count": 58,
   "metadata": {},
   "outputs": [
    {
     "data": {
      "text/html": [
       "<div>\n",
       "<style scoped>\n",
       "    .dataframe tbody tr th:only-of-type {\n",
       "        vertical-align: middle;\n",
       "    }\n",
       "\n",
       "    .dataframe tbody tr th {\n",
       "        vertical-align: top;\n",
       "    }\n",
       "\n",
       "    .dataframe thead th {\n",
       "        text-align: right;\n",
       "    }\n",
       "</style>\n",
       "<table border=\"1\" class=\"dataframe\">\n",
       "  <thead>\n",
       "    <tr style=\"text-align: right;\">\n",
       "      <th></th>\n",
       "      <th>days</th>\n",
       "      <th>means</th>\n",
       "    </tr>\n",
       "  </thead>\n",
       "  <tbody>\n",
       "    <tr>\n",
       "      <th>8</th>\n",
       "      <td>20201013</td>\n",
       "      <td>23.5</td>\n",
       "    </tr>\n",
       "  </tbody>\n",
       "</table>\n",
       "</div>"
      ],
      "text/plain": [
       "       days means\n",
       "8  20201013  23.5"
      ]
     },
     "execution_count": 58,
     "metadata": {},
     "output_type": "execute_result"
    }
   ],
   "source": [
    "df_mean_temps.iloc[[8],:]"
   ]
  },
  {
   "cell_type": "code",
   "execution_count": 59,
   "metadata": {
    "scrolled": true
   },
   "outputs": [
    {
     "data": {
      "text/html": [
       "<div>\n",
       "<style scoped>\n",
       "    .dataframe tbody tr th:only-of-type {\n",
       "        vertical-align: middle;\n",
       "    }\n",
       "\n",
       "    .dataframe tbody tr th {\n",
       "        vertical-align: top;\n",
       "    }\n",
       "\n",
       "    .dataframe thead th {\n",
       "        text-align: right;\n",
       "    }\n",
       "</style>\n",
       "<table border=\"1\" class=\"dataframe\">\n",
       "  <thead>\n",
       "    <tr style=\"text-align: right;\">\n",
       "      <th></th>\n",
       "      <th>days</th>\n",
       "      <th>means</th>\n",
       "    </tr>\n",
       "  </thead>\n",
       "  <tbody>\n",
       "    <tr>\n",
       "      <th>8</th>\n",
       "      <td>20201013</td>\n",
       "      <td>23.5</td>\n",
       "    </tr>\n",
       "  </tbody>\n",
       "</table>\n",
       "</div>"
      ],
      "text/plain": [
       "       days means\n",
       "8  20201013  23.5"
      ]
     },
     "execution_count": 59,
     "metadata": {},
     "output_type": "execute_result"
    }
   ],
   "source": [
    "df_mean_temps.loc[[8],:]"
   ]
  },
  {
   "cell_type": "markdown",
   "metadata": {},
   "source": [
    "# Exporting the DataFrame to a CSV file\n"
   ]
  },
  {
   "cell_type": "code",
   "execution_count": 60,
   "metadata": {},
   "outputs": [
    {
     "data": {
      "text/html": [
       "<div>\n",
       "<style scoped>\n",
       "    .dataframe tbody tr th:only-of-type {\n",
       "        vertical-align: middle;\n",
       "    }\n",
       "\n",
       "    .dataframe tbody tr th {\n",
       "        vertical-align: top;\n",
       "    }\n",
       "\n",
       "    .dataframe thead th {\n",
       "        text-align: right;\n",
       "    }\n",
       "</style>\n",
       "<table border=\"1\" class=\"dataframe\">\n",
       "  <thead>\n",
       "    <tr style=\"text-align: right;\">\n",
       "      <th></th>\n",
       "      <th>days</th>\n",
       "      <th>means</th>\n",
       "    </tr>\n",
       "  </thead>\n",
       "  <tbody>\n",
       "    <tr>\n",
       "      <th>0</th>\n",
       "      <td>20201001</td>\n",
       "      <td>16.4063</td>\n",
       "    </tr>\n",
       "    <tr>\n",
       "      <th>1</th>\n",
       "      <td>20201002</td>\n",
       "      <td>15.7695</td>\n",
       "    </tr>\n",
       "    <tr>\n",
       "      <th>2</th>\n",
       "      <td>20201003</td>\n",
       "      <td>16.2715</td>\n",
       "    </tr>\n",
       "    <tr>\n",
       "      <th>3</th>\n",
       "      <td>20201004</td>\n",
       "      <td>17.6297</td>\n",
       "    </tr>\n",
       "    <tr>\n",
       "      <th>4</th>\n",
       "      <td>20201005</td>\n",
       "      <td>18.8545</td>\n",
       "    </tr>\n",
       "    <tr>\n",
       "      <th>5</th>\n",
       "      <td>20201006</td>\n",
       "      <td>21.0282</td>\n",
       "    </tr>\n",
       "    <tr>\n",
       "      <th>6</th>\n",
       "      <td>20201007</td>\n",
       "      <td>22.9303</td>\n",
       "    </tr>\n",
       "    <tr>\n",
       "      <th>7</th>\n",
       "      <td>20201008</td>\n",
       "      <td>23.9168</td>\n",
       "    </tr>\n",
       "    <tr>\n",
       "      <th>8</th>\n",
       "      <td>20201013</td>\n",
       "      <td>23.5</td>\n",
       "    </tr>\n",
       "    <tr>\n",
       "      <th>k14</th>\n",
       "      <td>20201011</td>\n",
       "      <td>24.5</td>\n",
       "    </tr>\n",
       "  </tbody>\n",
       "</table>\n",
       "</div>"
      ],
      "text/plain": [
       "         days    means\n",
       "0    20201001  16.4063\n",
       "1    20201002  15.7695\n",
       "2    20201003  16.2715\n",
       "3    20201004  17.6297\n",
       "4    20201005  18.8545\n",
       "5    20201006  21.0282\n",
       "6    20201007  22.9303\n",
       "7    20201008  23.9168\n",
       "8    20201013     23.5\n",
       "k14  20201011     24.5"
      ]
     },
     "execution_count": 60,
     "metadata": {},
     "output_type": "execute_result"
    }
   ],
   "source": [
    "df_mean_temps"
   ]
  },
  {
   "cell_type": "code",
   "execution_count": 61,
   "metadata": {},
   "outputs": [
    {
     "name": "stdout",
     "output_type": "stream",
     "text": [
      ",days,means\n",
      "0,20201001,16.406335583333334\n",
      "1,20201002,15.769460629166666\n",
      "2,20201003,16.271544045833334\n",
      "3,20201004,17.629669104166666\n",
      "4,20201005,18.854460770833334\n",
      "5,20201006,21.028210770833333\n",
      "6,20201007,22.93029415625\n",
      "7,20201008,23.916752552083334\n",
      "8,20201013,23.5\n",
      "k14,20201011,24.5\n",
      "\n"
     ]
    }
   ],
   "source": [
    "# With the row labels (index) and column labels included:\n",
    "df_mean_temps.to_csv('data/01_out.csv')\n",
    "print(df_mean_temps.to_csv())"
   ]
  },
  {
   "cell_type": "code",
   "execution_count": 62,
   "metadata": {},
   "outputs": [
    {
     "name": "stdout",
     "output_type": "stream",
     "text": [
      "days,means\n",
      "20201001,16.406335583333334\n",
      "20201002,15.769460629166666\n",
      "20201003,16.271544045833334\n",
      "20201004,17.629669104166666\n",
      "20201005,18.854460770833334\n",
      "20201006,21.028210770833333\n",
      "20201007,22.93029415625\n",
      "20201008,23.916752552083334\n",
      "20201013,23.5\n",
      "20201011,24.5\n",
      "\n"
     ]
    }
   ],
   "source": [
    "# Without the row labels but with the column labels:\n",
    "print(df_mean_temps.to_csv(index=False))"
   ]
  },
  {
   "cell_type": "code",
   "execution_count": 63,
   "metadata": {},
   "outputs": [
    {
     "name": "stdout",
     "output_type": "stream",
     "text": [
      "20201001,16.406335583333334\n",
      "20201002,15.769460629166666\n",
      "20201003,16.271544045833334\n",
      "20201004,17.629669104166666\n",
      "20201005,18.854460770833334\n",
      "20201006,21.028210770833333\n",
      "20201007,22.93029415625\n",
      "20201008,23.916752552083334\n",
      "20201013,23.5\n",
      "20201011,24.5\n",
      "\n"
     ]
    }
   ],
   "source": [
    "# Without the row labels and the column labels:\n",
    "print(df_mean_temps.to_csv(index=False, header=False))"
   ]
  },
  {
   "cell_type": "code",
   "execution_count": 64,
   "metadata": {},
   "outputs": [
    {
     "name": "stdout",
     "output_type": "stream",
     "text": [
      "ids,days,means\n",
      "0,20201001,16.406335583333334\n",
      "1,20201002,15.769460629166666\n",
      "2,20201003,16.271544045833334\n",
      "3,20201004,17.629669104166666\n",
      "4,20201005,18.854460770833334\n",
      "5,20201006,21.028210770833333\n",
      "6,20201007,22.93029415625\n",
      "7,20201008,23.916752552083334\n",
      "8,20201013,23.5\n",
      "k14,20201011,24.5\n",
      "\n"
     ]
    }
   ],
   "source": [
    "# Specify header for the index column:\n",
    "print(df_mean_temps.to_csv(index_label='ids'))"
   ]
  },
  {
   "cell_type": "code",
   "execution_count": 65,
   "metadata": {},
   "outputs": [
    {
     "name": "stdout",
     "output_type": "stream",
     "text": [
      ";days;means\n",
      "0;20201001;16.406335583333334\n",
      "1;20201002;15.769460629166666\n",
      "2;20201003;16.271544045833334\n",
      "3;20201004;17.629669104166666\n",
      "4;20201005;18.854460770833334\n",
      "5;20201006;21.028210770833333\n",
      "6;20201007;22.93029415625\n",
      "7;20201008;23.916752552083334\n",
      "8;20201013;23.5\n",
      "k14;20201011;24.5\n",
      "\n"
     ]
    }
   ],
   "source": [
    "# Use ';' as the seperator, instead of ','\n",
    "df_mean_temps.to_csv(sep=';',path_or_buf='data/01_out.csv')\n",
    "print(df_mean_temps.to_csv(sep=';'))"
   ]
  },
  {
   "cell_type": "markdown",
   "metadata": {},
   "source": [
    "# NumPy way of doing things\n",
    "Even though Pandas offer very flexible options of doing things, we could as well have used NumPy:"
   ]
  },
  {
   "cell_type": "code",
   "execution_count": 66,
   "metadata": {},
   "outputs": [
    {
     "name": "stdout",
     "output_type": "stream",
     "text": [
      "[[        nan         nan         nan         nan]\n",
      " [        nan  40.01502    40.01502    40.01502  ]\n",
      " [        nan  32.73532    32.73532    32.73532  ]\n",
      " [        nan 923.411     923.411     923.411    ]\n",
      " [        nan         nan         nan         nan]\n",
      " [        nan         nan         nan         nan]\n",
      " [        nan         nan         nan         nan]\n",
      " [        nan         nan         nan         nan]\n",
      " [        nan         nan         nan         nan]\n",
      " [        nan         nan         nan         nan]\n",
      " [        nan  12.437169   59.          0.       ]\n",
      " [        nan  12.557169   63.          0.       ]\n",
      " [        nan  13.177169   68.          0.       ]\n",
      " [        nan  13.087169   76.          0.       ]\n",
      " [        nan  12.867169   81.          0.       ]\n",
      " [        nan  11.567169   88.          0.       ]\n",
      " [        nan  11.177169   90.          0.       ]\n",
      " [        nan  12.187169   87.          0.       ]\n",
      " [        nan  13.797169   78.          0.       ]\n",
      " [        nan  14.967169   72.          0.       ]\n",
      " [        nan  16.787169   62.          0.       ]\n",
      " [        nan  18.367168   55.          0.       ]\n",
      " [        nan  20.957169   41.          0.       ]\n",
      " [        nan  22.057169   36.          0.       ]\n",
      " [        nan  22.857168   33.          0.       ]\n",
      " [        nan  23.527168   29.          0.       ]\n",
      " [        nan  23.40717    28.          0.       ]\n",
      " [        nan  22.687168   28.          0.       ]\n",
      " [        nan  21.41717    30.          0.       ]\n",
      " [        nan  18.537169   35.          0.       ]\n",
      " [        nan  16.797169   39.          0.       ]\n",
      " [        nan  14.717169   44.          0.       ]\n",
      " [        nan  12.627169   54.          0.       ]\n",
      " [        nan  11.187169   64.          0.       ]\n",
      " [        nan   9.9971695  72.          0.       ]\n",
      " [        nan   9.057169   80.          0.       ]\n",
      " [        nan   8.357169   86.          0.       ]\n",
      " [        nan   7.727169   89.          0.       ]\n",
      " [        nan   7.307169   90.          0.       ]\n",
      " [        nan   7.107169   92.          0.       ]\n",
      " [        nan   7.177169   91.          0.       ]\n",
      " [        nan   7.1271687  90.          0.       ]\n",
      " [        nan   9.537169   76.          0.       ]\n",
      " [        nan  13.377169   64.          0.       ]\n",
      " [        nan  16.73717    52.          0.       ]\n",
      " [        nan  19.697168   38.          0.       ]\n",
      " [        nan  21.047169   29.          0.       ]\n",
      " [        nan  22.027168   26.          0.       ]\n",
      " [        nan  22.787169   23.          0.       ]\n",
      " [        nan  23.187168   22.          0.       ]\n",
      " [        nan  23.037169   20.          0.       ]\n",
      " [        nan  22.357168   21.          0.       ]\n",
      " [        nan  20.83717    23.          0.       ]\n",
      " [        nan  18.64717    26.          0.       ]\n",
      " [        nan  17.67717    28.          0.       ]\n",
      " [        nan  16.98717    29.          0.       ]\n",
      " [        nan  16.087168   31.          0.       ]\n",
      " [        nan  15.297169   33.          0.       ]\n",
      " [        nan  13.867169   36.          0.       ]\n",
      " [        nan  12.397169   41.          0.       ]\n",
      " [        nan  11.107169   46.          0.       ]\n",
      " [        nan  10.157169   51.          0.       ]\n",
      " [        nan  10.587169   51.          0.       ]\n",
      " [        nan  10.507169   50.          0.       ]\n",
      " [        nan  10.147169   49.          0.       ]\n",
      " [        nan   9.617169   47.          0.       ]\n",
      " [        nan  11.397169   42.          0.       ]\n",
      " [        nan  16.32717    31.          0.       ]\n",
      " [        nan  20.09717    24.          0.       ]\n",
      " [        nan  21.947168   21.          0.       ]\n",
      " [        nan  23.217169   19.          0.       ]\n",
      " [        nan  24.187168   18.          0.       ]\n",
      " [        nan  24.887169   16.          0.       ]\n",
      " [        nan  25.297169   16.          0.       ]\n",
      " [        nan  25.16717    15.          0.       ]\n",
      " [        nan  24.477169   16.          0.       ]\n",
      " [        nan  22.58717    19.          0.       ]\n",
      " [        nan  20.83717    21.          0.       ]\n",
      " [        nan  19.797169   23.          0.       ]\n",
      " [        nan  18.447168   25.          0.       ]\n",
      " [        nan  16.707169   29.          0.       ]\n",
      " [        nan  14.087169   35.          0.       ]\n",
      " [        nan  11.627169   44.          0.       ]\n",
      " [        nan   9.607169   57.          0.       ]\n",
      " [        nan   8.857169   65.          0.       ]\n",
      " [        nan   8.597169   70.          0.       ]\n",
      " [        nan  10.287169   62.          0.       ]\n",
      " [        nan  11.367169   55.          0.       ]\n",
      " [        nan  11.787169   51.          0.       ]\n",
      " [        nan  11.687169   50.          0.       ]\n",
      " [        nan  12.857169   46.          0.       ]\n",
      " [        nan  17.277168   35.          0.       ]\n",
      " [        nan  20.51717    28.          0.       ]\n",
      " [        nan  22.697168   25.          0.       ]\n",
      " [        nan  24.217169   21.          0.       ]\n",
      " [        nan  25.527168   18.          0.       ]\n",
      " [        nan  26.48717    15.          0.       ]\n",
      " [        nan  27.06717    14.          0.       ]\n",
      " [        nan  27.06717    14.          0.       ]\n",
      " [        nan  26.48717    15.          0.       ]\n",
      " [        nan  24.357168   17.          0.       ]\n",
      " [        nan  22.057169   20.          0.       ]\n",
      " [        nan  20.31717    23.          0.       ]\n",
      " [        nan  18.31717    27.          0.       ]\n",
      " [        nan  15.907169   32.          0.       ]\n",
      " [        nan  13.397169   38.          0.       ]\n",
      " [        nan  11.437169   46.          0.       ]\n",
      " [        nan  10.687169   50.          0.       ]\n",
      " [        nan  10.317169   54.          0.       ]\n",
      " [        nan  10.107169   55.          0.       ]\n",
      " [        nan  11.477169   51.          0.       ]\n",
      " [        nan  12.227169   48.          0.       ]\n",
      " [        nan  12.567169   46.          0.       ]\n",
      " [        nan  12.347169   46.          0.       ]\n",
      " [        nan  13.457169   42.          0.       ]\n",
      " [        nan  17.947168   32.          0.       ]\n",
      " [        nan  21.64717    25.          0.       ]\n",
      " [        nan  24.447168   21.          0.       ]\n",
      " [        nan  27.00717    18.          0.       ]\n",
      " [        nan  29.07717    15.          0.       ]\n",
      " [        nan  30.67717    14.          0.       ]\n",
      " [        nan  31.867168   13.          0.       ]\n",
      " [        nan  31.697168   14.          0.       ]\n",
      " [        nan  30.627169   15.          0.       ]\n",
      " [        nan  28.06717    19.          0.       ]\n",
      " [        nan  25.797169   23.          0.       ]\n",
      " [        nan  22.367168   29.          0.       ]\n",
      " [        nan  18.81717    36.          0.       ]\n",
      " [        nan  16.58717    42.          0.       ]\n",
      " [        nan  15.387169   45.          0.       ]\n",
      " [        nan  14.857169   47.          0.       ]\n",
      " [        nan  14.467169   49.          0.       ]\n",
      " [        nan  14.337169   50.          0.       ]\n",
      " [        nan  14.147169   51.          0.       ]\n",
      " [        nan  15.477169   47.          0.       ]\n",
      " [        nan  16.107168   46.          0.       ]\n",
      " [        nan  16.297169   45.          0.       ]\n",
      " [        nan  16.097168   46.          0.       ]\n",
      " [        nan  17.227169   43.          0.       ]\n",
      " [        nan  21.34717    33.          0.       ]\n",
      " [        nan  25.057169   27.          0.       ]\n",
      " [        nan  28.187168   22.          0.       ]\n",
      " [        nan  30.57717    18.          0.       ]\n",
      " [        nan  31.84717    16.          0.       ]\n",
      " [        nan  32.27717    15.          0.       ]\n",
      " [        nan  32.33717    15.          0.       ]\n",
      " [        nan  31.947168   15.          0.       ]\n",
      " [        nan  30.807169   16.          0.       ]\n",
      " [        nan  28.65717    19.          0.       ]\n",
      " [        nan  26.527168   22.          0.       ]\n",
      " [        nan  22.297169   29.          0.       ]\n",
      " [        nan  19.40717    35.          0.       ]\n",
      " [        nan  17.01717    42.          0.       ]\n",
      " [        nan  15.407169   48.          0.       ]\n",
      " [        nan  14.817169   51.          0.       ]\n",
      " [        nan  14.7471695  51.          0.       ]\n",
      " [        nan  14.847169   51.          0.       ]\n",
      " [        nan  15.127169   49.          0.       ]\n",
      " [        nan  16.49717    44.          0.       ]\n",
      " [        nan  17.00717    42.          0.       ]\n",
      " [        nan  17.16717    41.          0.       ]\n",
      " [        nan  17.07717    42.          0.       ]\n",
      " [        nan  18.32717    39.          0.       ]\n",
      " [        nan  22.24717    31.          0.       ]\n",
      " [        nan  25.92717    25.          0.       ]\n",
      " [        nan  28.807169   20.          0.       ]\n",
      " [        nan  30.807169   18.          0.       ]\n",
      " [        nan  31.717169   17.          0.       ]\n",
      " [        nan  32.057167   16.          0.       ]\n",
      " [        nan  32.107166   15.          0.       ]\n",
      " [        nan  31.39717    15.          0.       ]\n",
      " [        nan  30.33717    17.          0.       ]\n",
      " [        nan  28.56717    20.          0.       ]\n",
      " [        nan  27.07717    22.          0.       ]\n",
      " [        nan  26.34717    24.          0.       ]\n",
      " [        nan  25.867168   24.          0.       ]\n",
      " [        nan  24.947168   26.          0.       ]\n",
      " [        nan  24.117168   27.          0.       ]\n",
      " [        nan  24.047169   28.          0.       ]\n",
      " [        nan  22.50717    30.          0.       ]\n",
      " [        nan  21.047169   33.          0.       ]\n",
      " [        nan  19.51717    37.          0.       ]\n",
      " [        nan  18.447168   40.          0.       ]\n",
      " [        nan  17.41717    44.          0.       ]\n",
      " [        nan  16.59717    50.          0.       ]\n",
      " [        nan  15.627169   57.          0.       ]\n",
      " [        nan  17.15717    52.          0.       ]\n",
      " [        nan  22.51717    36.          0.       ]\n",
      " [        nan  25.977169   30.          0.       ]\n",
      " [        nan  28.51717    26.          0.       ]\n",
      " [        nan  29.56717    24.          0.       ]\n",
      " [        nan  29.137169   19.          0.       ]\n",
      " [        nan  30.00717    17.          0.       ]\n",
      " [        nan  30.287169   16.          0.       ]\n",
      " [        nan  30.357168   16.          0.       ]\n",
      " [        nan  29.857168   16.          0.       ]\n",
      " [        nan  28.33717    18.          0.       ]\n",
      " [        nan  26.437168   20.          0.       ]\n",
      " [        nan  25.56717    21.          0.       ]\n",
      " [        nan  24.777168   22.          0.       ]\n",
      " [        nan  23.627169   24.          0.       ]\n",
      " [        nan  22.727169   27.          0.       ]]\n"
     ]
    }
   ],
   "source": [
    "import numpy as np\n",
    "\n",
    "data = np.genfromtxt(\"data/01_dataexport_20201008T180753.csv\", delimiter=',')\n",
    "print(data)"
   ]
  },
  {
   "cell_type": "markdown",
   "metadata": {},
   "source": [
    "As you can see, unfortunately, we can't place different types of variables into the same array. But other than that, the rest of the operations are similar:"
   ]
  },
  {
   "cell_type": "code",
   "execution_count": 67,
   "metadata": {},
   "outputs": [
    {
     "data": {
      "text/plain": [
       "(202, 4)"
      ]
     },
     "execution_count": 67,
     "metadata": {},
     "output_type": "execute_result"
    }
   ],
   "source": [
    "data.shape"
   ]
  },
  {
   "cell_type": "code",
   "execution_count": 68,
   "metadata": {},
   "outputs": [],
   "source": [
    "data_crop = data[11:,1:4]"
   ]
  },
  {
   "cell_type": "code",
   "execution_count": 69,
   "metadata": {},
   "outputs": [
    {
     "data": {
      "text/plain": [
       "array([[12.557169 , 63.       ,  0.       ],\n",
       "       [13.177169 , 68.       ,  0.       ],\n",
       "       [13.087169 , 76.       ,  0.       ],\n",
       "       [12.867169 , 81.       ,  0.       ],\n",
       "       [11.567169 , 88.       ,  0.       ],\n",
       "       [11.177169 , 90.       ,  0.       ],\n",
       "       [12.187169 , 87.       ,  0.       ],\n",
       "       [13.797169 , 78.       ,  0.       ],\n",
       "       [14.967169 , 72.       ,  0.       ],\n",
       "       [16.787169 , 62.       ,  0.       ],\n",
       "       [18.367168 , 55.       ,  0.       ],\n",
       "       [20.957169 , 41.       ,  0.       ],\n",
       "       [22.057169 , 36.       ,  0.       ],\n",
       "       [22.857168 , 33.       ,  0.       ],\n",
       "       [23.527168 , 29.       ,  0.       ],\n",
       "       [23.40717  , 28.       ,  0.       ],\n",
       "       [22.687168 , 28.       ,  0.       ],\n",
       "       [21.41717  , 30.       ,  0.       ],\n",
       "       [18.537169 , 35.       ,  0.       ],\n",
       "       [16.797169 , 39.       ,  0.       ],\n",
       "       [14.717169 , 44.       ,  0.       ],\n",
       "       [12.627169 , 54.       ,  0.       ],\n",
       "       [11.187169 , 64.       ,  0.       ],\n",
       "       [ 9.9971695, 72.       ,  0.       ],\n",
       "       [ 9.057169 , 80.       ,  0.       ],\n",
       "       [ 8.357169 , 86.       ,  0.       ],\n",
       "       [ 7.727169 , 89.       ,  0.       ],\n",
       "       [ 7.307169 , 90.       ,  0.       ],\n",
       "       [ 7.107169 , 92.       ,  0.       ],\n",
       "       [ 7.177169 , 91.       ,  0.       ],\n",
       "       [ 7.1271687, 90.       ,  0.       ],\n",
       "       [ 9.537169 , 76.       ,  0.       ],\n",
       "       [13.377169 , 64.       ,  0.       ],\n",
       "       [16.73717  , 52.       ,  0.       ],\n",
       "       [19.697168 , 38.       ,  0.       ],\n",
       "       [21.047169 , 29.       ,  0.       ],\n",
       "       [22.027168 , 26.       ,  0.       ],\n",
       "       [22.787169 , 23.       ,  0.       ],\n",
       "       [23.187168 , 22.       ,  0.       ],\n",
       "       [23.037169 , 20.       ,  0.       ],\n",
       "       [22.357168 , 21.       ,  0.       ],\n",
       "       [20.83717  , 23.       ,  0.       ],\n",
       "       [18.64717  , 26.       ,  0.       ],\n",
       "       [17.67717  , 28.       ,  0.       ],\n",
       "       [16.98717  , 29.       ,  0.       ],\n",
       "       [16.087168 , 31.       ,  0.       ],\n",
       "       [15.297169 , 33.       ,  0.       ],\n",
       "       [13.867169 , 36.       ,  0.       ],\n",
       "       [12.397169 , 41.       ,  0.       ],\n",
       "       [11.107169 , 46.       ,  0.       ],\n",
       "       [10.157169 , 51.       ,  0.       ],\n",
       "       [10.587169 , 51.       ,  0.       ],\n",
       "       [10.507169 , 50.       ,  0.       ],\n",
       "       [10.147169 , 49.       ,  0.       ],\n",
       "       [ 9.617169 , 47.       ,  0.       ],\n",
       "       [11.397169 , 42.       ,  0.       ],\n",
       "       [16.32717  , 31.       ,  0.       ],\n",
       "       [20.09717  , 24.       ,  0.       ],\n",
       "       [21.947168 , 21.       ,  0.       ],\n",
       "       [23.217169 , 19.       ,  0.       ],\n",
       "       [24.187168 , 18.       ,  0.       ],\n",
       "       [24.887169 , 16.       ,  0.       ],\n",
       "       [25.297169 , 16.       ,  0.       ],\n",
       "       [25.16717  , 15.       ,  0.       ],\n",
       "       [24.477169 , 16.       ,  0.       ],\n",
       "       [22.58717  , 19.       ,  0.       ],\n",
       "       [20.83717  , 21.       ,  0.       ],\n",
       "       [19.797169 , 23.       ,  0.       ],\n",
       "       [18.447168 , 25.       ,  0.       ],\n",
       "       [16.707169 , 29.       ,  0.       ],\n",
       "       [14.087169 , 35.       ,  0.       ],\n",
       "       [11.627169 , 44.       ,  0.       ],\n",
       "       [ 9.607169 , 57.       ,  0.       ],\n",
       "       [ 8.857169 , 65.       ,  0.       ],\n",
       "       [ 8.597169 , 70.       ,  0.       ],\n",
       "       [10.287169 , 62.       ,  0.       ],\n",
       "       [11.367169 , 55.       ,  0.       ],\n",
       "       [11.787169 , 51.       ,  0.       ],\n",
       "       [11.687169 , 50.       ,  0.       ],\n",
       "       [12.857169 , 46.       ,  0.       ],\n",
       "       [17.277168 , 35.       ,  0.       ],\n",
       "       [20.51717  , 28.       ,  0.       ],\n",
       "       [22.697168 , 25.       ,  0.       ],\n",
       "       [24.217169 , 21.       ,  0.       ],\n",
       "       [25.527168 , 18.       ,  0.       ],\n",
       "       [26.48717  , 15.       ,  0.       ],\n",
       "       [27.06717  , 14.       ,  0.       ],\n",
       "       [27.06717  , 14.       ,  0.       ],\n",
       "       [26.48717  , 15.       ,  0.       ],\n",
       "       [24.357168 , 17.       ,  0.       ],\n",
       "       [22.057169 , 20.       ,  0.       ],\n",
       "       [20.31717  , 23.       ,  0.       ],\n",
       "       [18.31717  , 27.       ,  0.       ],\n",
       "       [15.907169 , 32.       ,  0.       ],\n",
       "       [13.397169 , 38.       ,  0.       ],\n",
       "       [11.437169 , 46.       ,  0.       ],\n",
       "       [10.687169 , 50.       ,  0.       ],\n",
       "       [10.317169 , 54.       ,  0.       ],\n",
       "       [10.107169 , 55.       ,  0.       ],\n",
       "       [11.477169 , 51.       ,  0.       ],\n",
       "       [12.227169 , 48.       ,  0.       ],\n",
       "       [12.567169 , 46.       ,  0.       ],\n",
       "       [12.347169 , 46.       ,  0.       ],\n",
       "       [13.457169 , 42.       ,  0.       ],\n",
       "       [17.947168 , 32.       ,  0.       ],\n",
       "       [21.64717  , 25.       ,  0.       ],\n",
       "       [24.447168 , 21.       ,  0.       ],\n",
       "       [27.00717  , 18.       ,  0.       ],\n",
       "       [29.07717  , 15.       ,  0.       ],\n",
       "       [30.67717  , 14.       ,  0.       ],\n",
       "       [31.867168 , 13.       ,  0.       ],\n",
       "       [31.697168 , 14.       ,  0.       ],\n",
       "       [30.627169 , 15.       ,  0.       ],\n",
       "       [28.06717  , 19.       ,  0.       ],\n",
       "       [25.797169 , 23.       ,  0.       ],\n",
       "       [22.367168 , 29.       ,  0.       ],\n",
       "       [18.81717  , 36.       ,  0.       ],\n",
       "       [16.58717  , 42.       ,  0.       ],\n",
       "       [15.387169 , 45.       ,  0.       ],\n",
       "       [14.857169 , 47.       ,  0.       ],\n",
       "       [14.467169 , 49.       ,  0.       ],\n",
       "       [14.337169 , 50.       ,  0.       ],\n",
       "       [14.147169 , 51.       ,  0.       ],\n",
       "       [15.477169 , 47.       ,  0.       ],\n",
       "       [16.107168 , 46.       ,  0.       ],\n",
       "       [16.297169 , 45.       ,  0.       ],\n",
       "       [16.097168 , 46.       ,  0.       ],\n",
       "       [17.227169 , 43.       ,  0.       ],\n",
       "       [21.34717  , 33.       ,  0.       ],\n",
       "       [25.057169 , 27.       ,  0.       ],\n",
       "       [28.187168 , 22.       ,  0.       ],\n",
       "       [30.57717  , 18.       ,  0.       ],\n",
       "       [31.84717  , 16.       ,  0.       ],\n",
       "       [32.27717  , 15.       ,  0.       ],\n",
       "       [32.33717  , 15.       ,  0.       ],\n",
       "       [31.947168 , 15.       ,  0.       ],\n",
       "       [30.807169 , 16.       ,  0.       ],\n",
       "       [28.65717  , 19.       ,  0.       ],\n",
       "       [26.527168 , 22.       ,  0.       ],\n",
       "       [22.297169 , 29.       ,  0.       ],\n",
       "       [19.40717  , 35.       ,  0.       ],\n",
       "       [17.01717  , 42.       ,  0.       ],\n",
       "       [15.407169 , 48.       ,  0.       ],\n",
       "       [14.817169 , 51.       ,  0.       ],\n",
       "       [14.7471695, 51.       ,  0.       ],\n",
       "       [14.847169 , 51.       ,  0.       ],\n",
       "       [15.127169 , 49.       ,  0.       ],\n",
       "       [16.49717  , 44.       ,  0.       ],\n",
       "       [17.00717  , 42.       ,  0.       ],\n",
       "       [17.16717  , 41.       ,  0.       ],\n",
       "       [17.07717  , 42.       ,  0.       ],\n",
       "       [18.32717  , 39.       ,  0.       ],\n",
       "       [22.24717  , 31.       ,  0.       ],\n",
       "       [25.92717  , 25.       ,  0.       ],\n",
       "       [28.807169 , 20.       ,  0.       ],\n",
       "       [30.807169 , 18.       ,  0.       ],\n",
       "       [31.717169 , 17.       ,  0.       ],\n",
       "       [32.057167 , 16.       ,  0.       ],\n",
       "       [32.107166 , 15.       ,  0.       ],\n",
       "       [31.39717  , 15.       ,  0.       ],\n",
       "       [30.33717  , 17.       ,  0.       ],\n",
       "       [28.56717  , 20.       ,  0.       ],\n",
       "       [27.07717  , 22.       ,  0.       ],\n",
       "       [26.34717  , 24.       ,  0.       ],\n",
       "       [25.867168 , 24.       ,  0.       ],\n",
       "       [24.947168 , 26.       ,  0.       ],\n",
       "       [24.117168 , 27.       ,  0.       ],\n",
       "       [24.047169 , 28.       ,  0.       ],\n",
       "       [22.50717  , 30.       ,  0.       ],\n",
       "       [21.047169 , 33.       ,  0.       ],\n",
       "       [19.51717  , 37.       ,  0.       ],\n",
       "       [18.447168 , 40.       ,  0.       ],\n",
       "       [17.41717  , 44.       ,  0.       ],\n",
       "       [16.59717  , 50.       ,  0.       ],\n",
       "       [15.627169 , 57.       ,  0.       ],\n",
       "       [17.15717  , 52.       ,  0.       ],\n",
       "       [22.51717  , 36.       ,  0.       ],\n",
       "       [25.977169 , 30.       ,  0.       ],\n",
       "       [28.51717  , 26.       ,  0.       ],\n",
       "       [29.56717  , 24.       ,  0.       ],\n",
       "       [29.137169 , 19.       ,  0.       ],\n",
       "       [30.00717  , 17.       ,  0.       ],\n",
       "       [30.287169 , 16.       ,  0.       ],\n",
       "       [30.357168 , 16.       ,  0.       ],\n",
       "       [29.857168 , 16.       ,  0.       ],\n",
       "       [28.33717  , 18.       ,  0.       ],\n",
       "       [26.437168 , 20.       ,  0.       ],\n",
       "       [25.56717  , 21.       ,  0.       ],\n",
       "       [24.777168 , 22.       ,  0.       ],\n",
       "       [23.627169 , 24.       ,  0.       ],\n",
       "       [22.727169 , 27.       ,  0.       ]])"
      ]
     },
     "execution_count": 69,
     "metadata": {},
     "output_type": "execute_result"
    }
   ],
   "source": [
    "data_crop"
   ]
  },
  {
   "cell_type": "code",
   "execution_count": 70,
   "metadata": {},
   "outputs": [
    {
     "data": {
      "text/plain": [
       "19.623451820418843"
      ]
     },
     "execution_count": 70,
     "metadata": {},
     "output_type": "execute_result"
    }
   ],
   "source": [
    "np.mean(data_crop[:,0])"
   ]
  },
  {
   "cell_type": "code",
   "execution_count": null,
   "metadata": {},
   "outputs": [],
   "source": []
  }
 ],
 "metadata": {
  "kernelspec": {
   "display_name": "Python 3",
   "language": "python",
   "name": "python3"
  },
  "language_info": {
   "codemirror_mode": {
    "name": "ipython",
    "version": 3
   },
   "file_extension": ".py",
   "mimetype": "text/x-python",
   "name": "python",
   "nbconvert_exporter": "python",
   "pygments_lexer": "ipython3",
   "version": "3.8.5"
  }
 },
 "nbformat": 4,
 "nbformat_minor": 4
}
