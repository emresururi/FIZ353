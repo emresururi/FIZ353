{
 "cells": [
  {
   "cell_type": "markdown",
   "metadata": {},
   "source": [
    "# Matrix Operations & Linear Algebra \n",
    "**FIZ353 - Numerical Analysis | 30/10/2020**\n",
    "\n",
    "Emre S. Tasci <emre.tasci@hacettepe.edu.tr>"
   ]
  },
  {
   "cell_type": "markdown",
   "metadata": {},
   "source": [
    "# Basic Matrix Operations\n"
   ]
  },
  {
   "cell_type": "code",
   "execution_count": 1,
   "metadata": {},
   "outputs": [],
   "source": [
    "import numpy as np\n",
    "np.random.seed(353) # we are fixing the random seed, \n",
    "                    # so you'll get the same \"random\" numbers\n",
    "                    # as of this lecture note's"
   ]
  },
  {
   "cell_type": "markdown",
   "metadata": {},
   "source": [
    "## Defining\n",
    "### 'numpy' style"
   ]
  },
  {
   "cell_type": "code",
   "execution_count": 2,
   "metadata": {},
   "outputs": [
    {
     "data": {
      "text/plain": [
       "array([[1, 2, 3],\n",
       "       [4, 5, 6],\n",
       "       [7, 8, 9]])"
      ]
     },
     "execution_count": 2,
     "metadata": {},
     "output_type": "execute_result"
    }
   ],
   "source": [
    "M = np.array([[1,2,3],[4,5,6],[7,8,9]])\n",
    "M"
   ]
  },
  {
   "cell_type": "markdown",
   "metadata": {},
   "source": [
    "### 'MATLAB' style (not recommended)\n",
    "Even though they are much easier to define (and afterwards converted to np.arrays), the usage of np.matrix class are disencouraged because:  \n",
    "`It is no longer recommended to use this class, even for linear algebra. Instead use regular arrays. The class may be removed in the future.` [Source](https://numpy.org/doc/stable/reference/generated/numpy.matrix.html)"
   ]
  },
  {
   "cell_type": "code",
   "execution_count": 3,
   "metadata": {},
   "outputs": [
    {
     "data": {
      "text/plain": [
       "matrix([[1, 2, 3],\n",
       "        [4, 5, 6],\n",
       "        [7, 8, 9]])"
      ]
     },
     "execution_count": 3,
     "metadata": {},
     "output_type": "execute_result"
    }
   ],
   "source": [
    "MM = np.matrix(\"1 2 3; 4 5 6; 7,8,9\")\n",
    "MM"
   ]
  },
  {
   "cell_type": "code",
   "execution_count": 4,
   "metadata": {},
   "outputs": [
    {
     "data": {
      "text/plain": [
       "array([[1, 2, 3],\n",
       "       [4, 5, 6],\n",
       "       [7, 8, 9]])"
      ]
     },
     "execution_count": 4,
     "metadata": {},
     "output_type": "execute_result"
    }
   ],
   "source": [
    "# either like this:\n",
    "M = np.array(MM)\n",
    "\n",
    "# or like this:\n",
    "M = MM.A\n",
    "\n",
    "M"
   ]
  },
  {
   "cell_type": "markdown",
   "metadata": {},
   "source": [
    "## Some special matrices\n",
    "### Zeros"
   ]
  },
  {
   "cell_type": "code",
   "execution_count": 5,
   "metadata": {},
   "outputs": [
    {
     "data": {
      "text/plain": [
       "array([[0., 0., 0., 0.],\n",
       "       [0., 0., 0., 0.],\n",
       "       [0., 0., 0., 0.]])"
      ]
     },
     "execution_count": 5,
     "metadata": {},
     "output_type": "execute_result"
    }
   ],
   "source": [
    "O = np.zeros((3,4))\n",
    "O"
   ]
  },
  {
   "cell_type": "markdown",
   "metadata": {},
   "source": [
    "### Ones"
   ]
  },
  {
   "cell_type": "code",
   "execution_count": 6,
   "metadata": {},
   "outputs": [
    {
     "data": {
      "text/plain": [
       "array([[3.2, 3.2, 3.2, 3.2],\n",
       "       [3.2, 3.2, 3.2, 3.2],\n",
       "       [3.2, 3.2, 3.2, 3.2]])"
      ]
     },
     "execution_count": 6,
     "metadata": {},
     "output_type": "execute_result"
    }
   ],
   "source": [
    "L = np.ones((3,4)) * 3.2\n",
    "L"
   ]
  },
  {
   "cell_type": "markdown",
   "metadata": {},
   "source": [
    "### Identity"
   ]
  },
  {
   "cell_type": "code",
   "execution_count": 7,
   "metadata": {},
   "outputs": [
    {
     "data": {
      "text/plain": [
       "array([[1., 0., 0., 0.],\n",
       "       [0., 1., 0., 0.],\n",
       "       [0., 0., 1., 0.]])"
      ]
     },
     "execution_count": 7,
     "metadata": {},
     "output_type": "execute_result"
    }
   ],
   "source": [
    "I = np.eye(3,4)\n",
    "I"
   ]
  },
  {
   "cell_type": "markdown",
   "metadata": {},
   "source": [
    "### Diagonal"
   ]
  },
  {
   "cell_type": "code",
   "execution_count": 8,
   "metadata": {},
   "outputs": [
    {
     "data": {
      "text/plain": [
       "array([[5, 0, 0, 0],\n",
       "       [0, 3, 0, 0],\n",
       "       [0, 0, 7, 0],\n",
       "       [0, 0, 0, 2]])"
      ]
     },
     "execution_count": 8,
     "metadata": {},
     "output_type": "execute_result"
    }
   ],
   "source": [
    "D = np.diag((5,3,7,2))\n",
    "D"
   ]
  },
  {
   "cell_type": "markdown",
   "metadata": {},
   "source": [
    "#### Off-diagonal"
   ]
  },
  {
   "cell_type": "code",
   "execution_count": 9,
   "metadata": {},
   "outputs": [
    {
     "data": {
      "text/plain": [
       "array([[0, 5, 0, 0, 0],\n",
       "       [0, 0, 3, 0, 0],\n",
       "       [0, 0, 0, 7, 0],\n",
       "       [0, 0, 0, 0, 2],\n",
       "       [0, 0, 0, 0, 0]])"
      ]
     },
     "execution_count": 9,
     "metadata": {},
     "output_type": "execute_result"
    }
   ],
   "source": [
    "# Upper\n",
    "DU = np.diag((5,3,7,2),1)\n",
    "DU"
   ]
  },
  {
   "cell_type": "code",
   "execution_count": 10,
   "metadata": {},
   "outputs": [
    {
     "data": {
      "text/plain": [
       "array([[0, 0, 0, 0, 0],\n",
       "       [5, 0, 0, 0, 0],\n",
       "       [0, 3, 0, 0, 0],\n",
       "       [0, 0, 7, 0, 0],\n",
       "       [0, 0, 0, 2, 0]])"
      ]
     },
     "execution_count": 10,
     "metadata": {},
     "output_type": "execute_result"
    }
   ],
   "source": [
    "# Lower\n",
    "DL = np.diag((5,3,7,2),-1)\n",
    "DL"
   ]
  },
  {
   "cell_type": "markdown",
   "metadata": {},
   "source": [
    "### Random Matrices"
   ]
  },
  {
   "cell_type": "code",
   "execution_count": 11,
   "metadata": {},
   "outputs": [
    {
     "data": {
      "text/plain": [
       "array([[0.43618003, 0.26300446, 0.81565745, 0.6808622 , 0.74138771],\n",
       "       [0.30520115, 0.08876155, 0.7506812 , 0.20489849, 0.26102374],\n",
       "       [0.43189534, 0.22048083, 0.51118854, 0.14658739, 0.14535176],\n",
       "       [0.76389177, 0.2915416 , 0.52110675, 0.17400217, 0.69313813]])"
      ]
     },
     "execution_count": 11,
     "metadata": {},
     "output_type": "execute_result"
    }
   ],
   "source": [
    "# Uniform distribution [0,1)\n",
    "R1 = np.random.random((4,5))\n",
    "R1"
   ]
  },
  {
   "cell_type": "code",
   "execution_count": 12,
   "metadata": {},
   "outputs": [
    {
     "data": {
      "text/plain": [
       "array([[9, 6, 9, 6, 9],\n",
       "       [8, 7, 6, 8, 9],\n",
       "       [6, 9, 6, 6, 9],\n",
       "       [8, 8, 7, 9, 9]])"
      ]
     },
     "execution_count": 12,
     "metadata": {},
     "output_type": "execute_result"
    }
   ],
   "source": [
    "# Uniform distribution, integers [a,b)\n",
    "R2 = np.random.randint(6,10,(4,5))\n",
    "R2"
   ]
  },
  {
   "cell_type": "markdown",
   "metadata": {},
   "source": [
    "## Accessing (getting and setting)"
   ]
  },
  {
   "cell_type": "code",
   "execution_count": 13,
   "metadata": {},
   "outputs": [
    {
     "data": {
      "text/plain": [
       "array([[1, 2, 3],\n",
       "       [4, 5, 6],\n",
       "       [7, 8, 9]])"
      ]
     },
     "execution_count": 13,
     "metadata": {},
     "output_type": "execute_result"
    }
   ],
   "source": [
    "M = np.array([[1,2,3],[4,5,6],[7,8,9]])\n",
    "M"
   ]
  },
  {
   "cell_type": "code",
   "execution_count": 14,
   "metadata": {},
   "outputs": [
    {
     "data": {
      "text/plain": [
       "9"
      ]
     },
     "execution_count": 14,
     "metadata": {},
     "output_type": "execute_result"
    }
   ],
   "source": [
    "M[2,2]"
   ]
  },
  {
   "cell_type": "code",
   "execution_count": 15,
   "metadata": {},
   "outputs": [
    {
     "data": {
      "text/plain": [
       "array([7, 8, 9])"
      ]
     },
     "execution_count": 15,
     "metadata": {},
     "output_type": "execute_result"
    }
   ],
   "source": [
    "M[2,:]"
   ]
  },
  {
   "cell_type": "code",
   "execution_count": 16,
   "metadata": {},
   "outputs": [
    {
     "data": {
      "text/plain": [
       "array([[1, 3],\n",
       "       [4, 6],\n",
       "       [7, 9]])"
      ]
     },
     "execution_count": 16,
     "metadata": {},
     "output_type": "execute_result"
    }
   ],
   "source": [
    "M[:,[0,2]]"
   ]
  },
  {
   "cell_type": "code",
   "execution_count": 17,
   "metadata": {},
   "outputs": [
    {
     "data": {
      "text/plain": [
       "array([[ 1, -1,  3],\n",
       "       [ 4, -1,  6],\n",
       "       [ 7, -1,  9]])"
      ]
     },
     "execution_count": 17,
     "metadata": {},
     "output_type": "execute_result"
    }
   ],
   "source": [
    "M[:,1] = -1\n",
    "M"
   ]
  },
  {
   "cell_type": "markdown",
   "metadata": {},
   "source": [
    "## Duplication"
   ]
  },
  {
   "cell_type": "markdown",
   "metadata": {},
   "source": [
    "When copying an array **object**, be careful that they are not copied over like scalars:"
   ]
  },
  {
   "cell_type": "code",
   "execution_count": 18,
   "metadata": {},
   "outputs": [
    {
     "data": {
      "text/plain": [
       "array([[1, 2, 3],\n",
       "       [4, 5, 6],\n",
       "       [7, 8, 9]])"
      ]
     },
     "execution_count": 18,
     "metadata": {},
     "output_type": "execute_result"
    }
   ],
   "source": [
    "M = np.array([[1,2,3],[4,5,6],[7,8,9]])\n",
    "M"
   ]
  },
  {
   "cell_type": "code",
   "execution_count": 19,
   "metadata": {},
   "outputs": [
    {
     "data": {
      "text/plain": [
       "array([[1, 2, 3],\n",
       "       [4, 5, 6],\n",
       "       [7, 8, 9]])"
      ]
     },
     "execution_count": 19,
     "metadata": {},
     "output_type": "execute_result"
    }
   ],
   "source": [
    "N = M\n",
    "N"
   ]
  },
  {
   "cell_type": "code",
   "execution_count": 20,
   "metadata": {},
   "outputs": [
    {
     "data": {
      "text/plain": [
       "array([[ 1,  2,  3],\n",
       "       [ 4,  5,  6],\n",
       "       [ 7,  8, -9]])"
      ]
     },
     "execution_count": 20,
     "metadata": {},
     "output_type": "execute_result"
    }
   ],
   "source": [
    "M[2,2] = -9\n",
    "M"
   ]
  },
  {
   "cell_type": "code",
   "execution_count": 21,
   "metadata": {},
   "outputs": [
    {
     "data": {
      "text/plain": [
       "array([[ 1,  2,  3],\n",
       "       [ 4,  5,  6],\n",
       "       [ 7,  8, -9]])"
      ]
     },
     "execution_count": 21,
     "metadata": {},
     "output_type": "execute_result"
    }
   ],
   "source": [
    "N"
   ]
  },
  {
   "cell_type": "markdown",
   "metadata": {},
   "source": [
    "Instead, use the `copy()` method:"
   ]
  },
  {
   "cell_type": "code",
   "execution_count": 22,
   "metadata": {},
   "outputs": [
    {
     "data": {
      "text/plain": [
       "array([[1, 2, 3],\n",
       "       [4, 5, 6],\n",
       "       [7, 8, 9]])"
      ]
     },
     "execution_count": 22,
     "metadata": {},
     "output_type": "execute_result"
    }
   ],
   "source": [
    "M = np.array([[1,2,3],[4,5,6],[7,8,9]])\n",
    "M"
   ]
  },
  {
   "cell_type": "code",
   "execution_count": 23,
   "metadata": {},
   "outputs": [
    {
     "data": {
      "text/plain": [
       "array([[1, 2, 3],\n",
       "       [4, 5, 6],\n",
       "       [7, 8, 9]])"
      ]
     },
     "execution_count": 23,
     "metadata": {},
     "output_type": "execute_result"
    }
   ],
   "source": [
    "N = M.copy()\n",
    "N"
   ]
  },
  {
   "cell_type": "code",
   "execution_count": 24,
   "metadata": {},
   "outputs": [
    {
     "data": {
      "text/plain": [
       "array([[ 1,  2,  3],\n",
       "       [ 4,  5,  6],\n",
       "       [ 7,  8, -9]])"
      ]
     },
     "execution_count": 24,
     "metadata": {},
     "output_type": "execute_result"
    }
   ],
   "source": [
    "M[2,2] = -9\n",
    "M"
   ]
  },
  {
   "cell_type": "code",
   "execution_count": 25,
   "metadata": {},
   "outputs": [
    {
     "data": {
      "text/plain": [
       "array([[1, 2, 3],\n",
       "       [4, 5, 6],\n",
       "       [7, 8, 9]])"
      ]
     },
     "execution_count": 25,
     "metadata": {},
     "output_type": "execute_result"
    }
   ],
   "source": [
    "N"
   ]
  },
  {
   "cell_type": "markdown",
   "metadata": {},
   "source": [
    "## Filtering (Essential!)"
   ]
  },
  {
   "cell_type": "code",
   "execution_count": 26,
   "metadata": {},
   "outputs": [
    {
     "data": {
      "text/plain": [
       "array([[ 1,  2,  3],\n",
       "       [ 4,  5,  6],\n",
       "       [ 7,  8, -9]])"
      ]
     },
     "execution_count": 26,
     "metadata": {},
     "output_type": "execute_result"
    }
   ],
   "source": [
    "M"
   ]
  },
  {
   "cell_type": "code",
   "execution_count": 27,
   "metadata": {},
   "outputs": [
    {
     "data": {
      "text/plain": [
       "array([[False, False, False],\n",
       "       [False, False,  True],\n",
       "       [ True,  True, False]])"
      ]
     },
     "execution_count": 27,
     "metadata": {},
     "output_type": "execute_result"
    }
   ],
   "source": [
    "M>5"
   ]
  },
  {
   "cell_type": "code",
   "execution_count": 28,
   "metadata": {},
   "outputs": [
    {
     "data": {
      "text/plain": [
       "array([6, 7, 8])"
      ]
     },
     "execution_count": 28,
     "metadata": {},
     "output_type": "execute_result"
    }
   ],
   "source": [
    "# The elements that are greater than 5:\n",
    "M[M > 5]"
   ]
  },
  {
   "cell_type": "code",
   "execution_count": 29,
   "metadata": {},
   "outputs": [
    {
     "data": {
      "text/plain": [
       "array([2, 4, 6, 8])"
      ]
     },
     "execution_count": 29,
     "metadata": {},
     "output_type": "execute_result"
    }
   ],
   "source": [
    "# The elements that are even:\n",
    "M[M % 2 == 0]"
   ]
  },
  {
   "cell_type": "code",
   "execution_count": 30,
   "metadata": {},
   "outputs": [
    {
     "data": {
      "text/plain": [
       "array([[False, False,  True],\n",
       "       [ True,  True,  True],\n",
       "       [ True,  True, False]])"
      ]
     },
     "execution_count": 30,
     "metadata": {},
     "output_type": "execute_result"
    }
   ],
   "source": [
    "M>=3"
   ]
  },
  {
   "cell_type": "code",
   "execution_count": 31,
   "metadata": {},
   "outputs": [
    {
     "data": {
      "text/plain": [
       "array([[ True,  True,  True],\n",
       "       [ True,  True,  True],\n",
       "       [ True,  True,  True]])"
      ]
     },
     "execution_count": 31,
     "metadata": {},
     "output_type": "execute_result"
    }
   ],
   "source": [
    "M<=8"
   ]
  },
  {
   "cell_type": "code",
   "execution_count": 32,
   "metadata": {},
   "outputs": [
    {
     "data": {
      "text/plain": [
       "array([[False, False,  True],\n",
       "       [ True,  True,  True],\n",
       "       [ True,  True, False]])"
      ]
     },
     "execution_count": 32,
     "metadata": {},
     "output_type": "execute_result"
    }
   ],
   "source": [
    "np.logical_and(M>=3, M<=8)"
   ]
  },
  {
   "cell_type": "code",
   "execution_count": 33,
   "metadata": {
    "scrolled": true
   },
   "outputs": [
    {
     "data": {
      "text/plain": [
       "array([3, 4, 5, 6, 7, 8])"
      ]
     },
     "execution_count": 33,
     "metadata": {},
     "output_type": "execute_result"
    }
   ],
   "source": [
    "# The elements that are between 3 and 8 (inclusive):\n",
    "M[np.logical_and(M>=3, M<=8)]"
   ]
  },
  {
   "cell_type": "code",
   "execution_count": 34,
   "metadata": {},
   "outputs": [
    {
     "data": {
      "text/plain": [
       "array([ 1,  2,  3,  7,  8, -9])"
      ]
     },
     "execution_count": 34,
     "metadata": {},
     "output_type": "execute_result"
    }
   ],
   "source": [
    "# The elements that are smaller than 3 or greater than 7 (inclusive)\n",
    "M[np.logical_or(M<=3, M>=7)]"
   ]
  },
  {
   "cell_type": "markdown",
   "metadata": {},
   "source": [
    "#### Intersection of two arrays"
   ]
  },
  {
   "cell_type": "code",
   "execution_count": 35,
   "metadata": {},
   "outputs": [
    {
     "data": {
      "text/plain": [
       "array([[ 6,  2, -2],\n",
       "       [ 1,  5,  1],\n",
       "       [ 2, -2,  3]])"
      ]
     },
     "execution_count": 35,
     "metadata": {},
     "output_type": "execute_result"
    }
   ],
   "source": [
    "# Intersection of two arrays:\n",
    "N = np.random.randint(-5,10,(3,3))\n",
    "N"
   ]
  },
  {
   "cell_type": "code",
   "execution_count": 36,
   "metadata": {},
   "outputs": [
    {
     "data": {
      "text/plain": [
       "array([1, 2, 3, 5, 6])"
      ]
     },
     "execution_count": 36,
     "metadata": {},
     "output_type": "execute_result"
    }
   ],
   "source": [
    "np.intersect1d(M,N)"
   ]
  },
  {
   "cell_type": "markdown",
   "metadata": {},
   "source": [
    "# Multiplication"
   ]
  },
  {
   "cell_type": "code",
   "execution_count": 37,
   "metadata": {},
   "outputs": [
    {
     "data": {
      "text/plain": [
       "array([[ 1,  2,  3],\n",
       "       [ 4,  5,  6],\n",
       "       [ 7,  8, -9]])"
      ]
     },
     "execution_count": 37,
     "metadata": {},
     "output_type": "execute_result"
    }
   ],
   "source": [
    "M"
   ]
  },
  {
   "cell_type": "markdown",
   "metadata": {},
   "source": [
    "## Scalar x Matrix"
   ]
  },
  {
   "cell_type": "code",
   "execution_count": 38,
   "metadata": {},
   "outputs": [
    {
     "data": {
      "text/plain": [
       "array([[  5.21,  10.42,  15.63],\n",
       "       [ 20.84,  26.05,  31.26],\n",
       "       [ 36.47,  41.68, -46.89]])"
      ]
     },
     "execution_count": 38,
     "metadata": {},
     "output_type": "execute_result"
    }
   ],
   "source": [
    "5.21 * M"
   ]
  },
  {
   "cell_type": "markdown",
   "metadata": {},
   "source": [
    "## Matrix x Vector"
   ]
  },
  {
   "cell_type": "code",
   "execution_count": 39,
   "metadata": {},
   "outputs": [
    {
     "data": {
      "text/plain": [
       "array([[9],\n",
       "       [8],\n",
       "       [7]])"
      ]
     },
     "execution_count": 39,
     "metadata": {},
     "output_type": "execute_result"
    }
   ],
   "source": [
    "v = np.array([[9],[8],[7]])\n",
    "v"
   ]
  },
  {
   "cell_type": "code",
   "execution_count": 40,
   "metadata": {},
   "outputs": [
    {
     "data": {
      "text/plain": [
       "array([[ 46],\n",
       "       [118],\n",
       "       [ 64]])"
      ]
     },
     "execution_count": 40,
     "metadata": {},
     "output_type": "execute_result"
    }
   ],
   "source": [
    "np.dot(M,v)"
   ]
  },
  {
   "cell_type": "code",
   "execution_count": 41,
   "metadata": {},
   "outputs": [
    {
     "data": {
      "text/plain": [
       "array([[9, 8, 7]])"
      ]
     },
     "execution_count": 41,
     "metadata": {},
     "output_type": "execute_result"
    }
   ],
   "source": [
    "v.T # 'T' for \"transpose\""
   ]
  },
  {
   "cell_type": "code",
   "execution_count": 42,
   "metadata": {},
   "outputs": [
    {
     "data": {
      "text/plain": [
       "array([[ 90, 114,  12]])"
      ]
     },
     "execution_count": 42,
     "metadata": {},
     "output_type": "execute_result"
    }
   ],
   "source": [
    "np.dot(v.T,M)"
   ]
  },
  {
   "cell_type": "markdown",
   "metadata": {},
   "source": [
    "**Be very careful!**\n",
    "\n",
    "`np.dot(M,v)` **is not equal to** `M*v` and,  \n",
    "`np.dot(v.T,M)` **is not equal to** `v.T*M`\n",
    "\n",
    "Multiplying\n",
    "* a (3x3) matrix with a (3x1) matrix should yield a (3x1) matrix and,\n",
    "* a (1x3) vector with a (3x3) matrix should yield a (1x3) vector!\n",
    "\n",
    "Compare the following results with the above ones!"
   ]
  },
  {
   "cell_type": "code",
   "execution_count": 43,
   "metadata": {},
   "outputs": [
    {
     "data": {
      "text/plain": [
       "array([[ 1,  2,  3],\n",
       "       [ 4,  5,  6],\n",
       "       [ 7,  8, -9]])"
      ]
     },
     "execution_count": 43,
     "metadata": {},
     "output_type": "execute_result"
    }
   ],
   "source": [
    "M"
   ]
  },
  {
   "cell_type": "code",
   "execution_count": 44,
   "metadata": {},
   "outputs": [
    {
     "data": {
      "text/plain": [
       "array([[9],\n",
       "       [8],\n",
       "       [7]])"
      ]
     },
     "execution_count": 44,
     "metadata": {},
     "output_type": "execute_result"
    }
   ],
   "source": [
    "v"
   ]
  },
  {
   "cell_type": "code",
   "execution_count": 45,
   "metadata": {},
   "outputs": [
    {
     "data": {
      "text/plain": [
       "array([[  9,  18,  27],\n",
       "       [ 32,  40,  48],\n",
       "       [ 49,  56, -63]])"
      ]
     },
     "execution_count": 45,
     "metadata": {},
     "output_type": "execute_result"
    }
   ],
   "source": [
    "M*v"
   ]
  },
  {
   "cell_type": "code",
   "execution_count": 46,
   "metadata": {},
   "outputs": [
    {
     "data": {
      "text/plain": [
       "array([[  9,  16,  21],\n",
       "       [ 36,  40,  42],\n",
       "       [ 63,  64, -63]])"
      ]
     },
     "execution_count": 46,
     "metadata": {},
     "output_type": "execute_result"
    }
   ],
   "source": [
    "v.T*M"
   ]
  },
  {
   "cell_type": "markdown",
   "metadata": {},
   "source": [
    "(These just do <u>element-wise</u> multiplications!)"
   ]
  },
  {
   "cell_type": "markdown",
   "metadata": {},
   "source": [
    "## Determinant & Inverse of a Square Matrix"
   ]
  },
  {
   "cell_type": "code",
   "execution_count": 47,
   "metadata": {},
   "outputs": [
    {
     "data": {
      "text/plain": [
       "array([[2, 1, 3],\n",
       "       [4, 6, 3],\n",
       "       [7, 8, 9]])"
      ]
     },
     "execution_count": 47,
     "metadata": {},
     "output_type": "execute_result"
    }
   ],
   "source": [
    "M = np.array([[2,1,3],[4,6,3],[7,8,9]])\n",
    "M"
   ]
  },
  {
   "cell_type": "markdown",
   "metadata": {},
   "source": [
    "* **Determinant**  \n",
    "  "
   ]
  },
  {
   "cell_type": "code",
   "execution_count": 48,
   "metadata": {},
   "outputs": [
    {
     "name": "stdout",
     "output_type": "stream",
     "text": [
      "Determinant of M is: 15.000\n"
     ]
    }
   ],
   "source": [
    "M_det = np.linalg.det(M)\n",
    "print(\"Determinant of M is: {:.3f}\".format(M_det))"
   ]
  },
  {
   "cell_type": "markdown",
   "metadata": {},
   "source": [
    "* **Inverse**"
   ]
  },
  {
   "cell_type": "code",
   "execution_count": 49,
   "metadata": {},
   "outputs": [
    {
     "data": {
      "text/plain": [
       "array([[ 2.        ,  1.        , -1.        ],\n",
       "       [-1.        , -0.2       ,  0.4       ],\n",
       "       [-0.66666667, -0.6       ,  0.53333333]])"
      ]
     },
     "execution_count": 49,
     "metadata": {},
     "output_type": "execute_result"
    }
   ],
   "source": [
    "M_inv = np.linalg.inv(M)\n",
    "M_inv"
   ]
  },
  {
   "cell_type": "code",
   "execution_count": 50,
   "metadata": {},
   "outputs": [
    {
     "data": {
      "text/plain": [
       "array([[1.00000000e+00, 2.22044605e-16, 0.00000000e+00],\n",
       "       [8.88178420e-16, 1.00000000e+00, 0.00000000e+00],\n",
       "       [0.00000000e+00, 0.00000000e+00, 1.00000000e+00]])"
      ]
     },
     "execution_count": 50,
     "metadata": {},
     "output_type": "execute_result"
    }
   ],
   "source": [
    "np.dot(M,M_inv)"
   ]
  },
  {
   "cell_type": "code",
   "execution_count": 51,
   "metadata": {},
   "outputs": [
    {
     "data": {
      "text/plain": [
       "array([[ 1.00000000e+00, -1.77635684e-15, -1.77635684e-15],\n",
       "       [ 8.88178420e-16,  1.00000000e+00,  1.33226763e-15],\n",
       "       [ 4.44089210e-16,  8.88178420e-16,  1.00000000e+00]])"
      ]
     },
     "execution_count": 51,
     "metadata": {},
     "output_type": "execute_result"
    }
   ],
   "source": [
    "np.dot(M_inv,M)"
   ]
  },
  {
   "cell_type": "markdown",
   "metadata": {},
   "source": [
    "# Matrices as Operators\n",
    "Consider a (3x1) vector (let's think it as a *position vector*. It can be multiplied from left by a (3x3) matrix, and the result will be a (3x1) vector. We can interpret this operation as a *transformation operation* on the vector. As, by definition, a vector has a magnitude and a direction, a transformation can change these two properties. First, let's investigate these effects seperately by operating on a 2-dimensional vector, and then we'll combine them."
   ]
  },
  {
   "cell_type": "markdown",
   "metadata": {},
   "source": [
    "## Changing a vector's magnitude (Scaling)\n",
    "This is very straightforward as we can change a vector's magnitude by simply multiplying it with a scalar."
   ]
  },
  {
   "cell_type": "markdown",
   "metadata": {},
   "source": [
    "$\\vec{v} = 3\\hat{\\imath}+4\\hat{\\jmath}$"
   ]
  },
  {
   "cell_type": "code",
   "execution_count": 52,
   "metadata": {},
   "outputs": [
    {
     "data": {
      "text/plain": [
       "array([3, 4])"
      ]
     },
     "execution_count": 52,
     "metadata": {},
     "output_type": "execute_result"
    }
   ],
   "source": [
    "v = np.array([3,4]) # a 2 dimensional vector\n",
    "v"
   ]
  },
  {
   "cell_type": "code",
   "execution_count": 53,
   "metadata": {},
   "outputs": [
    {
     "name": "stdout",
     "output_type": "stream",
     "text": [
      "The magnitude of vector v: 5.0\n"
     ]
    }
   ],
   "source": [
    "# It's magnitude:\n",
    "v_mag = np.linalg.norm(v)\n",
    "print(\"The magnitude of vector v: {:}\".format(v_mag))"
   ]
  },
  {
   "cell_type": "code",
   "execution_count": 54,
   "metadata": {},
   "outputs": [
    {
     "name": "stdout",
     "output_type": "stream",
     "text": [
      "The magnitude of vector v: 5.0\n"
     ]
    }
   ],
   "source": [
    "# We could as well have calculated it via Pythagorean Theorem:\n",
    "v_mag = (v[0]**2 + v[1]**2)**0.5\n",
    "print(\"The magnitude of vector v: {:}\".format(v_mag))"
   ]
  },
  {
   "cell_type": "code",
   "execution_count": 55,
   "metadata": {},
   "outputs": [
    {
     "name": "stdout",
     "output_type": "stream",
     "text": [
      "The magnitude of vector v: 5.0\n"
     ]
    }
   ],
   "source": [
    "# or, more practically then the above \n",
    "# (for which, we have to enter each dimension exclusively)\n",
    "# we could (and should) go for direct evaluation:\n",
    "v_mag = (np.sum(v*v))**0.5\n",
    "print(\"The magnitude of vector v: {:}\".format(v_mag))"
   ]
  },
  {
   "cell_type": "markdown",
   "metadata": {},
   "source": [
    "(examine and understand how we have done - this is better than the second solution but using predefined functions such as `norm` is almost always more optimized)"
   ]
  },
  {
   "cell_type": "markdown",
   "metadata": {},
   "source": [
    "Now that we know our vector's initial magnitude, let's multiply it by a scalar, `s = 2` and check the resultant vector $\\vec{r}$'s magnitude:"
   ]
  },
  {
   "cell_type": "code",
   "execution_count": 56,
   "metadata": {},
   "outputs": [
    {
     "name": "stdout",
     "output_type": "stream",
     "text": [
      "[6 8]\n"
     ]
    }
   ],
   "source": [
    "s = 2\n",
    "r = 2*v\n",
    "print(r)"
   ]
  },
  {
   "cell_type": "code",
   "execution_count": 57,
   "metadata": {},
   "outputs": [
    {
     "name": "stdout",
     "output_type": "stream",
     "text": [
      "The magnitude of vector r: 10.0\n"
     ]
    }
   ],
   "source": [
    "print(\"The magnitude of vector r: {:}\".format(np.linalg.norm(r)))"
   ]
  },
  {
   "cell_type": "markdown",
   "metadata": {},
   "source": [
    "How can we write this _size change_ operation as a multiplication of a matrix by the vector? It will sound dumb, but we can insert the identity matrix in the middle, as it doesn't change a vector it is being multiplied to, so nothing should change:\n",
    "\n",
    "$$ s\\cdot\\vec{v} = \\underbrace{s\\cdot(\\mathbb{1})}_{S}\\cdot\\vec{v}$$\n",
    "\n",
    "From here, we can apply the scalar to the identity vector, which will be equal to a diagonal vector with the diagonal values being equal to $s$:"
   ]
  },
  {
   "cell_type": "code",
   "execution_count": 58,
   "metadata": {},
   "outputs": [
    {
     "name": "stdout",
     "output_type": "stream",
     "text": [
      "[[1. 0.]\n",
      " [0. 1.]]\n"
     ]
    }
   ],
   "source": [
    "I = np.eye(2,2) # as our vector is 2 dimensional,\n",
    "                # corresponding identity vector is (2x2)\n",
    "print(I)"
   ]
  },
  {
   "cell_type": "code",
   "execution_count": 59,
   "metadata": {},
   "outputs": [
    {
     "data": {
      "text/plain": [
       "array([[2., 0.],\n",
       "       [0., 2.]])"
      ]
     },
     "execution_count": 59,
     "metadata": {},
     "output_type": "execute_result"
    }
   ],
   "source": [
    "S = s*I\n",
    "S"
   ]
  },
  {
   "cell_type": "markdown",
   "metadata": {},
   "source": [
    "The multiplication has now taken the form of a matrix multiplied by a vector:\n",
    "\n",
    "$$\\underbrace{\\begin{bmatrix}2 & 0 \\\\ 0 & 2\\end{bmatrix}}_{S}\\cdot\\underbrace{\\begin{bmatrix}3 \\\\ 4\\end{bmatrix}}_{\\vec{v}}$$"
   ]
  },
  {
   "cell_type": "code",
   "execution_count": 60,
   "metadata": {},
   "outputs": [
    {
     "name": "stdout",
     "output_type": "stream",
     "text": [
      "[6. 8.]\n"
     ]
    }
   ],
   "source": [
    "r = np.dot(S,v)\n",
    "print(r)"
   ]
  },
  {
   "cell_type": "code",
   "execution_count": 61,
   "metadata": {},
   "outputs": [
    {
     "name": "stdout",
     "output_type": "stream",
     "text": [
      "The magnitude of vector r: 10.0\n"
     ]
    }
   ],
   "source": [
    "print(\"The magnitude of vector r: {:}\".format(np.linalg.norm(r)))"
   ]
  },
  {
   "cell_type": "markdown",
   "metadata": {},
   "source": [
    "So, in summary, if we change the size of a vector, we just multiply it with a diagonal matrix, whose diagonal elements' values are equal to the ratio of the change of size."
   ]
  },
  {
   "cell_type": "markdown",
   "metadata": {},
   "source": [
    "## Rotating a vector\n",
    "The rotation operator R for a 2D vector is defined as:\n",
    "\n",
    "$$ R_{\\theta} = \\begin{pmatrix}\\cos\\theta & -\\sin\\theta \\\\ \\sin\\theta & \\cos\\theta\\end{pmatrix}$$\n",
    "\n",
    "where $\\theta$ is the rotation angle, counter-clockwise.\n",
    "\n",
    "So, if we would rotate a $\\vec{v}$ vector of, let's say, 5 units long along the positive x-direction by an angle of $90^o$, we would get a vector with the same magnitude, pointing alont the positive y-direction: \n",
    "\n",
    "$$R_{90^o}.\\vec{v} = R_{90^o}.(5\\hat{\\imath}) = 5\\hat{\\jmath}$$\n",
    "\n",
    "Let's put this in action:"
   ]
  },
  {
   "cell_type": "code",
   "execution_count": 62,
   "metadata": {},
   "outputs": [
    {
     "data": {
      "text/plain": [
       "array([[ 6.123234e-17, -1.000000e+00],\n",
       "       [ 1.000000e+00,  6.123234e-17]])"
      ]
     },
     "execution_count": 62,
     "metadata": {},
     "output_type": "execute_result"
    }
   ],
   "source": [
    "theta = np.deg2rad(90)\n",
    "R_theta = np.array([[np.cos(theta), -np.sin(theta)],\n",
    "                    [np.sin(theta),  np.cos(theta)]])\n",
    "R_theta"
   ]
  },
  {
   "cell_type": "code",
   "execution_count": 63,
   "metadata": {},
   "outputs": [
    {
     "data": {
      "text/plain": [
       "array([[5],\n",
       "       [0]])"
      ]
     },
     "execution_count": 63,
     "metadata": {},
     "output_type": "execute_result"
    }
   ],
   "source": [
    "v = np.array([[5],[0]])\n",
    "v"
   ]
  },
  {
   "cell_type": "code",
   "execution_count": 64,
   "metadata": {},
   "outputs": [
    {
     "data": {
      "text/plain": [
       "array([[3.061617e-16],\n",
       "       [5.000000e+00]])"
      ]
     },
     "execution_count": 64,
     "metadata": {},
     "output_type": "execute_result"
    }
   ],
   "source": [
    "v_rotated_90 = np.dot(R_theta,v)\n",
    "v_rotated_90"
   ]
  },
  {
   "cell_type": "code",
   "execution_count": 65,
   "metadata": {},
   "outputs": [
    {
     "data": {
      "text/plain": [
       "array([[-5.000000e+00],\n",
       "       [ 6.123234e-16]])"
      ]
     },
     "execution_count": 65,
     "metadata": {},
     "output_type": "execute_result"
    }
   ],
   "source": [
    "# Let's rotate this resultant vector once again by 90 degrees:\n",
    "v_rotated_90_90 = np.dot(R_theta,v_rotated_90)\n",
    "v_rotated_90_90"
   ]
  },
  {
   "cell_type": "markdown",
   "metadata": {},
   "source": [
    "We can write the last operation explicitly as:\n",
    "\n",
    "$$R_{90^o}.\\vec{v}' =R_{90^o}.\\left(R_{90^o}\\vec{v}\\right)$$\n",
    "\n",
    "changing the order of multiplication:\n",
    "\n",
    "$$R_{90^o}.\\vec{v}' =\\left(R_{90^o}.R_{90^o}\\right)\\vec{v} = R_{90^o}^2.\\vec{v}$$"
   ]
  },
  {
   "cell_type": "code",
   "execution_count": 66,
   "metadata": {},
   "outputs": [
    {
     "data": {
      "text/plain": [
       "array([[-1.0000000e+00, -1.2246468e-16],\n",
       "       [ 1.2246468e-16, -1.0000000e+00]])"
      ]
     },
     "execution_count": 66,
     "metadata": {},
     "output_type": "execute_result"
    }
   ],
   "source": [
    "R_90_squared = np.dot(R_theta,R_theta)\n",
    "R_90_squared"
   ]
  },
  {
   "cell_type": "code",
   "execution_count": 67,
   "metadata": {},
   "outputs": [
    {
     "data": {
      "text/plain": [
       "array([[-5.000000e+00],\n",
       "       [ 6.123234e-16]])"
      ]
     },
     "execution_count": 67,
     "metadata": {},
     "output_type": "execute_result"
    }
   ],
   "source": [
    "v_rotated_90_90 = np.dot(R_90_squared,v)\n",
    "v_rotated_90_90"
   ]
  },
  {
   "cell_type": "markdown",
   "metadata": {},
   "source": [
    "## Transformation Matrix (Scaling & Rotation)\n",
    "We can rotate a vector, and then change its magnitude, or, we can change its magnitude and then rotate it -- from physical point of view, the order shouldn't matter. And as it turns out perfectly, even though $A\\cdot B \\ne B\\cdot A$ almost always, for these two rotation & scaling operation matrices, both ordering yields the same result (you can easily prove this for two general (2x2) matrices by hand). So, we can write a general transformation matrix $T$ as a multiplication (combination) of the two:"
   ]
  },
  {
   "cell_type": "code",
   "execution_count": 68,
   "metadata": {},
   "outputs": [
    {
     "data": {
      "text/plain": [
       "array([[ 0.8660254, -0.5      ],\n",
       "       [ 0.5      ,  0.8660254]])"
      ]
     },
     "execution_count": 68,
     "metadata": {},
     "output_type": "execute_result"
    }
   ],
   "source": [
    "theta = np.deg2rad(30)\n",
    "R_30 = np.array([[np.cos(theta), -np.sin(theta)],\n",
    "                    [np.sin(theta),  np.cos(theta)]])\n",
    "R_30"
   ]
  },
  {
   "cell_type": "code",
   "execution_count": 69,
   "metadata": {},
   "outputs": [
    {
     "data": {
      "text/plain": [
       "array([[3., 0.],\n",
       "       [0., 3.]])"
      ]
     },
     "execution_count": 69,
     "metadata": {},
     "output_type": "execute_result"
    }
   ],
   "source": [
    "S_3 = 3*np.eye(2,2)\n",
    "S_3"
   ]
  },
  {
   "cell_type": "code",
   "execution_count": 70,
   "metadata": {},
   "outputs": [
    {
     "data": {
      "text/plain": [
       "array([[ 2.59807621, -1.5       ],\n",
       "       [ 1.5       ,  2.59807621]])"
      ]
     },
     "execution_count": 70,
     "metadata": {},
     "output_type": "execute_result"
    }
   ],
   "source": [
    "T = np.dot(R_30,S_3)\n",
    "T"
   ]
  },
  {
   "cell_type": "code",
   "execution_count": 71,
   "metadata": {},
   "outputs": [
    {
     "data": {
      "text/plain": [
       "array([[ 2.59807621, -1.5       ],\n",
       "       [ 1.5       ,  2.59807621]])"
      ]
     },
     "execution_count": 71,
     "metadata": {},
     "output_type": "execute_result"
    }
   ],
   "source": [
    "T = np.dot(S_3,R_30)\n",
    "T"
   ]
  },
  {
   "cell_type": "markdown",
   "metadata": {},
   "source": [
    "What we have ourselves here is a transformation matrix that rotates a vector by $30^o$ and triples its size. Let's roll! 8)"
   ]
  },
  {
   "cell_type": "code",
   "execution_count": 72,
   "metadata": {},
   "outputs": [
    {
     "data": {
      "text/plain": [
       "array([[1],\n",
       "       [0]])"
      ]
     },
     "execution_count": 72,
     "metadata": {},
     "output_type": "execute_result"
    }
   ],
   "source": [
    "# For our first case, let's transform the unit vector \n",
    "# along the positive x-direction:\n",
    "v = np.array([[1],[0]])\n",
    "v"
   ]
  },
  {
   "cell_type": "code",
   "execution_count": 73,
   "metadata": {},
   "outputs": [
    {
     "data": {
      "text/plain": [
       "array([[2.59807621],\n",
       "       [1.5       ]])"
      ]
     },
     "execution_count": 73,
     "metadata": {},
     "output_type": "execute_result"
    }
   ],
   "source": [
    "vp = np.dot(T,v)\n",
    "vp"
   ]
  },
  {
   "cell_type": "code",
   "execution_count": 74,
   "metadata": {},
   "outputs": [
    {
     "data": {
      "text/plain": [
       "3.0"
      ]
     },
     "execution_count": 74,
     "metadata": {},
     "output_type": "execute_result"
    }
   ],
   "source": [
    "# Its size:\n",
    "np.linalg.norm(vp)"
   ]
  },
  {
   "cell_type": "code",
   "execution_count": 75,
   "metadata": {},
   "outputs": [
    {
     "name": "stdout",
     "output_type": "stream",
     "text": [
      "The angle in radians: [0.52359878]\n",
      "The angle in degrees: [30.]\n"
     ]
    }
   ],
   "source": [
    "# We can calculate its angle wrt x-axis by calculating\n",
    "# the arctan (vp_y/vp_x):\n",
    "angle_rad = np.arctan(vp[1]/vp[0])\n",
    "print(\"The angle in radians: {:}\".format(angle_rad))\n",
    "print(\"The angle in degrees: {:}\".format(np.rad2deg(angle_rad)))"
   ]
  },
  {
   "cell_type": "markdown",
   "metadata": {},
   "source": [
    "(For a much more \"intelligent\" arctan process, I strongly recommend the `arctan2` function, which saves you from further consideration of the quadrants (i.e., Q1 vs. Q3 and Q2 vs. Q4)"
   ]
  },
  {
   "cell_type": "code",
   "execution_count": 76,
   "metadata": {},
   "outputs": [
    {
     "name": "stdout",
     "output_type": "stream",
     "text": [
      "The angle in radians: [0.52359878]\n",
      "The angle in degrees: [30.]\n"
     ]
    }
   ],
   "source": [
    "angle_rad = np.arctan2(vp[1],vp[0])\n",
    "print(\"The angle in radians: {:}\".format(angle_rad))\n",
    "print(\"The angle in degrees: {:}\".format(np.rad2deg(angle_rad)))"
   ]
  },
  {
   "cell_type": "markdown",
   "metadata": {},
   "source": [
    "So, the size is indeed tripled and our vector has been rotated by 30 degrees! 8)"
   ]
  },
  {
   "cell_type": "code",
   "execution_count": 77,
   "metadata": {},
   "outputs": [
    {
     "data": {
      "text/plain": [
       "array([[0.37672523],\n",
       "       [6.62082483]])"
      ]
     },
     "execution_count": 77,
     "metadata": {},
     "output_type": "execute_result"
    }
   ],
   "source": [
    "## Now let's roll with a random vector:\n",
    "v = (np.random.rand(1,2)*10).T\n",
    "v"
   ]
  },
  {
   "cell_type": "code",
   "execution_count": 78,
   "metadata": {},
   "outputs": [
    {
     "name": "stdout",
     "output_type": "stream",
     "text": [
      "The vector's size is: 6.631534010791827\n"
     ]
    }
   ],
   "source": [
    "# initial size:\n",
    "size_before = np.linalg.norm(v)\n",
    "print(\"The vector's size is: {:}\".format(size_before))"
   ]
  },
  {
   "cell_type": "code",
   "execution_count": 79,
   "metadata": {},
   "outputs": [
    {
     "name": "stdout",
     "output_type": "stream",
     "text": [
      "The vector's angle (wrt x-axis) is: 86.743 degress\n"
     ]
    }
   ],
   "source": [
    "angle_deg_before = np.rad2deg(np.arctan2(v[1],v[0]))\n",
    "print(\"The vector's angle (wrt x-axis) is: {:.3f} degress\"\n",
    "      .format(angle_deg_before[0]))"
   ]
  },
  {
   "cell_type": "code",
   "execution_count": 80,
   "metadata": {},
   "outputs": [
    {
     "data": {
      "text/plain": [
       "array([[-8.95247639],\n",
       "       [17.76649534]])"
      ]
     },
     "execution_count": 80,
     "metadata": {},
     "output_type": "execute_result"
    }
   ],
   "source": [
    "# Transform it!\n",
    "vp = np.dot(T,v)\n",
    "vp"
   ]
  },
  {
   "cell_type": "code",
   "execution_count": 81,
   "metadata": {},
   "outputs": [
    {
     "name": "stdout",
     "output_type": "stream",
     "text": [
      "The vector's size after transformation is: 19.89460203237548\n"
     ]
    }
   ],
   "source": [
    "# Its size after the transformation:\n",
    "size_after = np.linalg.norm(vp)\n",
    "print(\"The vector's size after transformation is: {:}\".format(size_after))"
   ]
  },
  {
   "cell_type": "code",
   "execution_count": 82,
   "metadata": {},
   "outputs": [
    {
     "name": "stdout",
     "output_type": "stream",
     "text": [
      "The size has changed by a factor of: 3.0\n"
     ]
    }
   ],
   "source": [
    "# The ratios of after/before:\n",
    "print(\"The size has changed by a factor of: {:}\".format(size_after/size_before))"
   ]
  },
  {
   "cell_type": "code",
   "execution_count": 83,
   "metadata": {},
   "outputs": [
    {
     "name": "stdout",
     "output_type": "stream",
     "text": [
      "The vector's angle (wrt x-axis) is: 116.743 degress\n"
     ]
    }
   ],
   "source": [
    "# Its angle after the transformation:\n",
    "angle_deg_after = np.rad2deg(np.arctan2(vp[1],vp[0]))\n",
    "print(\"The vector's angle (wrt x-axis) is: {:.3f} degress\"\n",
    "      .format(angle_deg_after[0]))"
   ]
  },
  {
   "cell_type": "code",
   "execution_count": 84,
   "metadata": {},
   "outputs": [
    {
     "name": "stdout",
     "output_type": "stream",
     "text": [
      "The vector has rotated by 30.000 degrees\n"
     ]
    }
   ],
   "source": [
    "# The difference between the final and initial angles:\n",
    "print(\"The vector has rotated by {:.3f} degrees\"\n",
    "      .format(angle_deg_after[0] - angle_deg_before[0]))"
   ]
  },
  {
   "cell_type": "markdown",
   "metadata": {},
   "source": [
    "# A practical application\n",
    "## Definitions\n",
    "Suppose that we are given a vector $\\vec{v}'$ and we are told that this vector has been rotated by an angle of $\\theta$ and its magnitude is scaled by a factor of $n$, and we are asked to calculate the initial vector $\\vec{v}$. So here is what we have:\n",
    "\n",
    "$$\\vec{v}' = \\begin{bmatrix}n & 0 \\\\ 0 & n\\end{bmatrix}\\begin{bmatrix}\\cos\\theta & -\\sin\\theta \\\\ \\sin\\theta & \\cos\\theta\\end{bmatrix}\\vec{v}=\\underbrace{\\begin{bmatrix}n\\cos\\theta & -n\\sin\\theta \\\\ n\\sin\\theta & n\\cos\\theta\\end{bmatrix}}_{T}\\vec{v}$$"
   ]
  },
  {
   "cell_type": "markdown",
   "metadata": {},
   "source": [
    "To find $\\vec{v}$, we would first rotate it (back) _clockwise_ by 30 degrees (i.e., $-30^0$) and then would scale it $\\vec{v}'$ by a factor of $\\tfrac{1}{3}$. In mathematical representation this would be:\n",
    "\n",
    "$$\\vec{v} = \\begin{bmatrix}\\tfrac{1}{n} & 0 \\\\ 0 & \\tfrac{1}{n}\\end{bmatrix}\\begin{bmatrix}\\cos{(-\\theta)} & -\\sin{(-\\theta)} \\\\ \\sin{(-\\theta)} & \\cos{(-\\theta)}\\end{bmatrix}\\vec{v}'=\\underbrace{\\begin{bmatrix}\\tfrac{1}{n}\\cos\\theta & \\tfrac{1}{n}\\sin\\theta \\\\ -\\tfrac{1}{n}\\sin\\theta & \\tfrac{1}{n}\\cos\\theta\\end{bmatrix}}_{T'}\\vec{v}'$$"
   ]
  },
  {
   "cell_type": "markdown",
   "metadata": {},
   "source": [
    "Let's put some numbers in it, for example $n=3$ & $\\theta=30^o$, $\\vec{v}' = 1.7942\\hat{\\imath} + 14.8923\\hat{\\jmath} $:"
   ]
  },
  {
   "cell_type": "code",
   "execution_count": 85,
   "metadata": {},
   "outputs": [
    {
     "data": {
      "text/plain": [
       "array([[ 2.59807621, -1.5       ],\n",
       "       [ 1.5       ,  2.59807621]])"
      ]
     },
     "execution_count": 85,
     "metadata": {},
     "output_type": "execute_result"
    }
   ],
   "source": [
    "n = 3\n",
    "angle = np.deg2rad(30)\n",
    "T = np.array([[n*np.cos(angle),-n*np.sin(angle)],[n*np.sin(angle),n*np.cos(angle)]])\n",
    "T"
   ]
  },
  {
   "cell_type": "markdown",
   "metadata": {},
   "source": [
    "Now let's calculate the reversed (_inverted?_) version from the formula:"
   ]
  },
  {
   "cell_type": "code",
   "execution_count": 86,
   "metadata": {},
   "outputs": [
    {
     "data": {
      "text/plain": [
       "array([[ 0.28867513,  0.16666667],\n",
       "       [-0.16666667,  0.28867513]])"
      ]
     },
     "execution_count": 86,
     "metadata": {},
     "output_type": "execute_result"
    }
   ],
   "source": [
    "n = 1/3\n",
    "angle = np.deg2rad(-30)\n",
    "Tp = np.array([[n*np.cos(angle),-n*np.sin(angle)],[n*np.sin(angle),n*np.cos(angle)]])\n",
    "Tp"
   ]
  },
  {
   "cell_type": "markdown",
   "metadata": {},
   "source": [
    "Thus, by multiplying $T'$ with $\\vec{v}'$, we get:"
   ]
  },
  {
   "cell_type": "code",
   "execution_count": 87,
   "metadata": {},
   "outputs": [
    {
     "data": {
      "text/plain": [
       "array([[ 1.7942],\n",
       "       [14.8923]])"
      ]
     },
     "execution_count": 87,
     "metadata": {},
     "output_type": "execute_result"
    }
   ],
   "source": [
    "vp = np.array([[1.7942],[14.8923]])\n",
    "vp"
   ]
  },
  {
   "cell_type": "code",
   "execution_count": 88,
   "metadata": {},
   "outputs": [
    {
     "data": {
      "text/plain": [
       "array([[2.99999093],\n",
       "       [4.00000337]])"
      ]
     },
     "execution_count": 88,
     "metadata": {},
     "output_type": "execute_result"
    }
   ],
   "source": [
    "v = np.dot(Tp,vp)\n",
    "v"
   ]
  },
  {
   "cell_type": "markdown",
   "metadata": {},
   "source": [
    "which means that, our original vector was: $\\vec{v} = 3\\hat{\\imath}+4{\\jmath}$"
   ]
  },
  {
   "cell_type": "markdown",
   "metadata": {},
   "source": [
    "**Ready for a surprise?**  \n",
    "Here is the inverse of the transformation matrix, directly calculated by the `linalg.inv()` method:"
   ]
  },
  {
   "cell_type": "code",
   "execution_count": 89,
   "metadata": {},
   "outputs": [
    {
     "data": {
      "text/plain": [
       "array([[ 0.28867513,  0.16666667],\n",
       "       [-0.16666667,  0.28867513]])"
      ]
     },
     "execution_count": 89,
     "metadata": {},
     "output_type": "execute_result"
    }
   ],
   "source": [
    "np.linalg.inv(T)"
   ]
  },
  {
   "cell_type": "markdown",
   "metadata": {},
   "source": [
    "We saw it somewhere before, right? ;)\n",
    "\n",
    "Thus:\n",
    "\n",
    "$$\\begin{align*}T\\cdot \\vec{v} &= \\vec{v}'\\\\\n",
    "\\underbrace{T^{-1}\\cdot T}_{\\mathbb{1}}\\cdot \\vec{v} &=T^{-1}\\cdot \\vec{v}'\\\\\n",
    "\\vec{v} &=T^{-1}\\cdot \\vec{v}'\\end{align*}$$"
   ]
  },
  {
   "cell_type": "code",
   "execution_count": 90,
   "metadata": {},
   "outputs": [
    {
     "data": {
      "text/plain": [
       "array([[2.99999093],\n",
       "       [4.00000337]])"
      ]
     },
     "execution_count": 90,
     "metadata": {},
     "output_type": "execute_result"
    }
   ],
   "source": [
    "np.dot(np.linalg.inv(T),vp)"
   ]
  },
  {
   "cell_type": "markdown",
   "metadata": {},
   "source": [
    "### Sidenote: Calculating $n$ & $\\theta$ from the combined transformation matrix*\n",
    "_(*As long as we're keeping the 'new coordinates' perpendicular)_"
   ]
  },
  {
   "cell_type": "markdown",
   "metadata": {},
   "source": [
    "We could have been directly given the transformation matrix T:"
   ]
  },
  {
   "cell_type": "code",
   "execution_count": 91,
   "metadata": {},
   "outputs": [
    {
     "data": {
      "text/plain": [
       "array([[ 2.59807621, -1.5       ],\n",
       "       [ 1.5       ,  2.59807621]])"
      ]
     },
     "execution_count": 91,
     "metadata": {},
     "output_type": "execute_result"
    }
   ],
   "source": [
    "T = np.array([[ 2.59807621, -1.5],[ 1.5       ,  2.59807621]])\n",
    "T"
   ]
  },
  {
   "cell_type": "markdown",
   "metadata": {},
   "source": [
    "and we could have been asked to extract $n$ & $\\theta$. What we could have done would be to calculate the determinant of the transformation matrix, which would be:\n",
    "\n",
    "$$n^2.\\cos^2{\\theta} + n^2.\\sin^2{\\theta} \\equiv n^2$$\n",
    "\n",
    "Then, we would divide the matrix by $n$ to get the rotation matrix and thus, the angle:"
   ]
  },
  {
   "cell_type": "code",
   "execution_count": 92,
   "metadata": {},
   "outputs": [
    {
     "name": "stdout",
     "output_type": "stream",
     "text": [
      "The scaling factor is: 3.000\n"
     ]
    }
   ],
   "source": [
    "n = np.sqrt(np.linalg.det(T))\n",
    "print(\"The scaling factor is: {:.3f}\".format(n))"
   ]
  },
  {
   "cell_type": "code",
   "execution_count": 93,
   "metadata": {},
   "outputs": [
    {
     "data": {
      "text/plain": [
       "array([[ 0.8660254, -0.5      ],\n",
       "       [ 0.5      ,  0.8660254]])"
      ]
     },
     "execution_count": 93,
     "metadata": {},
     "output_type": "execute_result"
    }
   ],
   "source": [
    "R = T/n\n",
    "R"
   ]
  },
  {
   "cell_type": "code",
   "execution_count": 94,
   "metadata": {},
   "outputs": [
    {
     "name": "stdout",
     "output_type": "stream",
     "text": [
      "The rotation angle is: 30.000 degrees\n"
     ]
    }
   ],
   "source": [
    "angle = np.rad2deg(np.arctan2(R[1,0],R[0,0]))\n",
    "print(\"The rotation angle is: {:.3f} degrees\".format(angle))"
   ]
  },
  {
   "cell_type": "markdown",
   "metadata": {},
   "source": [
    "## Application\n",
    "**Example** \n",
    "$\\vec{v}=\\begin{pmatrix}v_x\\\\v_y\\end{pmatrix}$ vector is rotated and scaled by a transformation matrix defined as: \n",
    "\n",
    "$$T=\\begin{bmatrix}2.59807621&-1.5\\\\1.5 &2.59807621\\end{bmatrix}$$\n",
    "\n",
    "\n",
    "and if the resulting vector $\\vec{v}'$ is given as $\\vec{v}' = 1.7942\\hat{\\imath} + 14.8923\\hat{\\jmath} $, calculate the initial vector $\\vec{v}$."
   ]
  },
  {
   "cell_type": "markdown",
   "metadata": {},
   "source": [
    "So we can write it as:\n",
    "$$T\\cdot \\vec{v}=\\vec{v}'$$\n",
    "$$\\begin{bmatrix}2.59807621&-1.5\\\\1.5 &2.59807621\\end{bmatrix}\\begin{pmatrix}v_x\\\\v_y\\end{pmatrix}=\\begin{pmatrix}1.7942\\\\14.8923\\end{pmatrix}$$"
   ]
  },
  {
   "cell_type": "markdown",
   "metadata": {},
   "source": [
    "But we have already solved this problem and found the answer to be:\n",
    "\n",
    "$$\\vec{v}=\\begin{pmatrix}v_x\\\\v_y\\end{pmatrix}=\\begin{pmatrix}3\\\\4\\end{pmatrix} = 3\\hat{\\imath} + 4\\hat{\\jmath}$$\n",
    "\n",
    "How very nice! 8)"
   ]
  },
  {
   "cell_type": "markdown",
   "metadata": {},
   "source": [
    "Now consider this set of two equations with two unknowns:\n",
    "$$\\begin{gather*}4x - y = 10\\\\3x + 2y=13\\end{gather*}$$\n",
    "\n",
    "Can we write it as a multiplication of a matrix by a vector like the following?\n",
    "\n",
    "$$\\begin{bmatrix}4&-1\\\\3&2\\end{bmatrix}\\begin{bmatrix}x\\\\y\\end{bmatrix} = \\begin{bmatrix}10\\\\13\\end{bmatrix}$$\n",
    "\n",
    "(please verify that, we indeed can...)"
   ]
  },
  {
   "cell_type": "markdown",
   "metadata": {},
   "source": [
    "So, even though it is a set of 2 equations with two unknowns, we can interpret it as if it is a vector transformation! _(albeit, a transformation, that doesn't keep the angle between the new axes perpendicular)_\n",
    "\n",
    "Sooooo:"
   ]
  },
  {
   "cell_type": "code",
   "execution_count": 95,
   "metadata": {},
   "outputs": [
    {
     "data": {
      "text/plain": [
       "array([[3.],\n",
       "       [2.]])"
      ]
     },
     "execution_count": 95,
     "metadata": {},
     "output_type": "execute_result"
    }
   ],
   "source": [
    "vp = np.array([[10],[13]])\n",
    "T = np.array([[4,-1],[3,2]])\n",
    "np.dot(np.linalg.inv(T),vp)"
   ]
  },
  {
   "cell_type": "markdown",
   "metadata": {},
   "source": [
    "We have just solved our set of equations!\n",
    "\n",
    "(As this solving of linear operations are very common in scientific calculations, there is a direct function called `linalg.solve()` defined for it, i.e.,"
   ]
  },
  {
   "cell_type": "code",
   "execution_count": 96,
   "metadata": {},
   "outputs": [
    {
     "data": {
      "text/plain": [
       "array([[3.],\n",
       "       [2.]])"
      ]
     },
     "execution_count": 96,
     "metadata": {},
     "output_type": "execute_result"
    }
   ],
   "source": [
    "np.linalg.solve(T,vp)"
   ]
  },
  {
   "cell_type": "markdown",
   "metadata": {},
   "source": [
    "# Eigenvectors, Eigenvalues\n"
   ]
  },
  {
   "cell_type": "code",
   "execution_count": 97,
   "metadata": {},
   "outputs": [
    {
     "data": {
      "text/plain": [
       "array([[2, 3],\n",
       "       [4, 5]])"
      ]
     },
     "execution_count": 97,
     "metadata": {},
     "output_type": "execute_result"
    }
   ],
   "source": [
    "A = np.array([[2,3],[4,5]])\n",
    "A"
   ]
  },
  {
   "cell_type": "markdown",
   "metadata": {},
   "source": [
    "$$A\\vec{u} = \\lambda\\mathbb{1}\\vec{u}$$\n",
    "$$\\begin{bmatrix}a_{11}&a_{12}\\\\a_{21}&a_{22}\\end{bmatrix}\\vec{u} = \\begin{bmatrix}\\lambda&0\\\\0&\\lambda\\end{bmatrix}\\vec{u}$$\n",
    "$$\\begin{bmatrix}a_{11}&a_{12}\\\\a_{21}&a_{22}\\end{bmatrix}\\vec{u} - \\begin{bmatrix}\\lambda&0\\\\0&\\lambda\\end{bmatrix}\\vec{u} = 0$$\n",
    "$$\\begin{bmatrix}a_{11}-\\lambda&a_{12}\\\\a_{21}&a_{22}-\\lambda\\end{bmatrix}\\vec{u} = \\begin{pmatrix}0\\\\0\\end{pmatrix}$$"
   ]
  },
  {
   "cell_type": "code",
   "execution_count": 98,
   "metadata": {},
   "outputs": [
    {
     "name": "stdout",
     "output_type": "stream",
     "text": [
      "Eigenvalues:  [-0.27491722  7.27491722] \n",
      "-----\n",
      "Eigenvectors:\n",
      " [[-0.79681209 -0.49436913]\n",
      " [ 0.60422718 -0.86925207]]\n"
     ]
    }
   ],
   "source": [
    "[eigvalues, eigvectors] = np.linalg.eig(A)\n",
    "print(\"Eigenvalues: \",eigvalues,\"\\n-----\\nEigenvectors:\\n\",eigvectors)"
   ]
  },
  {
   "cell_type": "code",
   "execution_count": 99,
   "metadata": {},
   "outputs": [],
   "source": [
    "E1 = eigvectors[:,0]\n",
    "E2 = eigvectors[:,1]\n",
    "l1 = eigvalues[0]\n",
    "l2 = eigvalues[1]"
   ]
  },
  {
   "cell_type": "code",
   "execution_count": 100,
   "metadata": {},
   "outputs": [
    {
     "data": {
      "text/plain": [
       "array([ 0.21905736, -0.16611246])"
      ]
     },
     "execution_count": 100,
     "metadata": {},
     "output_type": "execute_result"
    }
   ],
   "source": [
    "vp1 = np.dot(A,E1)\n",
    "vp1"
   ]
  },
  {
   "cell_type": "code",
   "execution_count": 101,
   "metadata": {},
   "outputs": [
    {
     "data": {
      "text/plain": [
       "array(5.55111512e-17)"
      ]
     },
     "execution_count": 101,
     "metadata": {},
     "output_type": "execute_result"
    }
   ],
   "source": [
    "np.cross(vp1,E1)"
   ]
  },
  {
   "cell_type": "code",
   "execution_count": 102,
   "metadata": {},
   "outputs": [
    {
     "data": {
      "text/plain": [
       "-0.27491721763537486"
      ]
     },
     "execution_count": 102,
     "metadata": {},
     "output_type": "execute_result"
    }
   ],
   "source": [
    "np.dot(vp1,E1)"
   ]
  },
  {
   "cell_type": "code",
   "execution_count": 103,
   "metadata": {},
   "outputs": [
    {
     "data": {
      "text/plain": [
       "-0.2749172161201452"
      ]
     },
     "execution_count": 103,
     "metadata": {},
     "output_type": "execute_result"
    }
   ],
   "source": [
    "-0.79681209* 0.21905736 + 0.60422718 * -0.16611246"
   ]
  },
  {
   "cell_type": "code",
   "execution_count": 104,
   "metadata": {},
   "outputs": [
    {
     "data": {
      "text/plain": [
       "180.0"
      ]
     },
     "execution_count": 104,
     "metadata": {},
     "output_type": "execute_result"
    }
   ],
   "source": [
    "ctheta = np.dot(vp1,E1)/(np.linalg.norm(vp1)*np.linalg.norm(E1) )\n",
    "np.rad2deg(np.arccos(ctheta))"
   ]
  },
  {
   "cell_type": "code",
   "execution_count": 105,
   "metadata": {},
   "outputs": [
    {
     "data": {
      "text/plain": [
       "array([-0.79681209,  0.60422718])"
      ]
     },
     "execution_count": 105,
     "metadata": {},
     "output_type": "execute_result"
    }
   ],
   "source": [
    "vp1 / l1"
   ]
  },
  {
   "cell_type": "code",
   "execution_count": 106,
   "metadata": {},
   "outputs": [
    {
     "data": {
      "text/plain": [
       "array([-0.27491722, -0.27491722])"
      ]
     },
     "execution_count": 106,
     "metadata": {},
     "output_type": "execute_result"
    }
   ],
   "source": [
    "vp1 / E1"
   ]
  },
  {
   "cell_type": "code",
   "execution_count": 107,
   "metadata": {},
   "outputs": [
    {
     "data": {
      "text/plain": [
       "1.0"
      ]
     },
     "execution_count": 107,
     "metadata": {},
     "output_type": "execute_result"
    }
   ],
   "source": [
    "np.linalg.norm(E1)"
   ]
  },
  {
   "cell_type": "code",
   "execution_count": 108,
   "metadata": {},
   "outputs": [
    {
     "data": {
      "text/plain": [
       "array([[-0.27491722,  0.        ],\n",
       "       [ 0.        ,  7.27491722]])"
      ]
     },
     "execution_count": 108,
     "metadata": {},
     "output_type": "execute_result"
    }
   ],
   "source": [
    "np.diag(eigvalues)"
   ]
  },
  {
   "cell_type": "markdown",
   "metadata": {},
   "source": [
    "## Diagonalization"
   ]
  },
  {
   "cell_type": "code",
   "execution_count": 109,
   "metadata": {},
   "outputs": [
    {
     "data": {
      "text/plain": [
       "array([[2., 3.],\n",
       "       [4., 5.]])"
      ]
     },
     "execution_count": 109,
     "metadata": {},
     "output_type": "execute_result"
    }
   ],
   "source": [
    "np.linalg.multi_dot([eigvectors,np.diag(eigvalues),np.linalg.inv(eigvectors)])"
   ]
  }
 ],
 "metadata": {
  "kernelspec": {
   "display_name": "Python 3",
   "language": "python",
   "name": "python3"
  },
  "language_info": {
   "codemirror_mode": {
    "name": "ipython",
    "version": 3
   },
   "file_extension": ".py",
   "mimetype": "text/x-python",
   "name": "python",
   "nbconvert_exporter": "python",
   "pygments_lexer": "ipython3",
   "version": "3.8.5"
  }
 },
 "nbformat": 4,
 "nbformat_minor": 4
}
