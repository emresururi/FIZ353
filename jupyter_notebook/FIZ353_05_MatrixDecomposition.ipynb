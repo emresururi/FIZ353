{
 "cells": [
  {
   "cell_type": "markdown",
   "metadata": {},
   "source": [
    "# Matrix Decomposition \n",
    "**FIZ353 - Numerical Analysis | 06/11/2020**\n",
    "\n",
    "Emre S. Tasci <emre.tasci@hacettepe.edu.tr>"
   ]
  },
  {
   "cell_type": "markdown",
   "metadata": {},
   "source": [
    "Any set of linear relations involving variables can be represented in different formats and -most of the time- can be solved via a number of methods. Before we delve unto some of these methods, a little revision might be useful.\n",
    "\n",
    "## Revision of systems of linear equations\n",
    "\n",
    "### Classification of linear systems\n",
    "Any equation that contains -at most- 1st power of its variables is called a linear equation (e.g., $3x + 5y = 1$ is a _linear equation_ whereas $3x^2 + 5\\sqrt y$ isn't (it is a _non-linear equation_)). If we have more than one linear equation, then we are working on a linear system. Depending on the number of <u>independent</u> equations ($n_e$) and the number of variables ($n_v$) our linear system will belong to one of these three classes:\n",
    "\n",
    "1. **Underdetermined linear system**  \n",
    "When the number of the variables ($n_v$) is greater than the number of equations ($n_e$) there will be infinite solutions. Consider the equation: $x - y = 5$ in this case any one of the pairs (-3.4, -8.4), (5,0), (6.2,1.2), (7,2), ... will satisfy the equation.\n",
    "2. **Independent linear system**  \n",
    "When we have $n_v = n_e$ then there is one and only one solution set, i.e., the equation will be satisfied for exactly one value of each variable. For example: $x - 3 = 5$ is satisfied only when $x=8$, likewise $3x + 2y = 8\\: \\&\\:x - y = 1$ equations are _simultaneously_ satisfied only for (x,y) = (2,1) values.\n",
    "3. **Overdetermined linear system**  \n",
    "When $n_v$ < $n_e$ we have an overdetermined system where there is no solution. This kind of systems usually appear in experimental measurings. Suppose that the weight with respect to mass is measured for a specific mass. From Newton's 2nd equation: $F_g = mg$, so, we would expect to find the same reading, however, there will be a discrepancy regarding the measured weights. So, even though we have the same value for m, and fixed value for g, their product manifestation will differ a little bit for each measurement. We usually take the average of these values to transform an overdetermined linear system into an independent linear system."
   ]
  },
  {
   "cell_type": "markdown",
   "metadata": {},
   "source": [
    "### Transformation of a set of linear equations into a linear system\n",
    "Usually, the physical problem at hand will be presented to be composed of some variables collected in a number of equations. Before proceeding to solve them, one must rearrange them so that the variables are ordered in the same way in each equation and the numerical value is written to the right hand side of the equation, e.g.:\n",
    "\n",
    "\\begin{align}\n",
    "x - 3 &= y\\\\\n",
    "y - 2x + 2 &= 11\n",
    "\\end{align}\n",
    "\n",
    "can be rearranged into:\n",
    "\n",
    "\\begin{align}\n",
    "x - y &= 3\\\\\n",
    "-2x + y &= 9\n",
    "\\end{align}"
   ]
  },
  {
   "cell_type": "markdown",
   "metadata": {},
   "source": [
    "### Gaussian Elimination\n",
    "The most popular method to solve a linear system is the Gaussian Elimination where one equation is picked and by being multiplied by a scalar to fit the negative of the coefficient of the variable that is wanted to be eliminated in another equation and afterwards added to that equation. Take this linear system:\n",
    "\n",
    "\\begin{align}\n",
    "10x_1 + 2x_2 - x_3 &= 27\\quad\\quad[1]\\\\\n",
    "-3x_1 - 5x_2 + 2x_3 &= -61.5\\quad[2]\\\\\n",
    "x_1 + x_2 + 6x_3 &= -21.5\\quad[3]\n",
    "\\end{align}\n",
    "\n",
    "To eliminate $x_1$ in the 2nd equation, we multiply the 1st equation by -3/10 and subtract it from the 2nd equation (as we are adding/subtracting <u>an equation</u> (which in essence, has the same meaning like 2=2 or 5=5, both sides of the 2nd equation will be affected the same and even though it will become a different equation, the equality will still hold, e.g., \"4 = 4\" + \"5 = 5\" => \"9 = 9\" (still valid)). We do a similar thing to eliminate $x_1$ in the 3rd equation as well (multiply the 1st by 1/10 and subtract it from the 3rd).\n",
    "\n",
    "After this modification, the equations becomes:\n",
    "\\begin{align}\n",
    "[1]:\\quad10x_1 + 2x_2 - x_3 &= 27\\\\\n",
    "\\left[[2] - \\left(-{\\tfrac{3} {10}}\\right)\\cdot[1]\\right]:\\quad 0 - 4.4x_2 + 1.7x_3&=-53.4\\\\\n",
    "\\left[[3] - \\left({\\tfrac{1} {10}}\\right)\\cdot[1]\\right]:\\quad 0 + 0.8x_2 + 6.1x_3 &= -24.2\n",
    "\\end{align}\n",
    "\n",
    "Now we will use 2nd equation to eliminate $x_2$ in the 3rd equation. If we multiply the 2nd equation by $\\left(\\frac{0.8}{-4.4}\\right)$ and subtract it from the 3rd equation:\n",
    "\n",
    "\\begin{align}\n",
    "[1]:\\quad10x_1 + 2x_2 - x_3 &= 27\\\\\n",
    "[2]:\\quad 0 - 4.4x_2 + 1.7x_3&=-53.4\\\\\n",
    "\\left[[3] - \\left(-{\\tfrac{0.8} {4.4}}\\right)\\cdot[2]\\right]:\\quad 0 + 0 + 6.41x_3 &= -33.91\n",
    "\\end{align}"
   ]
  },
  {
   "cell_type": "markdown",
   "metadata": {},
   "source": [
    "The 3rd equation only contains $x_3$ so we can immediately calculate it:\n",
    "\n",
    "$x_3 = \\frac{-33.91}{6.41} = -5.29$\n",
    "\n",
    "Now that we know $x_3$, substituting this value into the 2nd equation, we can find $x_2$:\n",
    "\n",
    "$-4.4x_2 + 1.7\\cdot(-5.29) = -53.4 \\Rightarrow x_2 = \\frac{-53.4 + 8.99}{(-4.4)} = 10.09$\n",
    "\n",
    "and finally, substituting the newly found values of $x_2$ and $x_3$ into the 1st equation:\n",
    "\n",
    "$10x_1 + 2\\cdot(10.09) - (-5.29) = 27 \\Rightarrow x_1 = 0.15$"
   ]
  },
  {
   "cell_type": "markdown",
   "metadata": {},
   "source": [
    "When we were going downward, eliminating one of the variables on each run in the equations below, this process is called **forward elimination**. Then, when we reached the bottom, we had a direct equality for only a single variable and we went back to the top by substituting the found values to find the other variables. This going back process to recover all the unknowns is called **backward substitution**."
   ]
  },
  {
   "cell_type": "markdown",
   "metadata": {},
   "source": [
    " ### Matrix Representation of Linear Systems\n",
    " We can fasten the analyzing process by representing our linear system as a matrix multiplication. Continuing with the same case, i.e.,\\begin{align}\n",
    "10x_1 + 2x_2 - x_3 &= 27\\\\\n",
    "-3x_1 - 5x_2 + 2x_3 &= -61.5\\\\\n",
    "x_1 + x_2 + 6x_3 &= -21.5\n",
    "\\end{align}\n",
    "\n",
    "we can represent it, without any loss of information, as:\n",
    "\n",
    "$$\\begin{bmatrix}\n",
    "10 & 2 & -1\\\\\n",
    "-3 & -5 & 2\\\\\n",
    "1 & 1 & 6\n",
    "\\end{bmatrix}\\begin{bmatrix}x_1\\\\x_2\\\\x_3\\end{bmatrix}=\\begin{bmatrix}27\\\\-61.5\\\\-21.5\\end{bmatrix}$$\n",
    "\n",
    "Therefore it is now a matrix multiplication, i.e., $A\\cdot x=b$, where:\n",
    "\n",
    "$$A=\\begin{bmatrix}\n",
    "10 & 2 & -1\\\\\n",
    "-3 & -5 & 2\\\\\n",
    "1 & 1 & 6\n",
    "\\end{bmatrix} \\quad x=\\begin{bmatrix}x_1\\\\x_2\\\\x_3\\end{bmatrix} \\quad b=\\begin{bmatrix}27\\\\-61.5\\\\-21.5\\end{bmatrix}$$"
   ]
  },
  {
   "cell_type": "code",
   "execution_count": 1,
   "metadata": {},
   "outputs": [
    {
     "name": "stdout",
     "output_type": "stream",
     "text": [
      "A:\n",
      " [[10.  2. -1.]\n",
      " [-3. -5.  2.]\n",
      " [ 1.  1.  6.]] \n",
      "\n",
      "b:\n",
      " [[ 27. ]\n",
      " [-61.5]\n",
      " [-21.5]] \n",
      "\n",
      "A2:\n",
      " [[10.   2.  -1. ]\n",
      " [ 0.  -4.4  1.7]\n",
      " [ 0.   0.8  6.1]] \n",
      "\n",
      "b:\n",
      " [[ 27. ]\n",
      " [-53.4]\n",
      " [-24.2]] \n",
      "\n",
      "A2:\n",
      " [[10.          2.         -1.        ]\n",
      " [ 0.         -4.4         1.7       ]\n",
      " [ 0.          0.          6.40909091]] \n",
      "\n",
      "b2:\n",
      " [[ 27.        ]\n",
      " [-53.4       ]\n",
      " [-33.90909091]] \n",
      "\n",
      "x1: 0.15248\tx2: 10.09220\tx3: -5.29078\n",
      "\n"
     ]
    }
   ],
   "source": [
    "import numpy as np\n",
    "\n",
    "A = np.array([[10., 2., -1.],[-3., -5., 2.],[1., 1., 6.]])\n",
    "print(\"A:\\n\",A,\"\\n\")\n",
    "\n",
    "b = np.array([[27.],[-61.5],[-21.5]])\n",
    "print(\"b:\\n\",b,\"\\n\")\n",
    "\n",
    "# Define a new matrix to store the modified values:\n",
    "A2 = A \n",
    "\n",
    "# Multiply the first row by (-3/10) and subtract it from the second:\n",
    "A2[1,:] = A[1,:] - (-3/10)*A[0,:]\n",
    "\n",
    "# Multiply the first row by (1/10) and subtract it from the second:\n",
    "A2[2,:] = A[2,:] - (1/10)*A[0,:]\n",
    "\n",
    "# Here's the current situation:\n",
    "print(\"A2:\\n\",A2,\"\\n\")\n",
    "\n",
    "# We need to do apply the same operations to the right hand side\n",
    "# of the equation, as well:\n",
    "b2 = b\n",
    "b2[1] -= (-3./10.)*b2[0]\n",
    "b2[2] -= ( 1./10.)*b2[0]\n",
    "print(\"b:\\n\",b,\"\\n\")\n",
    "\n",
    "# In the next iteration, we multiply the second row by -0.8/4.4\n",
    "# and subtract it from the third to eliminate x_2\n",
    "A2[2,:] -= (-0.8/4.4)*A2[1,:]\n",
    "b2[2] -= (-0.8/4.4)*b2[1]\n",
    "print(\"A2:\\n\",A2,\"\\n\")\n",
    "print(\"b2:\\n\",b2,\"\\n\")\n",
    "\n",
    "# Now we can solve \n",
    "x3 = b2[2] / A[2,2]\n",
    "x2 = (b2[1] - A[1,2]*x3) / A[1,1]\n",
    "x1 = (b2[0] - A[0,2]*x3 - A[0,1]*x2) / A[0,0]\n",
    "\n",
    "print (\"x1: %.5f\\tx2: %.5f\\tx3: %.5f\\n\"%(x1,x2,x3))"
   ]
  },
  {
   "cell_type": "markdown",
   "metadata": {},
   "source": [
    "In each step, modifying both the rows of A and b is a little bit tiring, therefore we can \"merge\" the two to have an _augmented matrix_ for practical purposes:\n",
    "\n",
    "$$\\left[ \\begin{array}{ccc|c}\n",
    "10 & 2 & -1 & 27\\\\\n",
    "-3 & -5 & 2 & -61.5\\\\\n",
    "1 & 1 & 6 & -21.5\n",
    "\\end{array} \\right]$$\n",
    "\n",
    "and take it from there all at once:"
   ]
  },
  {
   "cell_type": "code",
   "execution_count": 2,
   "metadata": {},
   "outputs": [
    {
     "name": "stdout",
     "output_type": "stream",
     "text": [
      "Initial AA:\n",
      " [[ 10.    2.   -1.   27. ]\n",
      " [ -3.   -5.    2.  -61.5]\n",
      " [  1.    1.    6.  -21.5]] \n",
      "\n",
      "Eliminated AA:\n",
      " [[ 10.           2.          -1.          27.        ]\n",
      " [  0.          -4.4          1.7        -53.4       ]\n",
      " [  0.           0.           6.40909091 -33.90909091]] \n",
      "\n"
     ]
    }
   ],
   "source": [
    "import numpy as np\n",
    "AA = np.array([[10., 2., -1., 27.],[-3., -5., 2., -61.5],[1., 1., 6.,-21.5]])\n",
    "print(\"Initial AA:\\n\",AA,\"\\n\")\n",
    "\n",
    "AA[1,:] -= -3./10.*AA[0,:]\n",
    "AA[2,:] -=  1./10.*AA[0,:]\n",
    "AA[2,:] -=  -0.8/4.4*AA[1,:]\n",
    "print(\"Eliminated AA:\\n\",AA,\"\\n\")"
   ]
  },
  {
   "cell_type": "markdown",
   "metadata": {},
   "source": [
    "### Pivoting in Gaussian\n",
    "It's a good strategy from precision's point of view to reorder the rows such that the diagonal elements are the ones with the greater absolute value in their column.\n",
    "\n",
    "If we were to pivot our case example, but this time we'll assume that we had the rows interchanged to start with:\n",
    "$$\\left[ \\begin{array}{ccc|c}\n",
    "1 & 1 & 6 & -21.5\\\\\n",
    "-3 & -5 & 2 & -61.5\\\\\n",
    "10 & 2 & -1 & 27\n",
    "\\end{array} \\right]$$\n",
    "\n",
    "1. We start with the 1st column. Since 10 is the biggest number in that column, we bring it to the top and proceed with the elimination of $x_1$  \n",
    "$$\\left[ \\begin{array}{ccc|c}\n",
    "10 & 2 & -1 & 27\\\\\n",
    "1 & 1 & 6 & -21.5\\\\\n",
    "-3 & -5 & 2 & -61.5\n",
    "\\end{array} \\right]$$\n",
    "\n",
    "$$\\left[ \\begin{array}{ccc|c}\n",
    "10 & 2 & -1 & 27\\\\\n",
    "0 & 0.8 & 6.1 & -24.2\\\\\n",
    "0 & -4.4 & 1.7 & -53.4\n",
    "\\end{array} \\right]$$\n",
    "\n",
    "2. Checking the 2nd column we have |-4.4| for the biggest number, so we swap rows 3 and 2. (Even if the 1st row had the greates number, we would be ignoring it because we can only manipulate the current row and below)\n",
    "$$\\left[ \\begin{array}{ccc|c}\n",
    "10 & 2 & -1 & 27\\\\\n",
    "0 & -4.4 & 1.7 & -53.4\\\\\n",
    "0 & 0.8 & 6.1 & -24.2\n",
    "\\end{array} \\right]$$\n",
    "\n",
    "and do the elimination for $x_2$ in the 3rd equation:\n",
    "\n",
    "$$\\left[ \\begin{array}{ccc|c}\n",
    "10 & 2 & -1 & 27\\\\\n",
    "0 & -4.4 & 1.7 & -53.4\\\\\n",
    "0 & 0 & 6.41 & -33.9\n",
    "\\end{array} \\right]$$\n",
    "\n",
    "...and we have arrived at the same (and most optimal) ordering that we had taken for granted in the previous section.\n",
    "\n",
    "But what can differ by simply changing the order of the equations and then proceeding elimination? To illustrate the importance of pivoting, consider the following case:"
   ]
  },
  {
   "cell_type": "markdown",
   "metadata": {},
   "source": [
    "**Example** Use Gauss elimination with and without pivoting to solve the following linear system:\n",
    "\n",
    "$$\\begin{align}\n",
    "0.0003x_1 + 3.0000x_2 &= 2.0001\\\\\n",
    "1.0000x_1 + 1.0000x_2 &= 1.0000\n",
    "\\end{align}$$\n",
    "\n",
    "_**Without pivoting:**_\n",
    "To eliminate x_1 in the second equation, we need to multiply the 1st equation by 1.0000/0.0003 and then subtract it:\n",
    "\n",
    "$$1.0000/0.0003 \\times \\text{[1st equation]: } x_1 + 10000x_2 = 6667$$\n",
    "\n",
    "subtract this from the 2nd equation:\n",
    "\n",
    "$$-9999x_2 = -6666\\\\\n",
    "x_2 = \\frac{6666}{9999} = 2/3$$\n",
    "\n",
    "Substitute this value into the 1st equation:\n",
    "$$\\Rightarrow x_1 = \\frac{2.0001 - 3x_2}{0.0003} = \\frac{2.0001 - 3(2/3)}{0.0003}$$\n",
    "\n",
    "The obtained values for $x_1$ will be dependent on the number of significant figures taken for $x_2 = 2/3$:"
   ]
  },
  {
   "cell_type": "code",
   "execution_count": 3,
   "metadata": {},
   "outputs": [
    {
     "name": "stdout",
     "output_type": "stream",
     "text": [
      "#SF\tx2\t\t x1\t\tErr%\n",
      " 3\t0.667000000\t-3.000000000\t1000.00\n",
      " 4\t0.666700000\t 0.000000000\t 100.00\n",
      " 5\t0.666670000\t 0.300000000\t  10.00\n",
      " 6\t0.666667000\t 0.330000000\t   1.00\n",
      " 7\t0.666666700\t 0.333000000\t   0.10\n"
     ]
    }
   ],
   "source": [
    "x1_true = 1/3\n",
    "print(\"#SF\\tx2\\t\\t x1\\t\\tErr%\")\n",
    "for sigfig_no in range(3,8):\n",
    "    formatstr = \"%.\"+\"%d\"%sigfig_no+\"f\"\n",
    "    numstr = formatstr%(2/3)\n",
    "    x2 = float(numstr)\n",
    "    x1 = (2.0001 - 3*x2) / 0.0003\n",
    "    abs_per_rel_err_x1 = np.abs(x1_true-x1) / (x1_true) * 100\n",
    "    print(\"%2d\\t%.9f\\t%12.9f\\t%7.2f\"%(sigfig_no,x2,x1,abs_per_rel_err_x1))\n",
    "    "
   ]
  },
  {
   "cell_type": "markdown",
   "metadata": {},
   "source": [
    "_**With pivoting:**_\n",
    "This time, let's first proceed with pivoting. For the first column, second row has the greatest value (1 > 0.0003) so, let's rearrange:\n",
    "\n",
    "$$\\begin{align}\n",
    "1.0000x_1 + 1.0000x_2 &= 1.0000\\\\\n",
    "0.0003x_1 + 3.0000x_2 &= 2.0001\n",
    "\\end{align}$$\n",
    "\n",
    "Solving once again, we multiply the 1st equation with 0.0003 and subtract it from the 2nd:\n",
    "\n",
    "$$0.0003 \\times \\text{[1st equation]: } 0.0003x_1 + 0.0003x_2 = 0.0003$$\n",
    "\n",
    "subtract this from the 2nd equation:\n",
    "\n",
    "$$2.9997x_2 = 1.9998\\\\\n",
    "x_2 = \\frac{1.9998}{2.9997} = 2/3$$\n",
    "\n",
    "We still get the same value for $x_2$, howeveri this time, the equation we'll substitute this value is \"a little bit\" different than the previous one:\n",
    "\n",
    "Substitute this value into the 1st equation:\n",
    "$$\\Rightarrow x_1 = 1.0000 - x_2 = 1 - (2/3)$$\n",
    "\n",
    "The obtained values for $x_1$ will still be dependent on the number of significant figures taken for $x_2 = 2/3$, but let's see what happens this time:"
   ]
  },
  {
   "cell_type": "code",
   "execution_count": 4,
   "metadata": {},
   "outputs": [
    {
     "name": "stdout",
     "output_type": "stream",
     "text": [
      "#SF\tx2\t\t x1\t\t   Err%\n",
      " 3\t0.667000000\t 0.333000000\t   0.10\n",
      " 4\t0.666700000\t 0.333300000\t   0.01\n",
      " 5\t0.666670000\t 0.333330000\t   0.00\n",
      " 6\t0.666667000\t 0.333333000\t   0.00\n",
      " 7\t0.666666700\t 0.333333300\t   0.00\n"
     ]
    }
   ],
   "source": [
    "x1_true = 1/3\n",
    "print(\"#SF\\tx2\\t\\t x1\\t\\t   Err%\")\n",
    "for sigfig_no in range(3,8):\n",
    "    formatstr = \"%.\"+\"%d\"%sigfig_no+\"f\"\n",
    "    numstr = formatstr%(2/3)\n",
    "    x2 = float(numstr)\n",
    "    x1 = (1 - x2) \n",
    "    abs_per_rel_err_x1 = np.abs(x1_true-x1) / (x1_true) * 100\n",
    "    print(\"%2d\\t%.9f\\t%12.9f\\t%7.2f\"%(sigfig_no,x2,x1,abs_per_rel_err_x1))\n",
    "  "
   ]
  },
  {
   "cell_type": "markdown",
   "metadata": {},
   "source": [
    "Thus, the precision has been greatly increased!"
   ]
  },
  {
   "cell_type": "markdown",
   "metadata": {},
   "source": [
    "### LU Decomposition\n",
    "Suppose that in the $A\\cdot x=b$ linear system, $A$ remains fixed but b keeps changing. This can be a situation where the medium changes but the equipment remains the same, e.g., measuring the magnetic field in different parts of a room. In order to not to do all the forward elimination & backwards substition all over again when _b_ changes, we apply the LU decomposition, developed by none other than Alan Turing himself! In other words, decompose our A matrix into the multiplication of two other matrices L and U, such that L is a lower trigonal matrix and U is an upper trigonal matrix:\n",
    "\n",
    "$$ A = L \\cdot U\\\\\n",
    "L = \\begin{bmatrix}\n",
    "1 & 0 & 0\\\\\n",
    "l_{21} & 1 & 0\\\\\n",
    "l_{31} & l_{32} & 1\n",
    "\\end{bmatrix},\\quad\n",
    "U = \\begin{bmatrix}\n",
    "u_{11} & u_{12} & u_{13}\\\\\n",
    "0 & u_{22} & u_{23}\\\\\n",
    "0 & 0 & u_{33}\n",
    "\\end{bmatrix}\n",
    "$$\n",
    "\n",
    "When we were applying the Gauss elimination method, we were already working on this decomposition. Remember the coefficients we multiplied the rows to subtract from the other rows to eliminate? Those were our elements of the L matrix, and the transformed part was the U matrix!\n",
    "\n",
    "In our case study, we had:\n",
    "\\begin{align}10x_1 + 2x_2 - x_3 &= 27\\\\\n",
    "-3x_1 - 5x_2 + 2x_3 &= -61.5\\\\\n",
    "x_1 + x_2 + 6x_3 &= -21.5\n",
    "\\end{align}\n",
    "\n",
    "$$\\begin{bmatrix}\n",
    "10 & 2 & -1\\\\\n",
    "-3 & -5 & 2\\\\\n",
    "1 & 1 & 6\n",
    "\\end{bmatrix}\\begin{bmatrix}x_1\\\\x_2\\\\x_3\\end{bmatrix}=\\begin{bmatrix}27\\\\-61.5\\\\-21.5\\end{bmatrix}$$\n",
    "\n",
    "The steps we took in elimination were as follows:\n",
    "1. Multiplied the 1st eqn by -3/10 and subtracted it from the 2nd eqn.\n",
    "2. Multiplied the 1st eqn by  1/10 and subtracted it from the 3rd eqn.\n",
    "3. Multiplied the 2nd eqn by -0.8/4.4 and subtracted it from the 3rd eqn.\n",
    "\n",
    "These coefficients yield the L matrix:\n",
    "$$l_{21} = -3/10 = -0.3\\\\\n",
    "l_{31} = 1/10 = 0.1\\quad l_{32} = -0.8 / 4.4 = -0.18\\\\\\\\\n",
    "L = \\begin{bmatrix}\n",
    "1 & 0 & 0\\\\\n",
    "-3/10 & 1 & 0\\\\\n",
    "1/10 & -0.8/4.4 & 1\n",
    "\\end{bmatrix}\n",
    "$$\n",
    "\n",
    "After the eliminations we had _A_ transformed into:\n",
    "$$\\begin{bmatrix}\n",
    "10 & 2 & -1\\\\\n",
    "0 & -4.4 & 1.7\\\\\n",
    "0 & 0 & 6.41\n",
    "\\end{bmatrix}$$\n",
    "\n",
    "which is actually our U matrix. Let's test if their multiplication indeed yields _A_:"
   ]
  },
  {
   "cell_type": "code",
   "execution_count": 5,
   "metadata": {},
   "outputs": [
    {
     "name": "stdout",
     "output_type": "stream",
     "text": [
      "LU:\n",
      " [[10.          2.         -1.        ]\n",
      " [-3.         -5.          2.        ]\n",
      " [ 1.          1.          6.00090909]] \n",
      "\n"
     ]
    }
   ],
   "source": [
    "import numpy as np\n",
    "L = np.array([[1., 0., 0.],[-3./10., 1., 0.],[1./10.,-0.8/4.4,1.]])\n",
    "U = np.array([[10., 2., -1.],[0.,-4.4, 1.7],[0.,0.,6.41]])\n",
    "\n",
    "LU = np.dot(L,U)\n",
    "print(\"LU:\\n\",LU,\"\\n\")"
   ]
  },
  {
   "cell_type": "markdown",
   "metadata": {},
   "source": [
    "Thus we have verified that $A = L\\cdot U$\n",
    "\n",
    "To proceed we first solve $L\\cdot z = b$ where $z$ is a column vector of unknowns $z$. Continuing with our case study:\n",
    "$$\n",
    "L = \\begin{bmatrix}\n",
    "1 & 0 & 0\\\\\n",
    "l_{21} & 1 & 0\\\\\n",
    "l_{31} & l_{32} & 1\n",
    "\\end{bmatrix}\\begin{bmatrix}z_1\\\\z_2\\\\z_3\\end{bmatrix}=\\begin{bmatrix}27\\\\-61.5\\\\-21.5\\end{bmatrix}$$\n",
    "\n",
    "$z_1$ is directly available, and forward substituting, we also find $z_2$ and $z_3$:\n",
    "\n",
    "$$\\begin{bmatrix}z_1\\\\z_2\\\\z_3\\end{bmatrix} = \\begin{bmatrix}27\\\\-53.4\\\\-33.91\\end{bmatrix}$$\n",
    "\n",
    "Now we solve the $U\\cdot x = z$ system:\n",
    "$$\\begin{bmatrix}\n",
    "10 & 2 & -1\\\\\n",
    "0 & -4.4 & 1.7\\\\\n",
    "0 & 0 & 6.41\n",
    "\\end{bmatrix}\\begin{bmatrix}x_1\\\\x_2\\\\x_3\\end{bmatrix}=\\begin{bmatrix}z_1\\\\z_2\\\\z_3\\end{bmatrix}$$\n",
    "\n",
    "This time, $x_3$ is readily available, and backward substituting, we derive $x_2$ and $x_1$:\n",
    "\n",
    "$$\\begin{bmatrix}x_1\\\\x_2\\\\x_3\\end{bmatrix}=\\begin{bmatrix}0.15\\\\10.09\\\\-5.29\\end{bmatrix}$$\n",
    "\n",
    "Now that we have decomposed our system, even if the results ($b$) change, all we have to do is direct backward/forward substitution!"
   ]
  },
  {
   "cell_type": "markdown",
   "metadata": {},
   "source": [
    "### Inverse of a matrix\n",
    "Inverse of a matrix $A$ can be calculated via various ways.\n",
    "\n",
    "**The systematical way**\n",
    "1. Calculate the _matrix of minors_, $M$ whose element $m_{i,j}$ is the determinant of the minor matrice constructed from $A$ with the ith row and jth column removed.\n",
    "2. Construct _matrix of cofactors_ $C$ from $M$ such that: $c_{i,j}=(-1)^{i+j}\\cdot m_{i,j}$\n",
    "3. Calculate the _adjoint_ of $C$: $C^{*T}$\n",
    "4. Calculate $\\frac{1}{\\det (A)}$ (having already calculated $C$, it will be very straightforward to calculate $\\det (A)$)\n",
    "5. $A^{-1} = \\frac{C^{*T}}{\\det(A)}$\n",
    "\n",
    "**Example:** Calculate the inverse of $A=\\begin{bmatrix}\n",
    "10 & 2 & -1\\\\\n",
    "-3 & -5 & 2\\\\\n",
    "1 & 1 & 6\n",
    "\\end{bmatrix}$"
   ]
  },
  {
   "cell_type": "code",
   "execution_count": 6,
   "metadata": {},
   "outputs": [
    {
     "name": "stdout",
     "output_type": "stream",
     "text": [
      "A:\n",
      " [[10.  2. -1.]\n",
      " [-3. -5.  2.]\n",
      " [ 1.  1.  6.]] \n",
      "\n",
      "C:\n",
      " [[-32.  20.   2.]\n",
      " [-13.  61.  -8.]\n",
      " [ -1. -17. -44.]] \n",
      "\n",
      "C^*T:\n",
      " [[-32. -13.  -1.]\n",
      " [ 20.  61. -17.]\n",
      " [  2.  -8. -44.]] \n",
      "\n",
      "detA:  -282.00000000000006 \n",
      "\n",
      "invA:\n",
      " [[ 0.11347518  0.04609929  0.0035461 ]\n",
      " [-0.07092199 -0.21631206  0.06028369]\n",
      " [-0.0070922   0.02836879  0.15602837]] \n",
      "\n"
     ]
    }
   ],
   "source": [
    "import numpy as np\n",
    "\n",
    "def minor(arr,i,j):\n",
    "    # ith row, jth column removed\n",
    "    return arr[np.array(list(range(i))+list(range(i+1,arr.shape[0])))[:,np.newaxis],\n",
    "               np.array(list(range(j))+list(range(j+1,arr.shape[1])))]\n",
    "    # Source: https://stackoverflow.com/a/3858333\n",
    "\n",
    "A = np.mat([[10., 2., -1.],[-3., -5., 2.],[1., 1., 6.]])\n",
    "print(\"A:\\n\",A,\"\\n\")\n",
    "\n",
    "C = A*2\n",
    "for i in range(0,3):\n",
    "    for j in range(0,3):\n",
    "        C[i,j] = (-1)**(i+j)*np.linalg.det(minor(A,i,j))\n",
    "print(\"C:\\n\",C,\"\\n\")\n",
    "CT = C.H\n",
    "print(\"C^*T:\\n\",CT,\"\\n\")\n",
    "\n",
    "detA = np.linalg.det(A)\n",
    "print(\"detA: \",detA,\"\\n\")\n",
    "# or det is also:\n",
    "#print(np.dot(A[0,:],np.squeeze(np.asarray(C[0,:]))))\n",
    "\n",
    "invA = CT / detA\n",
    "print(\"invA:\\n\",invA,\"\\n\")"
   ]
  },
  {
   "cell_type": "markdown",
   "metadata": {},
   "source": [
    "As we now have $A^{-1}$, we can directly multiply from left of both sides of the $A\\cdot x = b$ equation to get:\n",
    "\\begin{align}A^{-1} (A\\cdot x) = (A^{-1}A)x &=A^{-1}b\\\\\n",
    "x &= A^{-1}b\\end{align}\n"
   ]
  },
  {
   "cell_type": "code",
   "execution_count": 7,
   "metadata": {},
   "outputs": [
    {
     "name": "stdout",
     "output_type": "stream",
     "text": [
      "invA:\n",
      " [[ 0.11347518  0.04609929  0.0035461 ]\n",
      " [-0.07092199 -0.21631206  0.06028369]\n",
      " [-0.0070922   0.02836879  0.15602837]] \n",
      "\n",
      "b\n",
      " [[ 27. ]\n",
      " [-61.5]\n",
      " [-21.5]] \n",
      "\n",
      "[[ 0.15248227]\n",
      " [10.09219858]\n",
      " [-5.29078014]]\n"
     ]
    }
   ],
   "source": [
    "# Continuing from the previous code where invA was calculated\n",
    "print(\"invA:\\n\",invA,\"\\n\")\n",
    "\n",
    "b = np.array([[27.],[-61.5],[-21.5]])\n",
    "print(\"b\\n\",b,\"\\n\")\n",
    "\n",
    "x = invA * b\n",
    "print(x)"
   ]
  },
  {
   "cell_type": "markdown",
   "metadata": {},
   "source": [
    "### Cramer's Rule\n",
    "In this method, we substitute the value column vector _b_ into the relevant column of the coefficients matrix _A_ to form the $D_i$ matrix. The unknown value is found by calculating: $$\\frac{\\det (D_i)}{\\det (A)}$$\n",
    "\n",
    "$$\\begin{bmatrix}\n",
    "a_{11} & a_{12} & a_{13}\\\\\n",
    "a_{21} & a_{22} & a_{23}\\\\\n",
    "a_{31} & a_{32} & a_{33}\n",
    "\\end{bmatrix}\\begin{bmatrix}x_1\\\\x_2\\\\x_3\\end{bmatrix}=\\begin{bmatrix}y_1\\\\y_2\\\\y_3\\end{bmatrix}$$\n",
    "\n",
    "$$x_1 = \\frac{\\det\\begin{bmatrix}\n",
    "y_1 & a_{12} & a_{13}\\\\\n",
    "y_2 & a_{22} & a_{23}\\\\\n",
    "y_3 & a_{32} & a_{33}\n",
    "\\end{bmatrix} }{\\det \\begin{bmatrix}\n",
    "a_{11} & a_{12} & a_{13}\\\\\n",
    "a_{21} & a_{22} & a_{23}\\\\\n",
    "a_{31} & a_{32} & a_{33}\n",
    "\\end{bmatrix}}\n",
    ",\\quad\n",
    "x_2 = \\frac{\\det\\begin{bmatrix}\n",
    "a_{11} & y_1 & a_{13}\\\\\n",
    "a_{21} & y_2 & a_{23}\\\\\n",
    "a_{31} & y_3 & a_{33}\n",
    "\\end{bmatrix} }{\\det \\begin{bmatrix}\n",
    "a_{11} & a_{12} & a_{13}\\\\\n",
    "a_{21} & a_{22} & a_{23}\\\\\n",
    "a_{31} & a_{32} & a_{33}\n",
    "\\end{bmatrix}},\\quad ...\n",
    "$$\n",
    "\n",
    "This method is used when one needs to find not all the unknowns, but some of them.\n",
    "\n",
    "**Example**\n",
    "\\begin{align}\n",
    "10x_1 + 2x_2 - x_3 &= 27\\\\\n",
    "-3x_1 - 5x_2 + 2x_3 &= -61.5\\\\\n",
    "x_1 + x_2 + 6x_3 &= -21.5\n",
    "\\end{align}\n",
    "\n",
    "$$A=\\begin{bmatrix}\n",
    "10 & 2 & -1\\\\\n",
    "-3 & -5 & 2\\\\\n",
    "1 & 1 & 6\n",
    "\\end{bmatrix} \\quad x=\\begin{bmatrix}x_1\\\\x_2\\\\x_3\\end{bmatrix} \\quad b=\\begin{bmatrix}27\\\\-61.5\\\\-21.5\\end{bmatrix}$$\n"
   ]
  },
  {
   "cell_type": "code",
   "execution_count": 8,
   "metadata": {},
   "outputs": [
    {
     "name": "stdout",
     "output_type": "stream",
     "text": [
      "A:\n",
      " [[10.  2. -1.]\n",
      " [-3. -5.  2.]\n",
      " [ 1.  1.  6.]] \n",
      "\n",
      "b:\n",
      " [[ 27. ]\n",
      " [-61.5]\n",
      " [-21.5]] \n",
      "\n",
      "D1:\n",
      " [[ 27.    2.   -1. ]\n",
      " [-61.5  -5.    2. ]\n",
      " [-21.5   1.    6. ]] \n",
      "\n",
      "D2:\n",
      " [[ 10.   27.   -1. ]\n",
      " [ -3.  -61.5   2. ]\n",
      " [  1.  -21.5   6. ]] \n",
      "\n",
      "D3:\n",
      " [[ 10.    2.   27. ]\n",
      " [ -3.   -5.  -61.5]\n",
      " [  1.    1.  -21.5]] \n",
      "\n",
      "x1: 0.15248\tx2: 10.09220\tx3: -5.29078\n",
      "\n"
     ]
    }
   ],
   "source": [
    "import numpy as np\n",
    "\n",
    "A = np.array([[10., 2., -1.],[-3., -5., 2.],[1., 1., 6.]])\n",
    "print(\"A:\\n\",A,\"\\n\")\n",
    "\n",
    "b = np.array([[27.],[-61.5],[-21.5]])\n",
    "print(\"b:\\n\",b,\"\\n\")\n",
    "\n",
    "D1 = np.copy(A)\n",
    "D2 = np.copy(A)\n",
    "D3 = np.copy(A)\n",
    "\n",
    "D1[:,0] = np.transpose(b)\n",
    "print(\"D1:\\n\",D1,\"\\n\")\n",
    "det_D1 = np.linalg.det(D1)\n",
    "\n",
    "D2[:,1] = np.transpose(b)\n",
    "print(\"D2:\\n\",D2,\"\\n\")\n",
    "det_D2 = np.linalg.det(D2)\n",
    "\n",
    "D3[:,2] = np.transpose(b)\n",
    "print(\"D3:\\n\",D3,\"\\n\")\n",
    "det_D3 = np.linalg.det(D3)\n",
    "\n",
    "det_A = np.linalg.det(A)\n",
    "\n",
    "x1 = det_D1 / det_A\n",
    "x2 = det_D2 / det_A\n",
    "x3 = det_D3 / det_A\n",
    "print (\"x1: %.5f\\tx2: %.5f\\tx3: %.5f\\n\"%(x1,x2,x3))"
   ]
  },
  {
   "cell_type": "markdown",
   "metadata": {},
   "source": [
    "### solve() function\n",
    "`solve(A,b)` function from numpy.linalg package directly solves the $A\\cdot b = x$ system of linear equations:"
   ]
  },
  {
   "cell_type": "code",
   "execution_count": 9,
   "metadata": {},
   "outputs": [
    {
     "name": "stdout",
     "output_type": "stream",
     "text": [
      "A:\n",
      " [[10.  2. -1.]\n",
      " [-3. -5.  2.]\n",
      " [ 1.  1.  6.]] \n",
      "\n",
      "b:\n",
      " [[ 27. ]\n",
      " [-61.5]\n",
      " [-21.5]] \n",
      "\n",
      "x:\n",
      " [[ 0.15248227]\n",
      " [10.09219858]\n",
      " [-5.29078014]] \n",
      "\n"
     ]
    }
   ],
   "source": [
    "import numpy as np\n",
    "\n",
    "A = np.array([[10., 2., -1.],[-3., -5., 2.],[1., 1., 6.]])\n",
    "print(\"A:\\n\",A,\"\\n\")\n",
    "\n",
    "b = np.array([[27.],[-61.5],[-21.5]])\n",
    "print(\"b:\\n\",b,\"\\n\")\n",
    "\n",
    "x = np.linalg.solve(A,b)\n",
    "print(\"x:\\n\",x,\"\\n\")"
   ]
  },
  {
   "cell_type": "markdown",
   "metadata": {},
   "source": [
    "### lu() function\n",
    "`LU = lu(A)` from scipy.linalg gives the LU decomposition of A"
   ]
  },
  {
   "cell_type": "code",
   "execution_count": 10,
   "metadata": {},
   "outputs": [
    {
     "name": "stdout",
     "output_type": "stream",
     "text": [
      "A:\n",
      " [[10.  2. -1.]\n",
      " [-3. -5.  2.]\n",
      " [ 1.  1.  6.]] \n",
      "\n",
      "b:\n",
      " [[ 27. ]\n",
      " [-61.5]\n",
      " [-21.5]] \n",
      "\n",
      "L\n",
      " [[ 1.          0.          0.        ]\n",
      " [-0.3         1.          0.        ]\n",
      " [ 0.1        -0.18181818  1.        ]] \n",
      "\n",
      "U\n",
      " [[10.          2.         -1.        ]\n",
      " [ 0.         -4.4         1.7       ]\n",
      " [ 0.          0.          6.40909091]] \n",
      "\n",
      "z\n",
      " [[ 27.        ]\n",
      " [-53.4       ]\n",
      " [-33.90909091]] \n",
      "\n",
      "x\n",
      " [[ 0.15248227]\n",
      " [10.09219858]\n",
      " [-5.29078014]] \n",
      "\n"
     ]
    }
   ],
   "source": [
    "import numpy as np\n",
    "import scipy.linalg as la\n",
    "A = np.mat([[10., 2., -1.],[-3., -5., 2.],[1., 1., 6.]])\n",
    "print(\"A:\\n\",A,\"\\n\")\n",
    "\n",
    "b = np.mat([[27.],[-61.5],[-21.5]])\n",
    "print(\"b:\\n\",b,\"\\n\")\n",
    "\n",
    "(P,L,U)= la.lu(A)\n",
    "print(\"L\\n\",L,\"\\n\")\n",
    "print(\"U\\n\",U,\"\\n\")\n",
    "\n",
    "z = np.linalg.solve(L,b)\n",
    "print(\"z\\n\",z,\"\\n\")\n",
    "x = np.linalg.solve(U,z)\n",
    "print(\"x\\n\",x,\"\\n\")"
   ]
  },
  {
   "cell_type": "markdown",
   "metadata": {},
   "source": [
    "# Eigenvalues and Eigenvectors as Decomposition"
   ]
  },
  {
   "cell_type": "markdown",
   "metadata": {},
   "source": [
    "We have already seen that for an $A$ (square) matrix, we could find such a special vector $\\vec{u}$ that when multiplied it returned the vector itself, scaled by a scalar $\\lambda$:\n",
    "\n",
    "$$A\\cdot\\vec{u} = \\lambda \\vec{u}$$\n",
    "\n",
    "For such a case, the scalar $\\lambda$ was called as the _eigenvalue_ and the vector $\\vec{u}$ was called as the _eigenvector_. Eigenvalues and eigenvectors play a very special part in all branches of physics, most notably in Quantum Mechanics.\n",
    "\n",
    "Now, we will treat them as a way to decompose our matrix, into a multiplication of 3 matrices, one being a diagonal matrix holding the eigenvalues and the other two being the inverse of each other. So:\n",
    "\n",
    "$$ U^{-1}\\cdot A \\cdot U = D$$\n",
    "\n",
    "and hence, equivalently:\n",
    "\n",
    "$$ U\\cdot D \\cdot U^{-1} = A$$\n",
    "\n",
    "where $U = \\begin{bmatrix}\\rule[-1ex]{0.5pt}{2.5ex} & \\rule[-1ex]{0.5pt}{2.5ex} & &\\rule[-1ex]{0.5pt}{2.5ex}\\\\ \\vec{u}_1 & \\vec{u}_2&\\cdots&\\vec{u}_n\\\\\\rule[-1ex]{0.5pt}{2.5ex} & \\rule[-1ex]{0.5pt}{2.5ex}  & &\\rule[-1ex]{0.5pt}{2.5ex} \\end{bmatrix}$ and $D=\\begin{bmatrix}\\lambda_1 & & \\\\ & \\ddots & \\\\ &  & \\lambda_n\\end{bmatrix}$ such that:\n",
    "\n",
    "$$A\\cdot \\vec{u}_i = \\lambda_i\\, \\vec{u}_i$$"
   ]
  },
  {
   "cell_type": "markdown",
   "metadata": {},
   "source": [
    "**Example**  \n",
    "Consider:\n",
    "$$A=\\begin{bmatrix}2&3\\\\4&5\\end{bmatrix}$$"
   ]
  },
  {
   "cell_type": "code",
   "execution_count": 11,
   "metadata": {},
   "outputs": [
    {
     "name": "stdout",
     "output_type": "stream",
     "text": [
      "Eigenvalues:  [-0.27491722  7.27491722] \n",
      "-----\n",
      "Eigenvectors Matrix:\n",
      " [[-0.79681209 -0.49436913]\n",
      " [ 0.60422718 -0.86925207]]\n"
     ]
    }
   ],
   "source": [
    "A = np.array([[2,3],[4,5]])\n",
    "[lambdas, U] = np.linalg.eig(A)\n",
    "print(\"Eigenvalues: \",lambdas,\"\\n-----\\nEigenvectors Matrix:\\n\",U)"
   ]
  },
  {
   "cell_type": "code",
   "execution_count": 12,
   "metadata": {},
   "outputs": [
    {
     "data": {
      "text/plain": [
       "array([[-0.27491722,  0.        ],\n",
       "       [ 0.        ,  7.27491722]])"
      ]
     },
     "execution_count": 12,
     "metadata": {},
     "output_type": "execute_result"
    }
   ],
   "source": [
    "D = np.diag(lambdas)\n",
    "D"
   ]
  },
  {
   "cell_type": "code",
   "execution_count": 13,
   "metadata": {},
   "outputs": [
    {
     "data": {
      "text/plain": [
       "array([[2., 3.],\n",
       "       [4., 5.]])"
      ]
     },
     "execution_count": 13,
     "metadata": {},
     "output_type": "execute_result"
    }
   ],
   "source": [
    "# U.D.(inv(U)) ==> A\n",
    "np.linalg.multi_dot((U,D,np.linalg.inv(U)))"
   ]
  },
  {
   "cell_type": "code",
   "execution_count": 14,
   "metadata": {},
   "outputs": [
    {
     "data": {
      "text/plain": [
       "array([[-2.74917218e-01, -4.44089210e-16],\n",
       "       [-5.55111512e-17,  7.27491722e+00]])"
      ]
     },
     "execution_count": 14,
     "metadata": {},
     "output_type": "execute_result"
    }
   ],
   "source": [
    "#(inv(U)).A.U ==> D\n",
    "np.linalg.multi_dot((np.linalg.inv(U),A,U))"
   ]
  },
  {
   "cell_type": "markdown",
   "metadata": {},
   "source": [
    "## Numerical calculation of eigenvectors (not naïve, nor optimized)\n",
    "Consider a zombie breakout (with cure): at every hour, 20% of the humans turn to zombies while %10 of the zombies recover and once again become human. So if the current number of humans is $h_0$ and number of zombies is $z_0$, after 1 hour, this numbers will be:\n",
    "\n",
    "$$\\begin{align*}\n",
    "h_1 &= h_0\\times 80\\% + z_0\\times 10\\%\\\\\n",
    "z_1 &= z_0\\times 90\\% + h_0\\times 20\\%\n",
    "\\end{align*}$$\n",
    "\n",
    "or, rearranging the above equations into a matrix multiplication:\n",
    "\n",
    "$$\\begin{pmatrix}h_1 \\\\ z_1 \\end{pmatrix} = \\begin{bmatrix}0.80 & 0.10 \\\\ 0.20 & 0.90\\end{bmatrix}\\begin{pmatrix}h_0 \\\\ z_0 \\end{pmatrix}$$\n",
    "\n",
    "Let's start with a total number of 120 humans and 60 zombies:"
   ]
  },
  {
   "cell_type": "code",
   "execution_count": 15,
   "metadata": {
    "scrolled": false
   },
   "outputs": [
    {
     "name": "stdout",
     "output_type": "stream",
     "text": [
      "Hour:  0 | Humans # 120.0000 | Zombies #  60.0000\n",
      "Hour:  1 | Humans # 102.0000 | Zombies #  78.0000\n",
      "Hour:  2 | Humans #  89.4000 | Zombies #  90.6000\n",
      "Hour:  3 | Humans #  80.5800 | Zombies #  99.4200\n",
      "Hour:  4 | Humans #  74.4060 | Zombies # 105.5940\n",
      "Hour:  5 | Humans #  70.0842 | Zombies # 109.9158\n",
      "Hour:  6 | Humans #  67.0589 | Zombies # 112.9411\n",
      "Hour:  7 | Humans #  64.9413 | Zombies # 115.0587\n",
      "Hour:  8 | Humans #  63.4589 | Zombies # 116.5411\n",
      "Hour:  9 | Humans #  62.4212 | Zombies # 117.5788\n",
      "Hour: 10 | Humans #  61.6949 | Zombies # 118.3051\n",
      "Hour: 11 | Humans #  61.1864 | Zombies # 118.8136\n",
      "Hour: 12 | Humans #  60.8305 | Zombies # 119.1695\n",
      "Hour: 13 | Humans #  60.5813 | Zombies # 119.4187\n",
      "Hour: 14 | Humans #  60.4069 | Zombies # 119.5931\n",
      "Hour: 15 | Humans #  60.2849 | Zombies # 119.7151\n",
      "Hour: 16 | Humans #  60.1994 | Zombies # 119.8006\n",
      "Hour: 17 | Humans #  60.1396 | Zombies # 119.8604\n",
      "Hour: 18 | Humans #  60.0977 | Zombies # 119.9023\n",
      "Hour: 19 | Humans #  60.0684 | Zombies # 119.9316\n",
      "Hour: 20 | Humans #  60.0479 | Zombies # 119.9521\n",
      "Hour: 21 | Humans #  60.0335 | Zombies # 119.9665\n",
      "Hour: 22 | Humans #  60.0235 | Zombies # 119.9765\n",
      "Hour: 23 | Humans #  60.0164 | Zombies # 119.9836\n",
      "Hour: 24 | Humans #  60.0115 | Zombies # 119.9885\n",
      "Hour: 25 | Humans #  60.0080 | Zombies # 119.9920\n",
      "Hour: 26 | Humans #  60.0056 | Zombies # 119.9944\n",
      "Hour: 27 | Humans #  60.0039 | Zombies # 119.9961\n",
      "Hour: 28 | Humans #  60.0028 | Zombies # 119.9972\n",
      "Hour: 29 | Humans #  60.0019 | Zombies # 119.9981\n",
      "Hour: 30 | Humans #  60.0014 | Zombies # 119.9986\n",
      "Hour: 31 | Humans #  60.0009 | Zombies # 119.9991\n",
      "Hour: 32 | Humans #  60.0007 | Zombies # 119.9993\n",
      "Hour: 33 | Humans #  60.0005 | Zombies # 119.9995\n",
      "Hour: 34 | Humans #  60.0003 | Zombies # 119.9997\n",
      "Hour: 35 | Humans #  60.0002 | Zombies # 119.9998\n",
      "Hour: 36 | Humans #  60.0002 | Zombies # 119.9998\n",
      "Hour: 37 | Humans #  60.0001 | Zombies # 119.9999\n",
      "Found it!\n",
      " [[ 60.00011137]\n",
      " [119.99988863]]\n"
     ]
    }
   ],
   "source": [
    "h0 = 120\n",
    "z0 = 60\n",
    "hz0 = np.array([[h0],[z0]])\n",
    "\n",
    "print(\"Hour: {:2d} | Humans # {:8.4f} | Zombies # {:8.4f}\"\n",
    "      .format(0,h0,z0))\n",
    "\n",
    "trmat = np.array([[0.8, 0.1],[0.2, 0.9]])\n",
    "\n",
    "\n",
    "for hour in range(1,200):\n",
    "    hz1 = np.dot(trmat,hz0)\n",
    "    print(\"Hour: {:2d} | Humans # {:8.4f} | Zombies # {:8.4f}\"\n",
    "      .format(hour,hz1[0,0],hz1[1,0]))\n",
    "    # check if hz1 & hz0 are parallel\n",
    "    cross_p = np.cross(hz0[:,0],hz1[:,0])\n",
    "    if(np.linalg.norm(cross_p) < 1E-2):\n",
    "        # They are parallel\n",
    "        print(\"Found it!\\n\",hz1)\n",
    "        break\n",
    "    else:\n",
    "        # continue the \"evolution\"\n",
    "        hz0 = hz1.copy()\n",
    "    "
   ]
  },
  {
   "cell_type": "markdown",
   "metadata": {},
   "source": [
    "So, it means that around the 37th hour, human and the zombie population will reach to an equilibrium. \n",
    "\n",
    "What we did here was to interpret the transformation matrix as a rotation matrix and we kept on rotating an initial vector accordingly, until it did not rotate, meaning that it converged to an eigenvector.\n",
    "\n",
    "As opposed to the conventional analytic solution, here we first find the eigenvector, and then we can proceed to calculate the corresponding eigenvalue:"
   ]
  },
  {
   "cell_type": "code",
   "execution_count": 16,
   "metadata": {},
   "outputs": [
    {
     "data": {
      "text/plain": [
       "array([[ 60.00011137],\n",
       "       [119.99988863]])"
      ]
     },
     "execution_count": 16,
     "metadata": {},
     "output_type": "execute_result"
    }
   ],
   "source": [
    "hz1"
   ]
  },
  {
   "cell_type": "code",
   "execution_count": 17,
   "metadata": {},
   "outputs": [],
   "source": [
    "Au = np.dot(trmat,hz1)"
   ]
  },
  {
   "cell_type": "markdown",
   "metadata": {},
   "source": [
    "meaning that the eigenvalue is equal to 1 (as A.u = (1).u)"
   ]
  },
  {
   "cell_type": "code",
   "execution_count": 18,
   "metadata": {},
   "outputs": [
    {
     "name": "stdout",
     "output_type": "stream",
     "text": [
      "[0.7 1. ] \n",
      " [[-0.70710678 -0.4472136 ]\n",
      " [ 0.70710678 -0.89442719]]\n"
     ]
    }
   ],
   "source": [
    "# Verification using built-in function:\n",
    "[l,u] = np.linalg.eig(trmat)\n",
    "print(l,\"\\n\",u)"
   ]
  },
  {
   "cell_type": "code",
   "execution_count": 19,
   "metadata": {},
   "outputs": [
    {
     "data": {
      "text/plain": [
       "(1, 2)"
      ]
     },
     "execution_count": 19,
     "metadata": {},
     "output_type": "execute_result"
    }
   ],
   "source": [
    "hz1.T.shape"
   ]
  },
  {
   "cell_type": "markdown",
   "metadata": {},
   "source": [
    "# Singular Value Decomposition (SVD)\n",
    "One of the most powerful decompositions is the SVD decomposition, where an $A$ matrix (not necessarily square) is decomposed into singular vector matrices $U$, $V$ along with a diagonal $\\lambda \\equiv\\sigma^2$ matrix:\n",
    "\n",
    "$$A = U\\cdot S\\cdot V^T$$\n",
    "\n",
    "There are many magical things involved. 8) $U$ and $V$ share the same eigenvalues $\\sigma^2$, and they are orthogonal within each other. Furthermore, defining the symmetrical matrices $AA^T$ and $A^TA$, $\\{u_i\\} \\in U$ are the eigenvectors of $AA^T$, while $\\{v_i\\} \\in V$ are the eigenvectors of $A^TA$. Also:\n",
    "\n",
    "$$A\\cdot v_i = \\sigma_i u_i$$\n",
    "\n",
    "and\n",
    "\n",
    "$$A=\\sigma_1 u_1 v_1^T + \\dots+ \\sigma_r u_r v_r^T$$\n",
    "\n",
    "where each $\\sigma$ reports the \"importance\" of every term, so a controlled approximation is possible."
   ]
  },
  {
   "cell_type": "code",
   "execution_count": 20,
   "metadata": {},
   "outputs": [
    {
     "data": {
      "text/plain": [
       "array([[ 3,  2,  2],\n",
       "       [ 2,  3, -2]])"
      ]
     },
     "execution_count": 20,
     "metadata": {},
     "output_type": "execute_result"
    }
   ],
   "source": [
    "AS=np.array([[3,2,2],[2,3,-2]])\n",
    "AS"
   ]
  },
  {
   "cell_type": "code",
   "execution_count": 21,
   "metadata": {},
   "outputs": [
    {
     "name": "stdout",
     "output_type": "stream",
     "text": [
      "[[ 0.70710678 -0.70710678]\n",
      " [ 0.70710678  0.70710678]] \n",
      " [5. 3.] \n",
      " [[ 7.07106781e-01  7.07106781e-01  3.67439059e-16]\n",
      " [-2.35702260e-01  2.35702260e-01 -9.42809042e-01]\n",
      " [-6.66666667e-01  6.66666667e-01  3.33333333e-01]]\n"
     ]
    }
   ],
   "source": [
    "[u,s,v]=np.linalg.svd(AS)\n",
    "print(u,\"\\n\",s,\"\\n\",v)"
   ]
  },
  {
   "cell_type": "code",
   "execution_count": 22,
   "metadata": {},
   "outputs": [],
   "source": [
    "# 0.707106781 : 1/\\sqrt(2)\n",
    "# 0.235702260 : 1/\\sqrt(18)\n",
    "# 0.942809042 : 4/\\sqrt(18)"
   ]
  },
  {
   "cell_type": "code",
   "execution_count": 23,
   "metadata": {},
   "outputs": [
    {
     "data": {
      "text/plain": [
       "array([[17,  8],\n",
       "       [ 8, 17]])"
      ]
     },
     "execution_count": 23,
     "metadata": {},
     "output_type": "execute_result"
    }
   ],
   "source": [
    "AAT =np.dot(AS,AS.T)\n",
    "AAT"
   ]
  },
  {
   "cell_type": "code",
   "execution_count": 24,
   "metadata": {},
   "outputs": [
    {
     "data": {
      "text/plain": [
       "array([0.70710678, 0.70710678])"
      ]
     },
     "execution_count": 24,
     "metadata": {},
     "output_type": "execute_result"
    }
   ],
   "source": [
    "np.dot(AAT,u[:,0])/25"
   ]
  },
  {
   "cell_type": "code",
   "execution_count": 25,
   "metadata": {},
   "outputs": [
    {
     "data": {
      "text/plain": [
       "array([0.70710678, 0.70710678])"
      ]
     },
     "execution_count": 25,
     "metadata": {},
     "output_type": "execute_result"
    }
   ],
   "source": [
    "u[:,0]"
   ]
  },
  {
   "cell_type": "code",
   "execution_count": 26,
   "metadata": {},
   "outputs": [
    {
     "data": {
      "text/plain": [
       "array([-0.70710678,  0.70710678])"
      ]
     },
     "execution_count": 26,
     "metadata": {},
     "output_type": "execute_result"
    }
   ],
   "source": [
    "np.dot(AAT,u[:,1])/9"
   ]
  },
  {
   "cell_type": "code",
   "execution_count": 27,
   "metadata": {},
   "outputs": [
    {
     "data": {
      "text/plain": [
       "array([-0.70710678,  0.70710678])"
      ]
     },
     "execution_count": 27,
     "metadata": {},
     "output_type": "execute_result"
    }
   ],
   "source": [
    "u[:,1]"
   ]
  },
  {
   "cell_type": "code",
   "execution_count": 28,
   "metadata": {},
   "outputs": [
    {
     "name": "stdout",
     "output_type": "stream",
     "text": [
      "[[2.50000000e+00 2.50000000e+00 1.29909325e-15]\n",
      " [2.50000000e+00 2.50000000e+00 1.29909325e-15]]\n",
      "[[ 0.5 -0.5  2. ]\n",
      " [-0.5  0.5 -2. ]]\n"
     ]
    }
   ],
   "source": [
    "c = []\n",
    "tot = np.zeros((2,3))\n",
    "for i in [0,1]:\n",
    "    k = s[i]*np.dot(np.array([u[:,i]]).T,np.array([v[i,:]]))\n",
    "    print(k)\n",
    "    c.append(k)\n",
    "    tot += k"
   ]
  },
  {
   "cell_type": "code",
   "execution_count": 29,
   "metadata": {},
   "outputs": [
    {
     "data": {
      "text/plain": [
       "[array([[2.50000000e+00, 2.50000000e+00, 1.29909325e-15],\n",
       "        [2.50000000e+00, 2.50000000e+00, 1.29909325e-15]]),\n",
       " array([[ 0.5, -0.5,  2. ],\n",
       "        [-0.5,  0.5, -2. ]])]"
      ]
     },
     "execution_count": 29,
     "metadata": {},
     "output_type": "execute_result"
    }
   ],
   "source": [
    "c"
   ]
  },
  {
   "cell_type": "code",
   "execution_count": 30,
   "metadata": {},
   "outputs": [
    {
     "data": {
      "text/plain": [
       "array([[ 3.,  2.,  2.],\n",
       "       [ 2.,  3., -2.]])"
      ]
     },
     "execution_count": 30,
     "metadata": {},
     "output_type": "execute_result"
    }
   ],
   "source": [
    "tot"
   ]
  },
  {
   "cell_type": "markdown",
   "metadata": {},
   "source": [
    "## Image compression using SVD"
   ]
  },
  {
   "cell_type": "code",
   "execution_count": 31,
   "metadata": {},
   "outputs": [
    {
     "data": {
      "text/plain": [
       "'/stmp/code/FIZ353/jupyter_notebook'"
      ]
     },
     "execution_count": 31,
     "metadata": {},
     "output_type": "execute_result"
    }
   ],
   "source": [
    "import os\n",
    "os.getcwd()"
   ]
  },
  {
   "cell_type": "code",
   "execution_count": 32,
   "metadata": {},
   "outputs": [],
   "source": [
    "# pip install Pillow\n",
    "from PIL import Image"
   ]
  },
  {
   "cell_type": "code",
   "execution_count": 33,
   "metadata": {},
   "outputs": [
    {
     "name": "stdout",
     "output_type": "stream",
     "text": [
      "(2171, 3000)\n"
     ]
    }
   ],
   "source": [
    "image = Image.open(\"../data/Solvay_conference_1927.jpg\")\n",
    "data = np.asarray(image)\n",
    "print(data.shape)"
   ]
  },
  {
   "cell_type": "code",
   "execution_count": 34,
   "metadata": {},
   "outputs": [
    {
     "name": "stdout",
     "output_type": "stream",
     "text": [
      "[[231 231 226 218 211 202 187 174 148 131]\n",
      " [227 228 225 219 212 202 186 171 145 130]\n",
      " [224 225 224 219 212 202 186 171 150 135]\n",
      " [224 224 222 216 211 203 189 176 162 148]\n",
      " [225 224 219 213 209 205 196 186 172 157]\n",
      " [223 222 216 210 208 208 201 193 176 161]\n",
      " [217 217 213 210 209 209 203 195 179 164]\n",
      " [211 212 212 210 211 210 203 194 183 167]\n",
      " [213 210 208 210 212 209 202 195 176 162]\n",
      " [205 205 205 209 212 209 201 194 174 162]]\n"
     ]
    }
   ],
   "source": [
    "print(data[0:10,0:10])"
   ]
  },
  {
   "cell_type": "code",
   "execution_count": 35,
   "metadata": {},
   "outputs": [],
   "source": [
    "image2 = Image.fromarray(data)\n",
    "im = image2.save('output/saved.jpg')"
   ]
  },
  {
   "cell_type": "code",
   "execution_count": 36,
   "metadata": {},
   "outputs": [
    {
     "data": {
      "text/plain": [
       "'L'"
      ]
     },
     "execution_count": 36,
     "metadata": {},
     "output_type": "execute_result"
    }
   ],
   "source": [
    "image.mode # 'L' for greyscale"
   ]
  },
  {
   "cell_type": "code",
   "execution_count": 37,
   "metadata": {},
   "outputs": [],
   "source": [
    "[u,s,vh]=np.linalg.svd(data)"
   ]
  },
  {
   "cell_type": "code",
   "execution_count": 38,
   "metadata": {},
   "outputs": [
    {
     "data": {
      "text/plain": [
       "(2171,)"
      ]
     },
     "execution_count": 38,
     "metadata": {},
     "output_type": "execute_result"
    }
   ],
   "source": [
    "s.shape"
   ]
  },
  {
   "cell_type": "code",
   "execution_count": 39,
   "metadata": {},
   "outputs": [
    {
     "data": {
      "text/plain": [
       "array([3.47512434e+05, 5.48806502e+04, 4.11336359e+04, ...,\n",
       "       3.73601343e+00, 3.71561252e+00, 3.64186396e+00])"
      ]
     },
     "execution_count": 39,
     "metadata": {},
     "output_type": "execute_result"
    }
   ],
   "source": [
    "s"
   ]
  },
  {
   "cell_type": "code",
   "execution_count": 40,
   "metadata": {},
   "outputs": [
    {
     "data": {
      "text/plain": [
       "1020"
      ]
     },
     "execution_count": 40,
     "metadata": {},
     "output_type": "execute_result"
    }
   ],
   "source": [
    "np.sum(s>100)"
   ]
  },
  {
   "cell_type": "code",
   "execution_count": 41,
   "metadata": {},
   "outputs": [
    {
     "data": {
      "text/plain": [
       "1853672.188755236"
      ]
     },
     "execution_count": 41,
     "metadata": {},
     "output_type": "execute_result"
    }
   ],
   "source": [
    "np.sum(s)"
   ]
  },
  {
   "cell_type": "code",
   "execution_count": 42,
   "metadata": {},
   "outputs": [
    {
     "name": "stdout",
     "output_type": "stream",
     "text": [
      "100\n"
     ]
    }
   ],
   "source": [
    "tot = np.sum(s)\n",
    "x = 70\n",
    "tot_xp = tot*x/100\n",
    "tot_aux = 0\n",
    "for i in range(s.shape[0]):\n",
    "    tot_aux += s[i]\n",
    "    if(tot_aux>tot_xp):\n",
    "        print(i)\n",
    "        break\n",
    "threshold = i  "
   ]
  },
  {
   "cell_type": "code",
   "execution_count": 43,
   "metadata": {},
   "outputs": [
    {
     "data": {
      "text/plain": [
       "(2171, 3000)"
      ]
     },
     "execution_count": 43,
     "metadata": {},
     "output_type": "execute_result"
    }
   ],
   "source": [
    "c = np.empty(data.shape)\n",
    "for i in range(threshold):\n",
    "    c += s[i]*np.dot(np.array([u[:,i]]).T,np.array([vh[i,:]]))\n",
    "c.shape"
   ]
  },
  {
   "cell_type": "code",
   "execution_count": 44,
   "metadata": {},
   "outputs": [],
   "source": [
    "image2 = Image.fromarray(c)\n",
    "image2 = image2.convert(\"L\")\n",
    "im = image2.save('output/compressed_x.jpg')"
   ]
  },
  {
   "cell_type": "code",
   "execution_count": 45,
   "metadata": {},
   "outputs": [
    {
     "data": {
      "text/plain": [
       "80.22007514761137"
      ]
     },
     "execution_count": 45,
     "metadata": {},
     "output_type": "execute_result"
    }
   ],
   "source": [
    "597.8/745.2*100"
   ]
  },
  {
   "cell_type": "code",
   "execution_count": 46,
   "metadata": {},
   "outputs": [
    {
     "data": {
      "text/plain": [
       "71.5780998389694"
      ]
     },
     "execution_count": 46,
     "metadata": {},
     "output_type": "execute_result"
    }
   ],
   "source": [
    "533.4/745.2*100"
   ]
  },
  {
   "cell_type": "code",
   "execution_count": 47,
   "metadata": {},
   "outputs": [
    {
     "name": "stdout",
     "output_type": "stream",
     "text": [
      "403\n",
      "187\n",
      "100\n",
      "56\n",
      "30\n",
      "15\n",
      "6\n",
      "1\n"
     ]
    }
   ],
   "source": [
    "for x in np.arange(90,10,-10):\n",
    "    tot_xp = tot*x/100\n",
    "    tot_aux = 0\n",
    "    for i in range(s.shape[0]):\n",
    "        tot_aux += s[i]\n",
    "        if(tot_aux>tot_xp):\n",
    "            print(i)\n",
    "            break\n",
    "    threshold = i\n",
    "    c = np.empty(data.shape)\n",
    "    for i in range(threshold):\n",
    "        c += s[i]*np.dot(np.array([u[:,i]]).T,np.array([vh[i,:]]))\n",
    "    # c.shape\n",
    "    image2 = Image.fromarray(c)\n",
    "    image2 = image2.convert(\"L\")\n",
    "    im = image2.save('output/compressed_{:4.2f}.jpg'.format(x/100))"
   ]
  },
  {
   "cell_type": "markdown",
   "metadata": {},
   "source": [
    "## Pseudo-Inverse ($A^+$)\n",
    "SVD can also be used to calculate the _pseudo-_inverse of a matrix which is not necessarily square. Given that $A$ is a $(m\\times n)$ matrix, its pseudo-inverse counterpart $A^+$ will be an $(n\\times m)$ matrix such that:\n",
    "\n",
    "$$A\\cdot A^+ \\approx \\mathbb{1}$$\n",
    "\n",
    "where $\\mathbb{1}$ is the $(m\\times m)$ identity matrix (_right inverse_). A similar definition is also present for a _left inverse_ where $A^+_{(n\\times m)} \\cdot A_{(m\\times n)} \\approx \\mathbb{1}_{(n\\times n)}$.\n",
    "\n",
    "Pseudo-inverse matrix can be calculated from:\n",
    "\n",
    "$$A^+ = VD^+U^T$$\n",
    "\n",
    "where $D^+$ indicates $\\{\\tfrac{1}{\\sigma_i}\\}$ of the non-zero elements of $D$. This equation is guaranteed to minimize the least squares error $|AA^+ - \\mathbb{1}_n|_2$."
   ]
  },
  {
   "cell_type": "markdown",
   "metadata": {},
   "source": [
    "**Example**  \n",
    "Pseudo-inverse of $A=\\begin{bmatrix}1 & 1\\\\1 & 1\\end{bmatrix}$"
   ]
  },
  {
   "cell_type": "code",
   "execution_count": 48,
   "metadata": {},
   "outputs": [
    {
     "data": {
      "text/plain": [
       "array([[-1.49044426e+16,  1.49044426e+16],\n",
       "       [ 1.49044426e+16, -1.49044426e+16]])"
      ]
     },
     "execution_count": 48,
     "metadata": {},
     "output_type": "execute_result"
    }
   ],
   "source": [
    "A = np.array([[1,1],[1,1]])\n",
    "[u,s,vh] = np.linalg.svd(A)\n",
    "\n",
    "s[s!=0] = 1/s[s!=0]\n",
    "D_p = np.diag(s)\n",
    "D_p\n",
    "\n",
    "A_pinv = np.linalg.multi_dot((vh.T,D_p.T,u.T))\n",
    "A_pinv"
   ]
  },
  {
   "cell_type": "code",
   "execution_count": 49,
   "metadata": {},
   "outputs": [
    {
     "data": {
      "text/plain": [
       "array([[ 2., -2.],\n",
       "       [ 2., -2.]])"
      ]
     },
     "execution_count": 49,
     "metadata": {},
     "output_type": "execute_result"
    }
   ],
   "source": [
    "np.dot(A,A_pinv)"
   ]
  },
  {
   "cell_type": "markdown",
   "metadata": {},
   "source": [
    "**Example**  \n",
    "Pseudo-inverse of $B=\\begin{bmatrix}1&2&3\\\\4&5&6\\end{bmatrix}$"
   ]
  },
  {
   "cell_type": "code",
   "execution_count": 50,
   "metadata": {
    "scrolled": true
   },
   "outputs": [
    {
     "data": {
      "text/plain": [
       "array([[1, 2, 3],\n",
       "       [4, 5, 6]])"
      ]
     },
     "execution_count": 50,
     "metadata": {},
     "output_type": "execute_result"
    }
   ],
   "source": [
    "B = np.arange(1,7).reshape(2,3)\n",
    "B"
   ]
  },
  {
   "cell_type": "code",
   "execution_count": 51,
   "metadata": {
    "scrolled": false
   },
   "outputs": [
    {
     "name": "stdout",
     "output_type": "stream",
     "text": [
      "[[-0.3863177   0.92236578]\n",
      " [-0.92236578 -0.3863177 ]] \n",
      " [9.508032   0.77286964] \n",
      " [[-0.42866713 -0.56630692 -0.7039467 ]\n",
      " [-0.80596391 -0.11238241  0.58119908]\n",
      " [ 0.40824829 -0.81649658  0.40824829]]\n",
      "[[0.10517424 0.         0.        ]\n",
      " [0.         1.29387927 0.        ]]\n"
     ]
    },
    {
     "data": {
      "text/plain": [
       "array([[-0.94444444,  0.44444444],\n",
       "       [-0.11111111,  0.11111111],\n",
       "       [ 0.72222222, -0.22222222]])"
      ]
     },
     "execution_count": 51,
     "metadata": {},
     "output_type": "execute_result"
    }
   ],
   "source": [
    "[u,s,vh] = np.linalg.svd(B)\n",
    "print(u,\"\\n\",s,\"\\n\",vh)\n",
    "s[s!=0] = 1/s[s!=0]\n",
    "D_p = np.diag(s,-1)\n",
    "D_p = D_p[[1,2],:]\n",
    "print(D_p)\n",
    "\n",
    "B_pinv = np.linalg.multi_dot((vh.T,D_p.T,u.T))\n",
    "B_pinv"
   ]
  },
  {
   "cell_type": "code",
   "execution_count": 52,
   "metadata": {},
   "outputs": [
    {
     "data": {
      "text/plain": [
       "array([[1.00000000e+00, 2.22044605e-16],\n",
       "       [0.00000000e+00, 1.00000000e+00]])"
      ]
     },
     "execution_count": 52,
     "metadata": {},
     "output_type": "execute_result"
    }
   ],
   "source": [
    "np.dot(B,B_pinv)"
   ]
  },
  {
   "cell_type": "markdown",
   "metadata": {},
   "source": [
    "# Principal Component Analysis (PCA)"
   ]
  },
  {
   "cell_type": "code",
   "execution_count": 53,
   "metadata": {},
   "outputs": [],
   "source": [
    "data = np.array([[ 1.    ,  4.9142],\n",
    "       [ 2.    ,  7.1201],\n",
    "       [ 3.    ,  8.8456],\n",
    "       [ 4.    , 10.8113],\n",
    "       [ 5.    , 13.2231]])"
   ]
  },
  {
   "cell_type": "code",
   "execution_count": 54,
   "metadata": {},
   "outputs": [],
   "source": [
    "import matplotlib.pyplot as plt"
   ]
  },
  {
   "cell_type": "code",
   "execution_count": 55,
   "metadata": {},
   "outputs": [
    {
     "data": {
      "image/png": "[encoded data removed]",
      "text/plain": [
       "<Figure size 432x288 with 1 Axes>"
      ]
     },
     "metadata": {
      "needs_background": "light"
     },
     "output_type": "display_data"
    }
   ],
   "source": [
    "plt.plot(data[:,0],data[:,1],\"ro\")\n",
    "plt.show()"
   ]
  },
  {
   "cell_type": "code",
   "execution_count": 56,
   "metadata": {},
   "outputs": [
    {
     "data": {
      "text/plain": [
       "array([3.     , 8.98286])"
      ]
     },
     "execution_count": 56,
     "metadata": {},
     "output_type": "execute_result"
    }
   ],
   "source": [
    "m = np.mean(data,0)\n",
    "m"
   ]
  },
  {
   "cell_type": "code",
   "execution_count": 57,
   "metadata": {},
   "outputs": [
    {
     "name": "stdout",
     "output_type": "stream",
     "text": [
      "[[ 2.5         5.07725   ]\n",
      " [ 5.07725    10.34138435]]\n",
      "------------\n",
      "[[ 2.5         5.07725   ]\n",
      " [ 5.07725    10.34138435]]\n"
     ]
    },
    {
     "data": {
      "image/png": "[encoded data removed]",
      "text/plain": [
       "<Figure size 432x288 with 1 Axes>"
      ]
     },
     "metadata": {
      "needs_background": "light"
     },
     "output_type": "display_data"
    }
   ],
   "source": [
    "data_2 = data - m\n",
    "S = np.dot(data_2.T,data_2)/4 # 4 factor is coming from 1/(n-1)\n",
    "plt.plot(data_2[:,0],data_2[:,1],\"ro\")\n",
    "print(S) \n",
    "print(\"------------\")\n",
    "Sigma = np.cov(data_2[:,0],data_2[:,1])\n",
    "print(Sigma)"
   ]
  },
  {
   "cell_type": "code",
   "execution_count": 58,
   "metadata": {
    "scrolled": true
   },
   "outputs": [
    {
     "name": "stdout",
     "output_type": "stream",
     "text": [
      "[[-0.4409138  -0.89754945]\n",
      " [-0.89754945  0.4409138 ]] \n",
      "\n",
      " [1.28355417e+01 5.84262991e-03] \n",
      "\n",
      " [[-0.4409138  -0.89754945]\n",
      " [-0.89754945  0.4409138 ]]\n"
     ]
    }
   ],
   "source": [
    "[u,s,vh]=np.linalg.svd(S)\n",
    "print(u,\"\\n\\n\",s,\"\\n\\n\",vh)"
   ]
  },
  {
   "cell_type": "code",
   "execution_count": 59,
   "metadata": {},
   "outputs": [
    {
     "data": {
      "text/plain": [
       "0.04549844277505009"
      ]
     },
     "execution_count": 59,
     "metadata": {},
     "output_type": "execute_result"
    }
   ],
   "source": [
    "s[1]/np.sum(s)*100"
   ]
  },
  {
   "cell_type": "code",
   "execution_count": 60,
   "metadata": {},
   "outputs": [
    {
     "data": {
      "text/plain": [
       "0.9999999999999999"
      ]
     },
     "execution_count": 60,
     "metadata": {},
     "output_type": "execute_result"
    }
   ],
   "source": [
    "np.linalg.norm(u[:,1])"
   ]
  },
  {
   "cell_type": "markdown",
   "metadata": {},
   "source": [
    "$$A=U\\cdot S\\cdot U^T$$"
   ]
  },
  {
   "cell_type": "code",
   "execution_count": 61,
   "metadata": {},
   "outputs": [
    {
     "data": {
      "text/plain": [
       "-1.1102230246251565e-16"
      ]
     },
     "execution_count": 61,
     "metadata": {},
     "output_type": "execute_result"
    }
   ],
   "source": [
    "u1=u[:,0]\n",
    "u2=u[:,1]\n",
    "np.dot(u1,u2)"
   ]
  },
  {
   "cell_type": "code",
   "execution_count": 62,
   "metadata": {},
   "outputs": [
    {
     "data": {
      "text/plain": [
       "array([-0.4409138 , -0.89754945])"
      ]
     },
     "execution_count": 62,
     "metadata": {},
     "output_type": "execute_result"
    }
   ],
   "source": [
    "u1 # principal axis"
   ]
  },
  {
   "cell_type": "code",
   "execution_count": 63,
   "metadata": {},
   "outputs": [
    {
     "name": "stdout",
     "output_type": "stream",
     "text": [
      "2.0356574372127882 -0.491241788387144\n"
     ]
    }
   ],
   "source": [
    "m1=u1[1]/u1[0]\n",
    "m2=u2[1]/u2[0]\n",
    "print(m1,m2)"
   ]
  },
  {
   "cell_type": "code",
   "execution_count": 64,
   "metadata": {},
   "outputs": [
    {
     "data": {
      "text/plain": [
       "array([[-2.     , -4.06866],\n",
       "       [-1.     , -1.86276],\n",
       "       [ 0.     , -0.13726],\n",
       "       [ 1.     ,  1.82844],\n",
       "       [ 2.     ,  4.24024]])"
      ]
     },
     "execution_count": 64,
     "metadata": {},
     "output_type": "execute_result"
    }
   ],
   "source": [
    "data_2"
   ]
  },
  {
   "cell_type": "code",
   "execution_count": 65,
   "metadata": {},
   "outputs": [
    {
     "data": {
      "image/png": "[encoded data removed]",
      "text/plain": [
       "<Figure size 432x288 with 1 Axes>"
      ]
     },
     "metadata": {
      "needs_background": "light"
     },
     "output_type": "display_data"
    }
   ],
   "source": [
    "x=np.linspace(-4,4,30)\n",
    "y1 = m1*x\n",
    "y2 = m2*x\n",
    "fig = plt.figure()\n",
    "ax = fig.add_subplot(111)\n",
    "ax.set_aspect('equal','datalim')\n",
    "plt.plot(data_2[:,0],data_2[:,1],\"ro\",x,y1,\"b-\",x,y2,\"g-\")\n",
    "\n",
    "plt.show()"
   ]
  },
  {
   "cell_type": "code",
   "execution_count": 66,
   "metadata": {},
   "outputs": [
    {
     "data": {
      "image/png": "[encoded data removed]",
      "text/plain": [
       "<Figure size 432x288 with 1 Axes>"
      ]
     },
     "metadata": {
      "needs_background": "light"
     },
     "output_type": "display_data"
    }
   ],
   "source": [
    "fig,ax1 = plt.subplots(1,1)\n",
    "ax1.set_aspect('equal','datalim')\n",
    "plt.plot(data[:,0],data[:,1],\"ro\",x+m[0],y1+m[1],\"b-\",\n",
    "         x+m[0],y2+m[1],\"g-\")\n",
    "plt.show()"
   ]
  },
  {
   "cell_type": "code",
   "execution_count": 67,
   "metadata": {},
   "outputs": [
    {
     "data": {
      "text/plain": [
       "99.95450155722494"
      ]
     },
     "execution_count": 67,
     "metadata": {},
     "output_type": "execute_result"
    }
   ],
   "source": [
    "#s1_contribution \n",
    "s[0]/np.sum(s)*100"
   ]
  },
  {
   "cell_type": "markdown",
   "metadata": {},
   "source": [
    "## References & Further reading/watching:\n",
    "* **Steven Chapra's Applied Numerical Methods with MATLAB: for Engineers & Scientists**\n",
    "* Zach Star, [\"The Applications of Matrices | What I wish my teachers told me way earlier\"](https://www.youtube.com/watch?v=rowWM-MijXU)\n",
    "* Luis Serrano, [\"How does Netflix recommend movies? Matrix Factorization\"](https://www.youtube.com/watch?v=ZspR5PZemcs)\n",
    "* **Jonathan Hui, [\"Machine Learning — Singular Value Decomposition (SVD) & Principal Component Analysis (PCA)\"](https://jonathan-hui.medium.com/machine-learning-singular-value-decomposition-svd-principal-component-analysis-pca-1d45e885e491)**\n",
    "* **Tamara Kolda, [\"Tensor Decomposition\"](https://www.youtube.com/watch?v=L8uT6hgMt00)**\n",
    "* Tamara Kolda & Brett W. Bader, [\"Tensor Decompositions and Applications\", SIAM Review 51(3) 455-500 (2009)| doi: 10.1137/07070111X](http://dx.doi.org/10.1137/07070111X)\n",
    "* **Gilbert Strang, [\"Singular Value Decomposition\"](https://www.youtube.com/watch?v=mBcLRGuAFUk)**\n",
    "* Isao Tanaka, [\"Data Driven Discovery of New Materials\"](https://www.youtube.com/watch?v=XDn3al94xHk)\n",
    "* EST, [\"FİZ219 - Bilgisayar Programlama I | Uygulama Notları #10 : Gauss eleme yöntemi ile n bilinmeyenli n -doğrusal- denklemin çözümü\"](https://emresururi.github.io/FIZ219/FIZ219_EST_UygulamaNotlari_10_Gauss_Eleme_Yontemi_ile_nxn_Dogrusal_Denklem_Cozumu.html)\n",
    "* StatQuest, [\"Principal Component Analysis (PCA)\"](https://www.youtube.com/watch?v=FgakZw6K1QQ)"
   ]
  }
 ],
 "metadata": {
  "kernelspec": {
   "display_name": "Python 3",
   "language": "python",
   "name": "python3"
  },
  "language_info": {
   "codemirror_mode": {
    "name": "ipython",
    "version": 3
   },
   "file_extension": ".py",
   "mimetype": "text/x-python",
   "name": "python",
   "nbconvert_exporter": "python",
   "pygments_lexer": "ipython3",
   "version": "3.8.5"
  }
 },
 "nbformat": 4,
 "nbformat_minor": 4
}
